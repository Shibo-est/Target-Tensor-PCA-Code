{
 "cells": [
  {
   "cell_type": "code",
   "execution_count": 1,
   "id": "ffab66d0",
   "metadata": {},
   "outputs": [],
   "source": [
    "import numpy as np\n",
    "import pandas as pd"
   ]
  },
  {
   "cell_type": "code",
   "execution_count": null,
   "id": "b2a5f07f",
   "metadata": {},
   "outputs": [],
   "source": [
    "data_m = pd.read_csv('/Users/shiboli/Downloads/2024-04-md.csv', index_col='sasdate')\n",
    "trans_m = data_m.loc['Transform:']\n",
    "data_m = data_m.drop(['Transform:'])\n",
    "data_m.loc[:, trans_m==2.0] = data_m.loc[:, trans_m==2.0].diff(periods=1)\n",
    "data_m.loc[:, trans_m==3.0] = data_m.loc[:, trans_m==3.0].diff(periods=2)\n",
    "data_m.loc[:, trans_m==4.0] = np.log(data_m.loc[:, trans_m==4.0])\n",
    "data_m.loc[:, trans_m==5.0] = np.log(data_m.loc[:, trans_m==5.0]).diff(periods=1)\n",
    "data_m.loc[:, trans_m==6.0] = np.log(data_m.loc[:, trans_m==6.0]).diff(periods=2)\n",
    "data_m.loc[:, trans_m==7.0] = (data_m.loc[:, trans_m==7.0].div(\n",
    "    data_m.loc[:, trans_m==7.0].shift())-1).diff(periods=1)"
   ]
  },
  {
   "cell_type": "code",
   "execution_count": null,
   "id": "20d32179",
   "metadata": {},
   "outputs": [],
   "source": [
    "data_q = pd.read_csv('/Users/shiboli/Downloads/2024-04-qd.csv', index_col='sasdate')\n",
    "trans_q = data_q.loc['transform']\n",
    "data_q = data_q.drop(['factors', 'transform'])\n",
    "data_q.loc[:, trans_q==2.0] = data_q.loc[:, trans_q==2.0].diff(periods=1)\n",
    "data_q.loc[:, trans_q==3.0] = data_q.loc[:, trans_q==3.0].diff(periods=2)\n",
    "data_q.loc[:, trans_q==4.0] = np.log(data_q.loc[:, trans_q==4.0])\n",
    "data_q.loc[:, trans_q==5.0] = np.log(data_q.loc[:, trans_q==5.0]).diff(periods=1)\n",
    "data_q.loc[:, trans_q==6.0] = np.log(data_q.loc[:, trans_q==6.0]).diff(periods=2)\n",
    "data_q.loc[:, trans_q==7.0] = (data_q.loc[:, trans_q==7.0].div(\n",
    "    data_q.loc[:, trans_q==7.0].shift())-1).diff(periods=1)"
   ]
  },
  {
   "cell_type": "code",
   "execution_count": null,
   "id": "916da10f",
   "metadata": {},
   "outputs": [],
   "source": [
    "data_m = pd.read_csv('/Users/shiboli/Downloads/2024-04-md.csv', index_col='sasdate')\n",
    "data_q = pd.read_csv('/Users/shiboli/Downloads/2024-04-qd.csv', index_col='sasdate')"
   ]
  }
 ],
 "metadata": {
  "kernelspec": {
   "display_name": "Python 3 (ipykernel)",
   "language": "python",
   "name": "python3"
  },
  "language_info": {
   "codemirror_mode": {
    "name": "ipython",
    "version": 3
   },
   "file_extension": ".py",
   "mimetype": "text/x-python",
   "name": "python",
   "nbconvert_exporter": "python",
   "pygments_lexer": "ipython3",
   "version": "3.11.7"
  }
 },
 "nbformat": 4,
 "nbformat_minor": 5
}
