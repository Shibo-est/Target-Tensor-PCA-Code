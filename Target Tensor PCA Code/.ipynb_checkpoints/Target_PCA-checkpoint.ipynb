{
 "cells": [
  {
   "cell_type": "code",
   "execution_count": 1,
   "id": "9547e623",
   "metadata": {},
   "outputs": [],
   "source": [
    "import numpy as np\n",
    "import pandas as pd\n",
    "from functools import reduce\n",
    "from scipy.stats import ortho_group\n",
    "import copy\n",
    "from itertools import product\n",
    "import datetime\n",
    "from dateutil.relativedelta import relativedelta\n",
    "from ast import literal_eval\n",
    "from scipy import linalg\n",
    "from scipy.stats import ortho_group\n",
    "import matplotlib\n",
    "import matplotlib.pyplot as plt\n",
    "import matplotlib.dates as mdate\n",
    "import plotly.express as px\n",
    "import plotly\n",
    "\n",
    "\n",
    "np.set_printoptions(precision=8, suppress=True)"
   ]
  },
  {
   "cell_type": "code",
   "execution_count": 2,
   "id": "0a66d851",
   "metadata": {},
   "outputs": [],
   "source": [
    "def TT_PCA(Y, X, gamma, r): # 20240717\n",
    "    N_Y = Y.shape[-1]\n",
    "    (T, K, N_X) = X.shape\n",
    "    \n",
    "    Lambda_X_est = np.zeros((N_X, r))\n",
    "    W_est = np.zeros((K, r))\n",
    "\n",
    "    Z = np.column_stack((X.reshape((T, -1), order='F'), np.sqrt(gamma) * Y))\n",
    "    Sigma_Z = np.cov(Z.T)\n",
    "    eign_value, Lambda_gamma = np.linalg.eig(Sigma_Z)\n",
    "    Lambda_gamma = np.real_if_close(Lambda_gamma, 1)\n",
    "    eign_value = np.real_if_close(eign_value)\n",
    "    Lambda_gamma_est = Lambda_gamma[:, np.flip(np.argsort(eign_value))[:r]]\n",
    "\n",
    "    G_est = Z @ Lambda_gamma_est @ np.linalg.inv(Lambda_gamma_est.T @ Lambda_gamma_est)\n",
    "    \n",
    "    for i in range(r):\n",
    "        H_iM = Lambda_gamma_est[N_Y:, i].reshape((K, N_X), order='F')\n",
    "        Lambda_X_est\n",
    "    \n",
    "\n",
    "    for i in range(r):\n",
    "        H_iM = Lambda_gamma_est[N_Y:, i].reshape((K, N_X), order='F')\n",
    "        U, S, Vh = np.linalg.svd(H_iM)\n",
    "\n",
    "        max_index = np.flip(np.argsort(eign_value))[0]\n",
    "        Lambda_X_est[:, i] = Vh[max_index,:]\n",
    "        W_est[:, i] = U[:, max_index]*S[max_index]\n",
    "\n",
    "            \n",
    "    Ux, Sx, Vhx  = np.linalg.svd(Lambda_X_est)\n",
    "    Lambda_X_est = Ux[:, np.flip(np.argsort(Sx))[:r]]\n",
    "    W_est = W_est@np.diag(1/np.flip(np.sort(Sx))[:r])@Vhx[np.flip(np.argsort(Sx))[:r],:]\n",
    "    \n",
    "    return Lambda_gamma_est, Lambda_X_est, W_est, G_est"
   ]
  },
  {
   "cell_type": "code",
   "execution_count": 3,
   "id": "f1f1d99a",
   "metadata": {},
   "outputs": [],
   "source": [
    "def TT_PCA_ALS(Y, X, gamma, r, Lambda_X_ini, W_ini, max_iter=1000, stop_thresh = 1e-1):\n",
    "    N_Y = Y.shape[-1]\n",
    "    (T, K, N_X) = X.shape\n",
    "    \n",
    "    Z = np.column_stack((X.reshape((T,-1), order = 'F'), np.sqrt(gamma)*Y))\n",
    "    Sigma_Z = np.cov(Z.T)\n",
    "    eign_value, Lambda_gamma = np.linalg.eig(Sigma_Z)\n",
    "    Lambda_gamma = np.real_if_close(Lambda_gamma, 1)\n",
    "    eign_value = np.real_if_close(eign_value)\n",
    "    Lambda_gamma_est = Lambda_gamma[:, np.flip(np.argsort(eign_value))[:r]]\n",
    "    \n",
    "    G = Z @ Lambda_gamma_est @ np.linalg.inv(Lambda_gamma_est.T@Lambda_gamma_est)\n",
    "    \n",
    "    update_magnitude = np.zeros(2)\n",
    "    Lambda_X_est = Lambda_X_ini\n",
    "    W_est = W_ini\n",
    "    weight = np.zeros(r)\n",
    "    for iter_num in range(max_iter):\n",
    "        Lambda_X_pre = Lambda_X_est.copy()\n",
    "        W_pre = W_est.copy()\n",
    "        for i in range(r):\n",
    "            H_iM = Lambda_gamma_est[N_Y:, i].reshape((K, N_X), order = 'F')\n",
    "            \n",
    "            Lambda_X_est[:, i] = W_est[:,i].T@H_iM\n",
    "            Lambda_X_est[:, i] = Lambda_X_est[:, i]/np.linalg.norm(Lambda_X_est[:, i])\n",
    "            \n",
    "            W_est[:, i] = H_iM @ Lambda_X_est[:, i]\n",
    "            W_est[:, i] = W_est[:, i]/np.linalg.norm(W_est[:, i])\n",
    "            \n",
    "            weight[i] = W_est[:,i].T @ H_iM @ Lambda_X_est[:, i]\n",
    "            \n",
    "            update_magnitude[0] += (np.linalg.norm(Lambda_X_est[:, i] - Lambda_X_pre[:, i])) ** 2\n",
    "            update_magnitude[1] += (np.linalg.norm(W_est[:, i] - W_pre[:, i])) ** 2 \n",
    "        \n",
    "        if (update_magnitude[0] < stop_thresh) and (update_magnitude[1] < stop_thresh):\n",
    "            W_est = W_est @ weight\n",
    "            break\n",
    "                                    \n",
    "    return Lambda_gamma_est, Lambda_X_est, W_est, G\n"
   ]
  },
  {
   "cell_type": "code",
   "execution_count": 4,
   "id": "60df85ac",
   "metadata": {},
   "outputs": [],
   "source": [
    "def DGP(T, N_Y, N_X, K, r, gamma, burn=200):\n",
    "    Lamma_Y = ortho_group.rvs(dim=N_Y)[:, :r]/np.sqrt(gamma)*np.sqrt(N_Y+K*N_X)\n",
    "    Lamma_X = ortho_group.rvs(dim=N_X)[:, :r]*np.sqrt(N_Y+K*N_X)\n",
    "    W = np.random.rand(K,r)-0.5\n",
    "    W = W/np.linalg.norm(W, axis=0)\n",
    "    \n",
    "    phi_G = np.random.rand(r)-0.5\n",
    "    G = np.zeros((T+burn, r))\n",
    "    for t in range(T + burn - 1):\n",
    "        noise = np.random.normal(loc=0.0, scale=1, size=r)\n",
    "        G[t+1, :] = np.einsum('..., ...->...', phi_G, G[t, :])+noise\n",
    "    G = G[burn:, :]\n",
    "    \n",
    "    # Y = G @ Lamma_Y.T + np.random.normal(loc=0.0, scale=1, size=(T, N_Y))\n",
    "    Y = np.zeros((T, K, N_Y))\n",
    "    for i in range(r):\n",
    "        Y += np.einsum('ij,k->ijk', np.outer(G[:, i], W[:,i]), Lamma_Y[:,i])\n",
    "    \n",
    "    Y += np.random.normal(loc=0.0, scale=1, size=(T, K, N_Y))\n",
    "    \n",
    "    X = np.zeros((T, K, N_X))\n",
    "    for i in range(r):\n",
    "        X += np.einsum('ij,k->ijk', np.outer(G[:, i], W[:,i]), Lamma_X[:,i])\n",
    "    \n",
    "    X += np.random.normal(loc=0.0, scale=1, size=(T, K, N_X))\n",
    "        \n",
    "    return Y, X, G, Lamma_Y, W, Lamma_X"
   ]
  },
  {
   "cell_type": "code",
   "execution_count": 5,
   "id": "dfd40e2c",
   "metadata": {},
   "outputs": [],
   "source": [
    "data_m = pd.read_csv('2024-04-md.csv', index_col='sasdate')\n",
    "trans_m = data_m.loc['Transform:']\n",
    "data_m = data_m.drop(['Transform:'])\n",
    "data_m.loc[:, trans_m==2.0] = data_m.loc[:, trans_m==2.0].diff(periods=1)\n",
    "data_m.loc[:, trans_m==3.0] = data_m.loc[:, trans_m==3.0].diff(periods=2)\n",
    "data_m.loc[:, trans_m==4.0] = np.log(data_m.loc[:, trans_m==4.0])\n",
    "data_m.loc[:, trans_m==5.0] = np.log(data_m.loc[:, trans_m==5.0]).diff(periods=1)\n",
    "data_m.loc[:, trans_m==6.0] = np.log(data_m.loc[:, trans_m==6.0]).diff(periods=2)\n",
    "data_m.loc[:, trans_m==7.0] = (data_m.loc[:, trans_m==7.0].div(\n",
    "    data_m.loc[:, trans_m==7.0].shift())-1).diff(periods=1)"
   ]
  },
  {
   "cell_type": "code",
   "execution_count": 6,
   "id": "496a7bd9",
   "metadata": {},
   "outputs": [],
   "source": [
    "data_q = pd.read_csv('2024-04-qd.csv', index_col='sasdate')\n",
    "trans_q = data_q.loc['transform']\n",
    "data_q = data_q.drop(['factors', 'transform'])\n",
    "data_q.loc[:, trans_q==2.0] = data_q.loc[:, trans_q==2.0].diff(periods=1)\n",
    "data_q.loc[:, trans_q==3.0] = data_q.loc[:, trans_q==3.0].diff(periods=2)\n",
    "data_q.loc[:, trans_q==4.0] = np.log(data_q.loc[:, trans_q==4.0])\n",
    "data_q.loc[:, trans_q==5.0] = np.log(data_q.loc[:, trans_q==5.0]).diff(periods=1)\n",
    "data_q.loc[:, trans_q==6.0] = np.log(data_q.loc[:, trans_q==6.0]).diff(periods=2)\n",
    "data_q.loc[:, trans_q==7.0] = (data_q.loc[:, trans_q==7.0].div(\n",
    "    data_q.loc[:, trans_q==7.0].shift())-1).diff(periods=1)"
   ]
  },
  {
   "cell_type": "code",
   "execution_count": 7,
   "id": "d39a1f63",
   "metadata": {},
   "outputs": [],
   "source": [
    "include_column_q = []\n",
    "for signal in range(data_q.shape[1]):\n",
    "    if data_q.iloc[32:, signal:(signal+1)].notna().all().all():\n",
    "        include_column_q += list([signal])\n",
    "        \n",
    "include_column_m = []\n",
    "for signal in range(data_m.shape[1]):\n",
    "    if data_m.iloc[32*3:, signal:(signal+1)].notna().all().all():\n",
    "        include_column_m += list([signal])"
   ]
  },
  {
   "cell_type": "code",
   "execution_count": 8,
   "id": "e1c782b6",
   "metadata": {},
   "outputs": [],
   "source": [
    "df_q = data_q.iloc[:, include_column_q] #64:148\n",
    "#df_m = np.swapaxes(data_m.iloc[192*3:, include_column_m].to_numpy().reshape((-1,12,112), order='F'), 0,2)\n",
    "df_y = data_q.groupby(pd.to_datetime(data_q.index).year).sum()\n",
    "df_y = df_y.iloc[48:-1, include_column_q] # 16:37 48:-1\n",
    "df_y.index = pd.to_datetime(df_y.index, format= '%Y').date+ relativedelta(months=+11)\n",
    "df_y.index = pd.to_datetime(df_y.index)\n",
    "df_m = np.swapaxes(data_m.iloc[48*12:-3 , include_column_m].to_numpy().reshape((-1, 12, 112), order='F'), 0,2)"
   ]
  },
  {
   "cell_type": "code",
   "execution_count": 9,
   "id": "65cffc3b",
   "metadata": {},
   "outputs": [
    {
     "data": {
      "text/plain": [
       "Index(['3/1/1975', '6/1/1975', '9/1/1975', '12/1/1975', '3/1/1976', '6/1/1976',\n",
       "       '9/1/1976', '12/1/1976', '3/1/1977', '6/1/1977', '9/1/1977',\n",
       "       '12/1/1977', '3/1/1978', '6/1/1978', '9/1/1978', '12/1/1978',\n",
       "       '3/1/1979', '6/1/1979', '9/1/1979', '12/1/1979', '3/1/1980', '6/1/1980',\n",
       "       '9/1/1980', '12/1/1980', '3/1/1981', '6/1/1981', '9/1/1981',\n",
       "       '12/1/1981', '3/1/1982', '6/1/1982', '9/1/1982', '12/1/1982',\n",
       "       '3/1/1983', '6/1/1983', '9/1/1983', '12/1/1983', '3/1/1984', '6/1/1984',\n",
       "       '9/1/1984', '12/1/1984', '3/1/1985', '6/1/1985', '9/1/1985',\n",
       "       '12/1/1985', '3/1/1986', '6/1/1986', '9/1/1986', '12/1/1986',\n",
       "       '3/1/1987', '6/1/1987', '9/1/1987', '12/1/1987', '3/1/1988', '6/1/1988',\n",
       "       '9/1/1988', '12/1/1988', '3/1/1989', '6/1/1989', '9/1/1989',\n",
       "       '12/1/1989', '3/1/1990', '6/1/1990', '9/1/1990', '12/1/1990',\n",
       "       '3/1/1991', '6/1/1991', '9/1/1991', '12/1/1991', '3/1/1992', '6/1/1992',\n",
       "       '9/1/1992', '12/1/1992', '3/1/1993', '6/1/1993', '9/1/1993',\n",
       "       '12/1/1993', '3/1/1994', '6/1/1994', '9/1/1994', '12/1/1994',\n",
       "       '3/1/1995', '6/1/1995', '9/1/1995', '12/1/1995'],\n",
       "      dtype='object', name='sasdate')"
      ]
     },
     "execution_count": 9,
     "metadata": {},
     "output_type": "execute_result"
    }
   ],
   "source": [
    "df_q.index[16*4:37*4]"
   ]
  },
  {
   "cell_type": "code",
   "execution_count": 10,
   "id": "e3ee7126",
   "metadata": {},
   "outputs": [
    {
     "data": {
      "text/html": [
       "<div>\n",
       "<style scoped>\n",
       "    .dataframe tbody tr th:only-of-type {\n",
       "        vertical-align: middle;\n",
       "    }\n",
       "\n",
       "    .dataframe tbody tr th {\n",
       "        vertical-align: top;\n",
       "    }\n",
       "\n",
       "    .dataframe thead th {\n",
       "        text-align: right;\n",
       "    }\n",
       "</style>\n",
       "<table border=\"1\" class=\"dataframe\">\n",
       "  <thead>\n",
       "    <tr style=\"text-align: right;\">\n",
       "      <th></th>\n",
       "      <th>GDPC1</th>\n",
       "      <th>PCECC96</th>\n",
       "      <th>PCDGx</th>\n",
       "      <th>PCESVx</th>\n",
       "      <th>PCNDx</th>\n",
       "      <th>GPDIC1</th>\n",
       "      <th>FPIx</th>\n",
       "      <th>Y033RC1Q027SBEAx</th>\n",
       "      <th>PNFIx</th>\n",
       "      <th>PRFIx</th>\n",
       "      <th>...</th>\n",
       "      <th>ISRATIOx</th>\n",
       "      <th>CONSPIx</th>\n",
       "      <th>PERMITNE</th>\n",
       "      <th>PERMITMW</th>\n",
       "      <th>PERMITS</th>\n",
       "      <th>PERMITW</th>\n",
       "      <th>NIKKEI225</th>\n",
       "      <th>S&amp;P 500</th>\n",
       "      <th>S&amp;P div yield</th>\n",
       "      <th>S&amp;P PE ratio</th>\n",
       "    </tr>\n",
       "    <tr>\n",
       "      <th>sasdate</th>\n",
       "      <th></th>\n",
       "      <th></th>\n",
       "      <th></th>\n",
       "      <th></th>\n",
       "      <th></th>\n",
       "      <th></th>\n",
       "      <th></th>\n",
       "      <th></th>\n",
       "      <th></th>\n",
       "      <th></th>\n",
       "      <th></th>\n",
       "      <th></th>\n",
       "      <th></th>\n",
       "      <th></th>\n",
       "      <th></th>\n",
       "      <th></th>\n",
       "      <th></th>\n",
       "      <th></th>\n",
       "      <th></th>\n",
       "      <th></th>\n",
       "      <th></th>\n",
       "    </tr>\n",
       "  </thead>\n",
       "  <tbody>\n",
       "    <tr>\n",
       "      <th>3/1/2007</th>\n",
       "      <td>0.003004</td>\n",
       "      <td>0.006149</td>\n",
       "      <td>0.013395</td>\n",
       "      <td>0.005695</td>\n",
       "      <td>0.003365</td>\n",
       "      <td>-0.006476</td>\n",
       "      <td>-0.000906</td>\n",
       "      <td>0.013770</td>\n",
       "      <td>0.017848</td>\n",
       "      <td>-0.046268</td>\n",
       "      <td>...</td>\n",
       "      <td>-0.0066</td>\n",
       "      <td>-0.0016</td>\n",
       "      <td>0.043621</td>\n",
       "      <td>0.020676</td>\n",
       "      <td>-0.026159</td>\n",
       "      <td>0.089253</td>\n",
       "      <td>0.053208</td>\n",
       "      <td>0.025455</td>\n",
       "      <td>0.0023</td>\n",
       "      <td>-0.017682</td>\n",
       "    </tr>\n",
       "    <tr>\n",
       "      <th>6/1/2007</th>\n",
       "      <td>0.006099</td>\n",
       "      <td>0.002621</td>\n",
       "      <td>0.010433</td>\n",
       "      <td>0.002784</td>\n",
       "      <td>-0.002137</td>\n",
       "      <td>0.009587</td>\n",
       "      <td>0.004687</td>\n",
       "      <td>0.013864</td>\n",
       "      <td>0.021953</td>\n",
       "      <td>-0.040397</td>\n",
       "      <td>...</td>\n",
       "      <td>-0.0167</td>\n",
       "      <td>0.0000</td>\n",
       "      <td>-0.073796</td>\n",
       "      <td>-0.094356</td>\n",
       "      <td>-0.078291</td>\n",
       "      <td>-0.150327</td>\n",
       "      <td>0.018005</td>\n",
       "      <td>0.048626</td>\n",
       "      <td>-0.0403</td>\n",
       "      <td>0.001547</td>\n",
       "    </tr>\n",
       "    <tr>\n",
       "      <th>9/1/2007</th>\n",
       "      <td>0.005744</td>\n",
       "      <td>0.006649</td>\n",
       "      <td>0.012098</td>\n",
       "      <td>0.006854</td>\n",
       "      <td>0.003127</td>\n",
       "      <td>-0.011557</td>\n",
       "      <td>-0.005682</td>\n",
       "      <td>0.005264</td>\n",
       "      <td>0.015569</td>\n",
       "      <td>-0.065894</td>\n",
       "      <td>...</td>\n",
       "      <td>0.0033</td>\n",
       "      <td>0.0012</td>\n",
       "      <td>-0.044750</td>\n",
       "      <td>-0.100873</td>\n",
       "      <td>-0.138353</td>\n",
       "      <td>-0.057944</td>\n",
       "      <td>-0.045330</td>\n",
       "      <td>-0.003687</td>\n",
       "      <td>0.0578</td>\n",
       "      <td>-0.027689</td>\n",
       "    </tr>\n",
       "    <tr>\n",
       "      <th>12/1/2007</th>\n",
       "      <td>0.006263</td>\n",
       "      <td>0.003933</td>\n",
       "      <td>0.007337</td>\n",
       "      <td>0.004980</td>\n",
       "      <td>-0.000839</td>\n",
       "      <td>-0.011520</td>\n",
       "      <td>-0.009531</td>\n",
       "      <td>0.006200</td>\n",
       "      <td>0.015303</td>\n",
       "      <td>-0.087072</td>\n",
       "      <td>...</td>\n",
       "      <td>-0.0133</td>\n",
       "      <td>0.0002</td>\n",
       "      <td>-0.056486</td>\n",
       "      <td>-0.106651</td>\n",
       "      <td>-0.079346</td>\n",
       "      <td>-0.160914</td>\n",
       "      <td>-0.053065</td>\n",
       "      <td>0.002193</td>\n",
       "      <td>0.0482</td>\n",
       "      <td>0.004001</td>\n",
       "    </tr>\n",
       "    <tr>\n",
       "      <th>3/1/2008</th>\n",
       "      <td>-0.004277</td>\n",
       "      <td>-0.001372</td>\n",
       "      <td>-0.033026</td>\n",
       "      <td>0.006573</td>\n",
       "      <td>-0.007804</td>\n",
       "      <td>-0.027718</td>\n",
       "      <td>-0.015459</td>\n",
       "      <td>-0.005116</td>\n",
       "      <td>0.003963</td>\n",
       "      <td>-0.083188</td>\n",
       "      <td>...</td>\n",
       "      <td>0.0067</td>\n",
       "      <td>-0.0004</td>\n",
       "      <td>-0.145712</td>\n",
       "      <td>-0.166216</td>\n",
       "      <td>-0.094236</td>\n",
       "      <td>-0.258808</td>\n",
       "      <td>-0.187978</td>\n",
       "      <td>-0.101272</td>\n",
       "      <td>0.2428</td>\n",
       "      <td>-0.058605</td>\n",
       "    </tr>\n",
       "    <tr>\n",
       "      <th>...</th>\n",
       "      <td>...</td>\n",
       "      <td>...</td>\n",
       "      <td>...</td>\n",
       "      <td>...</td>\n",
       "      <td>...</td>\n",
       "      <td>...</td>\n",
       "      <td>...</td>\n",
       "      <td>...</td>\n",
       "      <td>...</td>\n",
       "      <td>...</td>\n",
       "      <td>...</td>\n",
       "      <td>...</td>\n",
       "      <td>...</td>\n",
       "      <td>...</td>\n",
       "      <td>...</td>\n",
       "      <td>...</td>\n",
       "      <td>...</td>\n",
       "      <td>...</td>\n",
       "      <td>...</td>\n",
       "      <td>...</td>\n",
       "      <td>...</td>\n",
       "    </tr>\n",
       "    <tr>\n",
       "      <th>3/1/2023</th>\n",
       "      <td>0.005548</td>\n",
       "      <td>0.009281</td>\n",
       "      <td>0.032696</td>\n",
       "      <td>0.007701</td>\n",
       "      <td>0.001234</td>\n",
       "      <td>-0.023636</td>\n",
       "      <td>0.007574</td>\n",
       "      <td>-0.010526</td>\n",
       "      <td>0.013946</td>\n",
       "      <td>-0.013741</td>\n",
       "      <td>...</td>\n",
       "      <td>-0.0033</td>\n",
       "      <td>-0.0015</td>\n",
       "      <td>-0.065212</td>\n",
       "      <td>-0.082663</td>\n",
       "      <td>-0.031603</td>\n",
       "      <td>0.017645</td>\n",
       "      <td>-0.002614</td>\n",
       "      <td>0.038450</td>\n",
       "      <td>-0.0306</td>\n",
       "      <td>0.069501</td>\n",
       "    </tr>\n",
       "    <tr>\n",
       "      <th>6/1/2023</th>\n",
       "      <td>0.005098</td>\n",
       "      <td>0.002003</td>\n",
       "      <td>-0.000820</td>\n",
       "      <td>0.002409</td>\n",
       "      <td>0.002296</td>\n",
       "      <td>0.012643</td>\n",
       "      <td>0.012712</td>\n",
       "      <td>0.018611</td>\n",
       "      <td>0.017953</td>\n",
       "      <td>-0.005523</td>\n",
       "      <td>...</td>\n",
       "      <td>0.0133</td>\n",
       "      <td>-0.0011</td>\n",
       "      <td>-0.072658</td>\n",
       "      <td>-0.010830</td>\n",
       "      <td>0.020904</td>\n",
       "      <td>0.045257</td>\n",
       "      <td>0.110157</td>\n",
       "      <td>0.049081</td>\n",
       "      <td>-0.0624</td>\n",
       "      <td>0.079407</td>\n",
       "    </tr>\n",
       "    <tr>\n",
       "      <th>9/1/2023</th>\n",
       "      <td>0.011868</td>\n",
       "      <td>0.007650</td>\n",
       "      <td>0.016211</td>\n",
       "      <td>0.005530</td>\n",
       "      <td>0.009500</td>\n",
       "      <td>0.023861</td>\n",
       "      <td>0.006397</td>\n",
       "      <td>-0.011256</td>\n",
       "      <td>0.003598</td>\n",
       "      <td>0.016171</td>\n",
       "      <td>...</td>\n",
       "      <td>-0.0200</td>\n",
       "      <td>-0.0018</td>\n",
       "      <td>-0.035402</td>\n",
       "      <td>0.051293</td>\n",
       "      <td>0.019259</td>\n",
       "      <td>0.048931</td>\n",
       "      <td>0.065072</td>\n",
       "      <td>0.058624</td>\n",
       "      <td>-0.0807</td>\n",
       "      <td>0.074969</td>\n",
       "    </tr>\n",
       "    <tr>\n",
       "      <th>12/1/2023</th>\n",
       "      <td>0.008349</td>\n",
       "      <td>0.008071</td>\n",
       "      <td>0.007867</td>\n",
       "      <td>0.008440</td>\n",
       "      <td>0.007054</td>\n",
       "      <td>0.001852</td>\n",
       "      <td>0.008689</td>\n",
       "      <td>-0.002763</td>\n",
       "      <td>0.009186</td>\n",
       "      <td>0.006955</td>\n",
       "      <td>...</td>\n",
       "      <td>0.0033</td>\n",
       "      <td>-0.0017</td>\n",
       "      <td>-0.084557</td>\n",
       "      <td>-0.026202</td>\n",
       "      <td>0.009693</td>\n",
       "      <td>0.016713</td>\n",
       "      <td>-0.001187</td>\n",
       "      <td>0.002984</td>\n",
       "      <td>0.0165</td>\n",
       "      <td>0.011957</td>\n",
       "    </tr>\n",
       "    <tr>\n",
       "      <th>3/1/2024</th>\n",
       "      <td>0.003943</td>\n",
       "      <td>0.006194</td>\n",
       "      <td>-0.003032</td>\n",
       "      <td>0.009736</td>\n",
       "      <td>0.000002</td>\n",
       "      <td>0.007817</td>\n",
       "      <td>0.012927</td>\n",
       "      <td>0.005194</td>\n",
       "      <td>0.007138</td>\n",
       "      <td>0.032598</td>\n",
       "      <td>...</td>\n",
       "      <td>0.0117</td>\n",
       "      <td>-0.0019</td>\n",
       "      <td>0.539813</td>\n",
       "      <td>0.126204</td>\n",
       "      <td>-0.063039</td>\n",
       "      <td>-0.101684</td>\n",
       "      <td>0.149890</td>\n",
       "      <td>0.110848</td>\n",
       "      <td>-0.1526</td>\n",
       "      <td>0.061880</td>\n",
       "    </tr>\n",
       "  </tbody>\n",
       "</table>\n",
       "<p>69 rows × 179 columns</p>\n",
       "</div>"
      ],
      "text/plain": [
       "              GDPC1   PCECC96     PCDGx    PCESVx     PCNDx    GPDIC1  \\\n",
       "sasdate                                                                 \n",
       "3/1/2007   0.003004  0.006149  0.013395  0.005695  0.003365 -0.006476   \n",
       "6/1/2007   0.006099  0.002621  0.010433  0.002784 -0.002137  0.009587   \n",
       "9/1/2007   0.005744  0.006649  0.012098  0.006854  0.003127 -0.011557   \n",
       "12/1/2007  0.006263  0.003933  0.007337  0.004980 -0.000839 -0.011520   \n",
       "3/1/2008  -0.004277 -0.001372 -0.033026  0.006573 -0.007804 -0.027718   \n",
       "...             ...       ...       ...       ...       ...       ...   \n",
       "3/1/2023   0.005548  0.009281  0.032696  0.007701  0.001234 -0.023636   \n",
       "6/1/2023   0.005098  0.002003 -0.000820  0.002409  0.002296  0.012643   \n",
       "9/1/2023   0.011868  0.007650  0.016211  0.005530  0.009500  0.023861   \n",
       "12/1/2023  0.008349  0.008071  0.007867  0.008440  0.007054  0.001852   \n",
       "3/1/2024   0.003943  0.006194 -0.003032  0.009736  0.000002  0.007817   \n",
       "\n",
       "               FPIx  Y033RC1Q027SBEAx     PNFIx     PRFIx  ...  ISRATIOx  \\\n",
       "sasdate                                                    ...             \n",
       "3/1/2007  -0.000906          0.013770  0.017848 -0.046268  ...   -0.0066   \n",
       "6/1/2007   0.004687          0.013864  0.021953 -0.040397  ...   -0.0167   \n",
       "9/1/2007  -0.005682          0.005264  0.015569 -0.065894  ...    0.0033   \n",
       "12/1/2007 -0.009531          0.006200  0.015303 -0.087072  ...   -0.0133   \n",
       "3/1/2008  -0.015459         -0.005116  0.003963 -0.083188  ...    0.0067   \n",
       "...             ...               ...       ...       ...  ...       ...   \n",
       "3/1/2023   0.007574         -0.010526  0.013946 -0.013741  ...   -0.0033   \n",
       "6/1/2023   0.012712          0.018611  0.017953 -0.005523  ...    0.0133   \n",
       "9/1/2023   0.006397         -0.011256  0.003598  0.016171  ...   -0.0200   \n",
       "12/1/2023  0.008689         -0.002763  0.009186  0.006955  ...    0.0033   \n",
       "3/1/2024   0.012927          0.005194  0.007138  0.032598  ...    0.0117   \n",
       "\n",
       "           CONSPIx  PERMITNE  PERMITMW   PERMITS   PERMITW  NIKKEI225  \\\n",
       "sasdate                                                                 \n",
       "3/1/2007   -0.0016  0.043621  0.020676 -0.026159  0.089253   0.053208   \n",
       "6/1/2007    0.0000 -0.073796 -0.094356 -0.078291 -0.150327   0.018005   \n",
       "9/1/2007    0.0012 -0.044750 -0.100873 -0.138353 -0.057944  -0.045330   \n",
       "12/1/2007   0.0002 -0.056486 -0.106651 -0.079346 -0.160914  -0.053065   \n",
       "3/1/2008   -0.0004 -0.145712 -0.166216 -0.094236 -0.258808  -0.187978   \n",
       "...            ...       ...       ...       ...       ...        ...   \n",
       "3/1/2023   -0.0015 -0.065212 -0.082663 -0.031603  0.017645  -0.002614   \n",
       "6/1/2023   -0.0011 -0.072658 -0.010830  0.020904  0.045257   0.110157   \n",
       "9/1/2023   -0.0018 -0.035402  0.051293  0.019259  0.048931   0.065072   \n",
       "12/1/2023  -0.0017 -0.084557 -0.026202  0.009693  0.016713  -0.001187   \n",
       "3/1/2024   -0.0019  0.539813  0.126204 -0.063039 -0.101684   0.149890   \n",
       "\n",
       "            S&P 500  S&P div yield  S&P PE ratio  \n",
       "sasdate                                           \n",
       "3/1/2007   0.025455         0.0023     -0.017682  \n",
       "6/1/2007   0.048626        -0.0403      0.001547  \n",
       "9/1/2007  -0.003687         0.0578     -0.027689  \n",
       "12/1/2007  0.002193         0.0482      0.004001  \n",
       "3/1/2008  -0.101272         0.2428     -0.058605  \n",
       "...             ...            ...           ...  \n",
       "3/1/2023   0.038450        -0.0306      0.069501  \n",
       "6/1/2023   0.049081        -0.0624      0.079407  \n",
       "9/1/2023   0.058624        -0.0807      0.074969  \n",
       "12/1/2023  0.002984         0.0165      0.011957  \n",
       "3/1/2024   0.110848        -0.1526      0.061880  \n",
       "\n",
       "[69 rows x 179 columns]"
      ]
     },
     "execution_count": 10,
     "metadata": {},
     "output_type": "execute_result"
    }
   ],
   "source": [
    "df_q.iloc[48*4:, :]"
   ]
  },
  {
   "cell_type": "code",
   "execution_count": 11,
   "id": "bc317fc6",
   "metadata": {},
   "outputs": [
    {
     "data": {
      "text/html": [
       "<div>\n",
       "<style scoped>\n",
       "    .dataframe tbody tr th:only-of-type {\n",
       "        vertical-align: middle;\n",
       "    }\n",
       "\n",
       "    .dataframe tbody tr th {\n",
       "        vertical-align: top;\n",
       "    }\n",
       "\n",
       "    .dataframe thead th {\n",
       "        text-align: right;\n",
       "    }\n",
       "</style>\n",
       "<table border=\"1\" class=\"dataframe\">\n",
       "  <thead>\n",
       "    <tr style=\"text-align: right;\">\n",
       "      <th></th>\n",
       "      <th>GDPC1</th>\n",
       "      <th>PCECC96</th>\n",
       "      <th>PCDGx</th>\n",
       "      <th>PCESVx</th>\n",
       "      <th>PCNDx</th>\n",
       "      <th>GPDIC1</th>\n",
       "      <th>FPIx</th>\n",
       "      <th>Y033RC1Q027SBEAx</th>\n",
       "      <th>PNFIx</th>\n",
       "      <th>PRFIx</th>\n",
       "      <th>...</th>\n",
       "      <th>ISRATIOx</th>\n",
       "      <th>CONSPIx</th>\n",
       "      <th>PERMITNE</th>\n",
       "      <th>PERMITMW</th>\n",
       "      <th>PERMITS</th>\n",
       "      <th>PERMITW</th>\n",
       "      <th>NIKKEI225</th>\n",
       "      <th>S&amp;P 500</th>\n",
       "      <th>S&amp;P div yield</th>\n",
       "      <th>S&amp;P PE ratio</th>\n",
       "    </tr>\n",
       "    <tr>\n",
       "      <th>sasdate</th>\n",
       "      <th></th>\n",
       "      <th></th>\n",
       "      <th></th>\n",
       "      <th></th>\n",
       "      <th></th>\n",
       "      <th></th>\n",
       "      <th></th>\n",
       "      <th></th>\n",
       "      <th></th>\n",
       "      <th></th>\n",
       "      <th></th>\n",
       "      <th></th>\n",
       "      <th></th>\n",
       "      <th></th>\n",
       "      <th></th>\n",
       "      <th></th>\n",
       "      <th></th>\n",
       "      <th></th>\n",
       "      <th></th>\n",
       "      <th></th>\n",
       "      <th></th>\n",
       "    </tr>\n",
       "  </thead>\n",
       "  <tbody>\n",
       "    <tr>\n",
       "      <th>3/1/2007</th>\n",
       "      <td>0.003004</td>\n",
       "      <td>0.006149</td>\n",
       "      <td>0.013395</td>\n",
       "      <td>0.005695</td>\n",
       "      <td>0.003365</td>\n",
       "      <td>-0.006476</td>\n",
       "      <td>-0.000906</td>\n",
       "      <td>0.013770</td>\n",
       "      <td>0.017848</td>\n",
       "      <td>-0.046268</td>\n",
       "      <td>...</td>\n",
       "      <td>-0.0066</td>\n",
       "      <td>-0.0016</td>\n",
       "      <td>0.043621</td>\n",
       "      <td>0.020676</td>\n",
       "      <td>-0.026159</td>\n",
       "      <td>0.089253</td>\n",
       "      <td>0.053208</td>\n",
       "      <td>0.025455</td>\n",
       "      <td>0.0023</td>\n",
       "      <td>-0.017682</td>\n",
       "    </tr>\n",
       "    <tr>\n",
       "      <th>6/1/2007</th>\n",
       "      <td>0.006099</td>\n",
       "      <td>0.002621</td>\n",
       "      <td>0.010433</td>\n",
       "      <td>0.002784</td>\n",
       "      <td>-0.002137</td>\n",
       "      <td>0.009587</td>\n",
       "      <td>0.004687</td>\n",
       "      <td>0.013864</td>\n",
       "      <td>0.021953</td>\n",
       "      <td>-0.040397</td>\n",
       "      <td>...</td>\n",
       "      <td>-0.0167</td>\n",
       "      <td>0.0000</td>\n",
       "      <td>-0.073796</td>\n",
       "      <td>-0.094356</td>\n",
       "      <td>-0.078291</td>\n",
       "      <td>-0.150327</td>\n",
       "      <td>0.018005</td>\n",
       "      <td>0.048626</td>\n",
       "      <td>-0.0403</td>\n",
       "      <td>0.001547</td>\n",
       "    </tr>\n",
       "    <tr>\n",
       "      <th>9/1/2007</th>\n",
       "      <td>0.005744</td>\n",
       "      <td>0.006649</td>\n",
       "      <td>0.012098</td>\n",
       "      <td>0.006854</td>\n",
       "      <td>0.003127</td>\n",
       "      <td>-0.011557</td>\n",
       "      <td>-0.005682</td>\n",
       "      <td>0.005264</td>\n",
       "      <td>0.015569</td>\n",
       "      <td>-0.065894</td>\n",
       "      <td>...</td>\n",
       "      <td>0.0033</td>\n",
       "      <td>0.0012</td>\n",
       "      <td>-0.044750</td>\n",
       "      <td>-0.100873</td>\n",
       "      <td>-0.138353</td>\n",
       "      <td>-0.057944</td>\n",
       "      <td>-0.045330</td>\n",
       "      <td>-0.003687</td>\n",
       "      <td>0.0578</td>\n",
       "      <td>-0.027689</td>\n",
       "    </tr>\n",
       "    <tr>\n",
       "      <th>12/1/2007</th>\n",
       "      <td>0.006263</td>\n",
       "      <td>0.003933</td>\n",
       "      <td>0.007337</td>\n",
       "      <td>0.004980</td>\n",
       "      <td>-0.000839</td>\n",
       "      <td>-0.011520</td>\n",
       "      <td>-0.009531</td>\n",
       "      <td>0.006200</td>\n",
       "      <td>0.015303</td>\n",
       "      <td>-0.087072</td>\n",
       "      <td>...</td>\n",
       "      <td>-0.0133</td>\n",
       "      <td>0.0002</td>\n",
       "      <td>-0.056486</td>\n",
       "      <td>-0.106651</td>\n",
       "      <td>-0.079346</td>\n",
       "      <td>-0.160914</td>\n",
       "      <td>-0.053065</td>\n",
       "      <td>0.002193</td>\n",
       "      <td>0.0482</td>\n",
       "      <td>0.004001</td>\n",
       "    </tr>\n",
       "    <tr>\n",
       "      <th>3/1/2008</th>\n",
       "      <td>-0.004277</td>\n",
       "      <td>-0.001372</td>\n",
       "      <td>-0.033026</td>\n",
       "      <td>0.006573</td>\n",
       "      <td>-0.007804</td>\n",
       "      <td>-0.027718</td>\n",
       "      <td>-0.015459</td>\n",
       "      <td>-0.005116</td>\n",
       "      <td>0.003963</td>\n",
       "      <td>-0.083188</td>\n",
       "      <td>...</td>\n",
       "      <td>0.0067</td>\n",
       "      <td>-0.0004</td>\n",
       "      <td>-0.145712</td>\n",
       "      <td>-0.166216</td>\n",
       "      <td>-0.094236</td>\n",
       "      <td>-0.258808</td>\n",
       "      <td>-0.187978</td>\n",
       "      <td>-0.101272</td>\n",
       "      <td>0.2428</td>\n",
       "      <td>-0.058605</td>\n",
       "    </tr>\n",
       "    <tr>\n",
       "      <th>...</th>\n",
       "      <td>...</td>\n",
       "      <td>...</td>\n",
       "      <td>...</td>\n",
       "      <td>...</td>\n",
       "      <td>...</td>\n",
       "      <td>...</td>\n",
       "      <td>...</td>\n",
       "      <td>...</td>\n",
       "      <td>...</td>\n",
       "      <td>...</td>\n",
       "      <td>...</td>\n",
       "      <td>...</td>\n",
       "      <td>...</td>\n",
       "      <td>...</td>\n",
       "      <td>...</td>\n",
       "      <td>...</td>\n",
       "      <td>...</td>\n",
       "      <td>...</td>\n",
       "      <td>...</td>\n",
       "      <td>...</td>\n",
       "      <td>...</td>\n",
       "    </tr>\n",
       "    <tr>\n",
       "      <th>12/1/2022</th>\n",
       "      <td>0.006334</td>\n",
       "      <td>0.002904</td>\n",
       "      <td>-0.002526</td>\n",
       "      <td>0.004470</td>\n",
       "      <td>0.001240</td>\n",
       "      <td>0.008348</td>\n",
       "      <td>-0.013917</td>\n",
       "      <td>-0.012729</td>\n",
       "      <td>0.004333</td>\n",
       "      <td>-0.071640</td>\n",
       "      <td>...</td>\n",
       "      <td>0.0200</td>\n",
       "      <td>0.0001</td>\n",
       "      <td>-0.145455</td>\n",
       "      <td>-0.053110</td>\n",
       "      <td>-0.082087</td>\n",
       "      <td>-0.180575</td>\n",
       "      <td>-0.009035</td>\n",
       "      <td>-0.031088</td>\n",
       "      <td>0.0893</td>\n",
       "      <td>-0.028822</td>\n",
       "    </tr>\n",
       "    <tr>\n",
       "      <th>3/1/2023</th>\n",
       "      <td>0.005548</td>\n",
       "      <td>0.009281</td>\n",
       "      <td>0.032696</td>\n",
       "      <td>0.007701</td>\n",
       "      <td>0.001234</td>\n",
       "      <td>-0.023636</td>\n",
       "      <td>0.007574</td>\n",
       "      <td>-0.010526</td>\n",
       "      <td>0.013946</td>\n",
       "      <td>-0.013741</td>\n",
       "      <td>...</td>\n",
       "      <td>-0.0033</td>\n",
       "      <td>-0.0015</td>\n",
       "      <td>-0.065212</td>\n",
       "      <td>-0.082663</td>\n",
       "      <td>-0.031603</td>\n",
       "      <td>0.017645</td>\n",
       "      <td>-0.002614</td>\n",
       "      <td>0.038450</td>\n",
       "      <td>-0.0306</td>\n",
       "      <td>0.069501</td>\n",
       "    </tr>\n",
       "    <tr>\n",
       "      <th>6/1/2023</th>\n",
       "      <td>0.005098</td>\n",
       "      <td>0.002003</td>\n",
       "      <td>-0.000820</td>\n",
       "      <td>0.002409</td>\n",
       "      <td>0.002296</td>\n",
       "      <td>0.012643</td>\n",
       "      <td>0.012712</td>\n",
       "      <td>0.018611</td>\n",
       "      <td>0.017953</td>\n",
       "      <td>-0.005523</td>\n",
       "      <td>...</td>\n",
       "      <td>0.0133</td>\n",
       "      <td>-0.0011</td>\n",
       "      <td>-0.072658</td>\n",
       "      <td>-0.010830</td>\n",
       "      <td>0.020904</td>\n",
       "      <td>0.045257</td>\n",
       "      <td>0.110157</td>\n",
       "      <td>0.049081</td>\n",
       "      <td>-0.0624</td>\n",
       "      <td>0.079407</td>\n",
       "    </tr>\n",
       "    <tr>\n",
       "      <th>9/1/2023</th>\n",
       "      <td>0.011868</td>\n",
       "      <td>0.007650</td>\n",
       "      <td>0.016211</td>\n",
       "      <td>0.005530</td>\n",
       "      <td>0.009500</td>\n",
       "      <td>0.023861</td>\n",
       "      <td>0.006397</td>\n",
       "      <td>-0.011256</td>\n",
       "      <td>0.003598</td>\n",
       "      <td>0.016171</td>\n",
       "      <td>...</td>\n",
       "      <td>-0.0200</td>\n",
       "      <td>-0.0018</td>\n",
       "      <td>-0.035402</td>\n",
       "      <td>0.051293</td>\n",
       "      <td>0.019259</td>\n",
       "      <td>0.048931</td>\n",
       "      <td>0.065072</td>\n",
       "      <td>0.058624</td>\n",
       "      <td>-0.0807</td>\n",
       "      <td>0.074969</td>\n",
       "    </tr>\n",
       "    <tr>\n",
       "      <th>12/1/2023</th>\n",
       "      <td>0.008349</td>\n",
       "      <td>0.008071</td>\n",
       "      <td>0.007867</td>\n",
       "      <td>0.008440</td>\n",
       "      <td>0.007054</td>\n",
       "      <td>0.001852</td>\n",
       "      <td>0.008689</td>\n",
       "      <td>-0.002763</td>\n",
       "      <td>0.009186</td>\n",
       "      <td>0.006955</td>\n",
       "      <td>...</td>\n",
       "      <td>0.0033</td>\n",
       "      <td>-0.0017</td>\n",
       "      <td>-0.084557</td>\n",
       "      <td>-0.026202</td>\n",
       "      <td>0.009693</td>\n",
       "      <td>0.016713</td>\n",
       "      <td>-0.001187</td>\n",
       "      <td>0.002984</td>\n",
       "      <td>0.0165</td>\n",
       "      <td>0.011957</td>\n",
       "    </tr>\n",
       "  </tbody>\n",
       "</table>\n",
       "<p>68 rows × 179 columns</p>\n",
       "</div>"
      ],
      "text/plain": [
       "              GDPC1   PCECC96     PCDGx    PCESVx     PCNDx    GPDIC1  \\\n",
       "sasdate                                                                 \n",
       "3/1/2007   0.003004  0.006149  0.013395  0.005695  0.003365 -0.006476   \n",
       "6/1/2007   0.006099  0.002621  0.010433  0.002784 -0.002137  0.009587   \n",
       "9/1/2007   0.005744  0.006649  0.012098  0.006854  0.003127 -0.011557   \n",
       "12/1/2007  0.006263  0.003933  0.007337  0.004980 -0.000839 -0.011520   \n",
       "3/1/2008  -0.004277 -0.001372 -0.033026  0.006573 -0.007804 -0.027718   \n",
       "...             ...       ...       ...       ...       ...       ...   \n",
       "12/1/2022  0.006334  0.002904 -0.002526  0.004470  0.001240  0.008348   \n",
       "3/1/2023   0.005548  0.009281  0.032696  0.007701  0.001234 -0.023636   \n",
       "6/1/2023   0.005098  0.002003 -0.000820  0.002409  0.002296  0.012643   \n",
       "9/1/2023   0.011868  0.007650  0.016211  0.005530  0.009500  0.023861   \n",
       "12/1/2023  0.008349  0.008071  0.007867  0.008440  0.007054  0.001852   \n",
       "\n",
       "               FPIx  Y033RC1Q027SBEAx     PNFIx     PRFIx  ...  ISRATIOx  \\\n",
       "sasdate                                                    ...             \n",
       "3/1/2007  -0.000906          0.013770  0.017848 -0.046268  ...   -0.0066   \n",
       "6/1/2007   0.004687          0.013864  0.021953 -0.040397  ...   -0.0167   \n",
       "9/1/2007  -0.005682          0.005264  0.015569 -0.065894  ...    0.0033   \n",
       "12/1/2007 -0.009531          0.006200  0.015303 -0.087072  ...   -0.0133   \n",
       "3/1/2008  -0.015459         -0.005116  0.003963 -0.083188  ...    0.0067   \n",
       "...             ...               ...       ...       ...  ...       ...   \n",
       "12/1/2022 -0.013917         -0.012729  0.004333 -0.071640  ...    0.0200   \n",
       "3/1/2023   0.007574         -0.010526  0.013946 -0.013741  ...   -0.0033   \n",
       "6/1/2023   0.012712          0.018611  0.017953 -0.005523  ...    0.0133   \n",
       "9/1/2023   0.006397         -0.011256  0.003598  0.016171  ...   -0.0200   \n",
       "12/1/2023  0.008689         -0.002763  0.009186  0.006955  ...    0.0033   \n",
       "\n",
       "           CONSPIx  PERMITNE  PERMITMW   PERMITS   PERMITW  NIKKEI225  \\\n",
       "sasdate                                                                 \n",
       "3/1/2007   -0.0016  0.043621  0.020676 -0.026159  0.089253   0.053208   \n",
       "6/1/2007    0.0000 -0.073796 -0.094356 -0.078291 -0.150327   0.018005   \n",
       "9/1/2007    0.0012 -0.044750 -0.100873 -0.138353 -0.057944  -0.045330   \n",
       "12/1/2007   0.0002 -0.056486 -0.106651 -0.079346 -0.160914  -0.053065   \n",
       "3/1/2008   -0.0004 -0.145712 -0.166216 -0.094236 -0.258808  -0.187978   \n",
       "...            ...       ...       ...       ...       ...        ...   \n",
       "12/1/2022   0.0001 -0.145455 -0.053110 -0.082087 -0.180575  -0.009035   \n",
       "3/1/2023   -0.0015 -0.065212 -0.082663 -0.031603  0.017645  -0.002614   \n",
       "6/1/2023   -0.0011 -0.072658 -0.010830  0.020904  0.045257   0.110157   \n",
       "9/1/2023   -0.0018 -0.035402  0.051293  0.019259  0.048931   0.065072   \n",
       "12/1/2023  -0.0017 -0.084557 -0.026202  0.009693  0.016713  -0.001187   \n",
       "\n",
       "            S&P 500  S&P div yield  S&P PE ratio  \n",
       "sasdate                                           \n",
       "3/1/2007   0.025455         0.0023     -0.017682  \n",
       "6/1/2007   0.048626        -0.0403      0.001547  \n",
       "9/1/2007  -0.003687         0.0578     -0.027689  \n",
       "12/1/2007  0.002193         0.0482      0.004001  \n",
       "3/1/2008  -0.101272         0.2428     -0.058605  \n",
       "...             ...            ...           ...  \n",
       "12/1/2022 -0.031088         0.0893     -0.028822  \n",
       "3/1/2023   0.038450        -0.0306      0.069501  \n",
       "6/1/2023   0.049081        -0.0624      0.079407  \n",
       "9/1/2023   0.058624        -0.0807      0.074969  \n",
       "12/1/2023  0.002984         0.0165      0.011957  \n",
       "\n",
       "[68 rows x 179 columns]"
      ]
     },
     "execution_count": 11,
     "metadata": {},
     "output_type": "execute_result"
    }
   ],
   "source": [
    "df_q.iloc[48*4:-1, :]"
   ]
  },
  {
   "cell_type": "code",
   "execution_count": 18,
   "id": "39b0051c",
   "metadata": {},
   "outputs": [],
   "source": [
    "def ttpca_plt(r, gamma):\n",
    "    #r=15\n",
    "    Lambda_gamma_est, Lambda_X_est, W_est, G_est = TT_PCA(df_y, np.swapaxes(df_m,0,2), gamma, r)\n",
    "    T = df_y.shape[0]\n",
    "    N_Y = df_y.shape[1]\n",
    "    Y_est = np.zeros((T, 12, N_Y))\n",
    "    for i in range(r):\n",
    "        Y_est += np.einsum('ij,k->ijk',\n",
    "                           np.outer(G_est[:, i], W_est[:, i]), Lambda_gamma_est[:N_Y, i])\n",
    "\n",
    "    # df_q.index = pd.to_datetime(df_q.index)\n",
    "    #df_y.index = pd.to_datetime(df_q.index)\n",
    "    df_Y_est = pd.DataFrame(np.swapaxes(Y_est,0,2).reshape((179, -1), order = 'F').T, \n",
    "                            index=data_m.index[48*12:-3])\n",
    "    df_Y_est.columns = df_q.columns\n",
    "    df_Y_est.index = pd.to_datetime(df_Y_est.index)\n",
    "    df_Y_est.loc[df_y.index] = df_y\n",
    "    fig = px.line(df_Y_est/4, x=df_Y_est.index, y=\"GDPC1\", title='FRED-Q')\n",
    "    #fig.update_traces(line=dict(color=\"blue\", width=1))\n",
    "    fig.update_layout(xaxis_title=\"Date\", font_size = 22,\n",
    "                      yaxis_title=\"Value\")\n",
    "    fig.update_xaxes(nticks=10, tickformat=\"%Y\", tickfont_size=20)\n",
    "    fig.add_traces(\n",
    "        px.scatter(df_y/4, x=df_y.index, y=\"GDPC1\").update_traces(marker=dict(size=5, \n",
    "                                                                            symbol=\"diamond\",\n",
    "                                                                            color='red')).data\n",
    "    )\n",
    "    \n",
    "    fig.add_traces(\n",
    "        px.line(df_q.iloc[48*4:-1, :], \n",
    "                x=df_q.index[48*4:-1], y=\"GDPC1\", markers=True).update_traces(marker=dict(size=5, \n",
    "                                                                   symbol=\"diamond\",\n",
    "                                                                   color='green'), line_color='green').data\n",
    "    )\n",
    "    fig.write_image('TTPCA_annuly_07_24.png')\n",
    "    #plotly.offline.plot(fig, filename='TTPCA.html')\n",
    "    fig.show()"
   ]
  },
  {
   "cell_type": "code",
   "execution_count": 19,
   "id": "7523081c",
   "metadata": {},
   "outputs": [
    {
     "name": "stderr",
     "output_type": "stream",
     "text": [
      "/opt/anaconda3/lib/python3.11/site-packages/_plotly_utils/basevalidators.py:106: FutureWarning:\n",
      "\n",
      "The behavior of DatetimeProperties.to_pydatetime is deprecated, in a future version this will return a Series containing python datetime objects instead of an ndarray. To retain the old behavior, call `np.array` on the result\n",
      "\n",
      "/opt/anaconda3/lib/python3.11/site-packages/_plotly_utils/basevalidators.py:106: FutureWarning:\n",
      "\n",
      "The behavior of DatetimeProperties.to_pydatetime is deprecated, in a future version this will return a Series containing python datetime objects instead of an ndarray. To retain the old behavior, call `np.array` on the result\n",
      "\n"
     ]
    },
    {
     "data": {
      "application/vnd.plotly.v1+json": {
       "config": {
        "plotlyServerURL": "https://plot.ly"
       },
       "data": [
        {
         "hovertemplate": "sasdate=%{x}<br>GDPC1=%{y}<extra></extra>",
         "legendgroup": "",
         "line": {
          "color": "#636efa",
          "dash": "solid"
         },
         "marker": {
          "symbol": "circle"
         },
         "mode": "lines",
         "name": "",
         "orientation": "v",
         "showlegend": false,
         "type": "scatter",
         "x": [
          "2007-01-01T00:00:00",
          "2007-02-01T00:00:00",
          "2007-03-01T00:00:00",
          "2007-04-01T00:00:00",
          "2007-05-01T00:00:00",
          "2007-06-01T00:00:00",
          "2007-07-01T00:00:00",
          "2007-08-01T00:00:00",
          "2007-09-01T00:00:00",
          "2007-10-01T00:00:00",
          "2007-11-01T00:00:00",
          "2007-12-01T00:00:00",
          "2008-01-01T00:00:00",
          "2008-02-01T00:00:00",
          "2008-03-01T00:00:00",
          "2008-04-01T00:00:00",
          "2008-05-01T00:00:00",
          "2008-06-01T00:00:00",
          "2008-07-01T00:00:00",
          "2008-08-01T00:00:00",
          "2008-09-01T00:00:00",
          "2008-10-01T00:00:00",
          "2008-11-01T00:00:00",
          "2008-12-01T00:00:00",
          "2009-01-01T00:00:00",
          "2009-02-01T00:00:00",
          "2009-03-01T00:00:00",
          "2009-04-01T00:00:00",
          "2009-05-01T00:00:00",
          "2009-06-01T00:00:00",
          "2009-07-01T00:00:00",
          "2009-08-01T00:00:00",
          "2009-09-01T00:00:00",
          "2009-10-01T00:00:00",
          "2009-11-01T00:00:00",
          "2009-12-01T00:00:00",
          "2010-01-01T00:00:00",
          "2010-02-01T00:00:00",
          "2010-03-01T00:00:00",
          "2010-04-01T00:00:00",
          "2010-05-01T00:00:00",
          "2010-06-01T00:00:00",
          "2010-07-01T00:00:00",
          "2010-08-01T00:00:00",
          "2010-09-01T00:00:00",
          "2010-10-01T00:00:00",
          "2010-11-01T00:00:00",
          "2010-12-01T00:00:00",
          "2011-01-01T00:00:00",
          "2011-02-01T00:00:00",
          "2011-03-01T00:00:00",
          "2011-04-01T00:00:00",
          "2011-05-01T00:00:00",
          "2011-06-01T00:00:00",
          "2011-07-01T00:00:00",
          "2011-08-01T00:00:00",
          "2011-09-01T00:00:00",
          "2011-10-01T00:00:00",
          "2011-11-01T00:00:00",
          "2011-12-01T00:00:00",
          "2012-01-01T00:00:00",
          "2012-02-01T00:00:00",
          "2012-03-01T00:00:00",
          "2012-04-01T00:00:00",
          "2012-05-01T00:00:00",
          "2012-06-01T00:00:00",
          "2012-07-01T00:00:00",
          "2012-08-01T00:00:00",
          "2012-09-01T00:00:00",
          "2012-10-01T00:00:00",
          "2012-11-01T00:00:00",
          "2012-12-01T00:00:00",
          "2013-01-01T00:00:00",
          "2013-02-01T00:00:00",
          "2013-03-01T00:00:00",
          "2013-04-01T00:00:00",
          "2013-05-01T00:00:00",
          "2013-06-01T00:00:00",
          "2013-07-01T00:00:00",
          "2013-08-01T00:00:00",
          "2013-09-01T00:00:00",
          "2013-10-01T00:00:00",
          "2013-11-01T00:00:00",
          "2013-12-01T00:00:00",
          "2014-01-01T00:00:00",
          "2014-02-01T00:00:00",
          "2014-03-01T00:00:00",
          "2014-04-01T00:00:00",
          "2014-05-01T00:00:00",
          "2014-06-01T00:00:00",
          "2014-07-01T00:00:00",
          "2014-08-01T00:00:00",
          "2014-09-01T00:00:00",
          "2014-10-01T00:00:00",
          "2014-11-01T00:00:00",
          "2014-12-01T00:00:00",
          "2015-01-01T00:00:00",
          "2015-02-01T00:00:00",
          "2015-03-01T00:00:00",
          "2015-04-01T00:00:00",
          "2015-05-01T00:00:00",
          "2015-06-01T00:00:00",
          "2015-07-01T00:00:00",
          "2015-08-01T00:00:00",
          "2015-09-01T00:00:00",
          "2015-10-01T00:00:00",
          "2015-11-01T00:00:00",
          "2015-12-01T00:00:00",
          "2016-01-01T00:00:00",
          "2016-02-01T00:00:00",
          "2016-03-01T00:00:00",
          "2016-04-01T00:00:00",
          "2016-05-01T00:00:00",
          "2016-06-01T00:00:00",
          "2016-07-01T00:00:00",
          "2016-08-01T00:00:00",
          "2016-09-01T00:00:00",
          "2016-10-01T00:00:00",
          "2016-11-01T00:00:00",
          "2016-12-01T00:00:00",
          "2017-01-01T00:00:00",
          "2017-02-01T00:00:00",
          "2017-03-01T00:00:00",
          "2017-04-01T00:00:00",
          "2017-05-01T00:00:00",
          "2017-06-01T00:00:00",
          "2017-07-01T00:00:00",
          "2017-08-01T00:00:00",
          "2017-09-01T00:00:00",
          "2017-10-01T00:00:00",
          "2017-11-01T00:00:00",
          "2017-12-01T00:00:00",
          "2018-01-01T00:00:00",
          "2018-02-01T00:00:00",
          "2018-03-01T00:00:00",
          "2018-04-01T00:00:00",
          "2018-05-01T00:00:00",
          "2018-06-01T00:00:00",
          "2018-07-01T00:00:00",
          "2018-08-01T00:00:00",
          "2018-09-01T00:00:00",
          "2018-10-01T00:00:00",
          "2018-11-01T00:00:00",
          "2018-12-01T00:00:00",
          "2019-01-01T00:00:00",
          "2019-02-01T00:00:00",
          "2019-03-01T00:00:00",
          "2019-04-01T00:00:00",
          "2019-05-01T00:00:00",
          "2019-06-01T00:00:00",
          "2019-07-01T00:00:00",
          "2019-08-01T00:00:00",
          "2019-09-01T00:00:00",
          "2019-10-01T00:00:00",
          "2019-11-01T00:00:00",
          "2019-12-01T00:00:00",
          "2020-01-01T00:00:00",
          "2020-02-01T00:00:00",
          "2020-03-01T00:00:00",
          "2020-04-01T00:00:00",
          "2020-05-01T00:00:00",
          "2020-06-01T00:00:00",
          "2020-07-01T00:00:00",
          "2020-08-01T00:00:00",
          "2020-09-01T00:00:00",
          "2020-10-01T00:00:00",
          "2020-11-01T00:00:00",
          "2020-12-01T00:00:00",
          "2021-01-01T00:00:00",
          "2021-02-01T00:00:00",
          "2021-03-01T00:00:00",
          "2021-04-01T00:00:00",
          "2021-05-01T00:00:00",
          "2021-06-01T00:00:00",
          "2021-07-01T00:00:00",
          "2021-08-01T00:00:00",
          "2021-09-01T00:00:00",
          "2021-10-01T00:00:00",
          "2021-11-01T00:00:00",
          "2021-12-01T00:00:00",
          "2022-01-01T00:00:00",
          "2022-02-01T00:00:00",
          "2022-03-01T00:00:00",
          "2022-04-01T00:00:00",
          "2022-05-01T00:00:00",
          "2022-06-01T00:00:00",
          "2022-07-01T00:00:00",
          "2022-08-01T00:00:00",
          "2022-09-01T00:00:00",
          "2022-10-01T00:00:00",
          "2022-11-01T00:00:00",
          "2022-12-01T00:00:00",
          "2023-01-01T00:00:00",
          "2023-02-01T00:00:00",
          "2023-03-01T00:00:00",
          "2023-04-01T00:00:00",
          "2023-05-01T00:00:00",
          "2023-06-01T00:00:00",
          "2023-07-01T00:00:00",
          "2023-08-01T00:00:00",
          "2023-09-01T00:00:00",
          "2023-10-01T00:00:00",
          "2023-11-01T00:00:00",
          "2023-12-01T00:00:00"
         ],
         "xaxis": "x",
         "y": [
          -4.398663659839158e-05,
          -0.036556146137466716,
          -0.05766396374509221,
          -0.048155558918530086,
          -0.009702137788755219,
          -0.010141448722342516,
          -0.03996631328177459,
          -0.03467047058940833,
          0.02353804152434845,
          -0.020935733983083377,
          0.03881591496166959,
          0.0052773175383284965,
          -4.2451762790845655e-05,
          -0.028535031083708494,
          -0.03564367715731784,
          -0.03901909226556456,
          -0.01961329549070396,
          -0.008892088436174247,
          -0.014593885709153109,
          -0.01788672742301264,
          0.02502289300532909,
          -0.004136738510670392,
          0.021115210197501053,
          -0.006434996550246375,
          -1.000367594634573e-05,
          -0.02441547713478253,
          -0.03864023481958559,
          -0.02867394903486276,
          -0.00015318260502426503,
          -0.006341761688448564,
          -0.03449112218337321,
          -0.03393568780371739,
          0.011111528633350767,
          -0.01950790399267073,
          0.021612010036507798,
          0.0002637920872134991,
          -6.17709360032636e-05,
          -0.01224215640766277,
          -0.013195968428716554,
          -0.02458093823006734,
          -0.024469524690596905,
          -0.004940284890828791,
          0.013866289505909324,
          0.017473649683999497,
          0.02201792650757553,
          0.01212261834685475,
          0.016632383567816444,
          0.00684532409818539,
          -0.00015253636563539988,
          -0.05321606883687732,
          -0.0577964828662474,
          -0.08594144820639404,
          -0.06871173686195914,
          -0.018922834874295337,
          0.013504673252744601,
          0.010957317259044,
          0.06800984004659956,
          0.021928593031821358,
          0.04703660094271795,
          0.00382822882207412,
          0.00013807790370521929,
          -0.006174125235006045,
          -0.029003469076109595,
          0.01800211560739408,
          0.06424222389057405,
          0.0030998624594041017,
          -0.09086231889453444,
          -0.09523356565095985,
          -0.03959572003516761,
          -0.06344040849189501,
          -0.00550738572635576,
          0.003849834816431308,
          -0.00012103867074842561,
          -0.06348084720662836,
          -0.07225786450462653,
          -0.09154907311965159,
          -0.05913942431343899,
          -0.02096362535220809,
          -0.012434866691141008,
          -0.02212611158519765,
          0.06522681628481568,
          0.007178810264684227,
          0.04564782677835752,
          0.0074118960803533085,
          5.253137416675948e-05,
          0.025575264759594825,
          0.024671797934207342,
          0.037535919650285465,
          0.029412730038838757,
          0.00891278879541956,
          -0.0022344442763083273,
          0.0052719753588819805,
          -0.029124310793960058,
          -0.00872600093358678,
          -0.015108612343115477,
          0.006625999105176028,
          -3.848111275956107e-05,
          -0.016755009661986897,
          -0.02253406474703156,
          -0.025363309918599974,
          -0.014278705570460718,
          -0.005375958595440239,
          -0.0052735818809034095,
          -0.0035114784253831694,
          0.017188056836496726,
          -0.0005197043109725994,
          0.01693296458316481,
          0.005244262075564166,
          0.00010655109926730614,
          0.02011999517864298,
          0.010546078434471036,
          0.04124378195072896,
          0.05289130861844067,
          0.0091892540696299,
          -0.03972321662912511,
          -0.03595922172089046,
          -0.04252745273625816,
          -0.03385479481605595,
          -0.01714862435505876,
          0.005395276664614812,
          -7.783887033959713e-05,
          -0.02973164142940585,
          -0.031189534146775923,
          -0.046682861034330767,
          -0.03719018975795498,
          -0.010500760205094026,
          0.006613345650768968,
          0.0030253238848998026,
          0.037011880141502834,
          0.01206620531529074,
          0.02252210297949407,
          0.007375485342564048,
          1.7551980750305914e-05,
          -0.024604603183842826,
          -0.044057834801976434,
          -0.023944797243325808,
          0.01376984652455747,
          -0.005348556216664415,
          -0.052455663216408,
          -0.051492931849119024,
          0.0023610080191905428,
          -0.03268145322099,
          0.020540716381622994,
          0.005257112915336926,
          -0.00013547261443069136,
          -0.04508855229929967,
          -0.05065012454126502,
          -0.07395259030894648,
          -0.05857914086528203,
          -0.016021096090781412,
          0.011858255898887508,
          0.012307534740760573,
          0.0584143196614547,
          0.018270798767764846,
          0.042597692471893114,
          0.007832405610754822,
          4.616644814786347e-05,
          0.011314705585648446,
          0.013011443103240606,
          0.020742418574460093,
          0.018176815646152686,
          0.004267870685535966,
          -0.006558845990005511,
          -0.008812750936068328,
          -0.016989922074668883,
          -0.007058546692665557,
          -0.015293112606312904,
          -0.002722988211650623,
          -8.256870718254219e-06,
          -0.032463342923433544,
          -0.04825390883288151,
          -0.037209084544964834,
          -0.0018219466761704457,
          -0.008581562543633264,
          -0.042762271319375204,
          -0.04567377588647796,
          0.015465658662714968,
          -0.023084492221426507,
          0.022723810805063648,
          0.013198135471943484,
          -5.723034693844639e-05,
          -0.025849433929881836,
          -0.02927807395706808,
          -0.038724457270998366,
          -0.026904478329231492,
          -0.00871249715894686,
          -0.0008832378910921821,
          -0.0035941463938311494,
          0.028908702861734026,
          0.0051650995199053855,
          0.01868731045359519,
          0.0016239433255327285,
          -2.6820182870227462e-05,
          -0.020225842113259687,
          -0.03237711449354756,
          -0.027104885765333993,
          -0.005785283338411839,
          -0.005618462990878193,
          -0.0211993371873015,
          -0.01735870293917361,
          0.013663749248841898,
          -0.011627083783491367,
          0.021486165642173875,
          0.007715922364581296
         ],
         "yaxis": "y"
        },
        {
         "hovertemplate": "index=%{x}<br>GDPC1=%{y}<extra></extra>",
         "legendgroup": "",
         "marker": {
          "color": "red",
          "size": 5,
          "symbol": "diamond"
         },
         "mode": "markers",
         "name": "",
         "orientation": "v",
         "showlegend": false,
         "type": "scatter",
         "x": [
          "2007-12-01T00:00:00",
          "2008-12-01T00:00:00",
          "2009-12-01T00:00:00",
          "2010-12-01T00:00:00",
          "2011-12-01T00:00:00",
          "2012-12-01T00:00:00",
          "2013-12-01T00:00:00",
          "2014-12-01T00:00:00",
          "2015-12-01T00:00:00",
          "2016-12-01T00:00:00",
          "2017-12-01T00:00:00",
          "2018-12-01T00:00:00",
          "2019-12-01T00:00:00",
          "2020-12-01T00:00:00",
          "2021-12-01T00:00:00",
          "2022-12-01T00:00:00",
          "2023-12-01T00:00:00"
         ],
         "xaxis": "x",
         "y": [
          0.0052773175383284965,
          -0.006434996550246375,
          0.0002637920872134991,
          0.00684532409818539,
          0.00382822882207412,
          0.003849834816431308,
          0.0074118960803533085,
          0.006625999105176028,
          0.005244262075564166,
          0.005395276664614812,
          0.007375485342564048,
          0.005257112915336926,
          0.007832405610754822,
          -0.002722988211650623,
          0.013198135471943484,
          0.0016239433255327285,
          0.007715922364581296
         ],
         "yaxis": "y"
        },
        {
         "hovertemplate": "x=%{x}<br>GDPC1=%{y}<extra></extra>",
         "legendgroup": "",
         "line": {
          "color": "green",
          "dash": "solid"
         },
         "marker": {
          "color": "green",
          "size": 5,
          "symbol": "diamond"
         },
         "mode": "lines+markers",
         "name": "",
         "orientation": "v",
         "showlegend": false,
         "type": "scatter",
         "x": [
          "3/1/2007",
          "6/1/2007",
          "9/1/2007",
          "12/1/2007",
          "3/1/2008",
          "6/1/2008",
          "9/1/2008",
          "12/1/2008",
          "3/1/2009",
          "6/1/2009",
          "9/1/2009",
          "12/1/2009",
          "3/1/2010",
          "6/1/2010",
          "9/1/2010",
          "12/1/2010",
          "3/1/2011",
          "6/1/2011",
          "9/1/2011",
          "12/1/2011",
          "3/1/2012",
          "6/1/2012",
          "9/1/2012",
          "12/1/2012",
          "3/1/2013",
          "6/1/2013",
          "9/1/2013",
          "12/1/2013",
          "3/1/2014",
          "6/1/2014",
          "9/1/2014",
          "12/1/2014",
          "3/1/2015",
          "6/1/2015",
          "9/1/2015",
          "12/1/2015",
          "3/1/2016",
          "6/1/2016",
          "9/1/2016",
          "12/1/2016",
          "3/1/2017",
          "6/1/2017",
          "9/1/2017",
          "12/1/2017",
          "3/1/2018",
          "6/1/2018",
          "9/1/2018",
          "12/1/2018",
          "3/1/2019",
          "6/1/2019",
          "9/1/2019",
          "12/1/2019",
          "3/1/2020",
          "6/1/2020",
          "9/1/2020",
          "12/1/2020",
          "3/1/2021",
          "6/1/2021",
          "9/1/2021",
          "12/1/2021",
          "3/1/2022",
          "6/1/2022",
          "9/1/2022",
          "12/1/2022",
          "3/1/2023",
          "6/1/2023",
          "9/1/2023",
          "12/1/2023",
          "3/1/2024"
         ],
         "xaxis": "x",
         "y": [
          0.003003840617131104,
          0.006098982914680917,
          0.005743731109307149,
          0.006262715512194816,
          -0.004276775590032145,
          0.005936625931315831,
          -0.0052664238027837484,
          -0.022133412739485436,
          -0.011413631359902254,
          -0.00178810721762801,
          0.0035057715471396023,
          0.010751135379244658,
          0.00483331022067901,
          0.009629349822608546,
          0.007681272705003295,
          0.00523736364445071,
          -0.0023748667360496967,
          0.006743037468666557,
          -0.000223152255784953,
          0.011167896811464573,
          0.008350941818790147,
          0.004453416266322563,
          0.0014392437648620415,
          0.0011557374157504796,
          0.009817259265515688,
          0.0026727882651371715,
          0.0084778965524972,
          0.008679640238263175,
          -0.0034569281496601434,
          0.012835690229149321,
          0.012080648325781596,
          0.005044586015433339,
          0.008964547876924911,
          0.006174946582536478,
          0.003994462115690212,
          0.0018430917271050618,
          0.005778466518471248,
          0.0032060956626729364,
          0.0070688591911043375,
          0.005527685286210726,
          0.00485708733103607,
          0.005583111012978037,
          0.00785431525684821,
          0.011207427769393874,
          0.008101194549169577,
          0.005294212303768475,
          0.00621760482522582,
          0.0014154399831838305,
          0.00541631653224961,
          0.0082624533584017,
          0.011258144435872808,
          0.006392708116495172,
          -0.013722370365645276,
          -0.08219774895039755,
          0.07472914013621157,
          0.010299026333228767,
          0.012773282331284719,
          0.015083139798498735,
          0.008110740728369592,
          0.01682537902962089,
          -0.004989218813230778,
          -0.0014137216932006424,
          0.006564592779746192,
          0.006334121028816142,
          0.005548385736220851,
          0.005098203034052062,
          0.011868005421165506,
          0.008349095266886764,
          0.003943446468410272
         ],
         "yaxis": "y"
        }
       ],
       "layout": {
        "font": {
         "size": 22
        },
        "legend": {
         "tracegroupgap": 0
        },
        "template": {
         "data": {
          "bar": [
           {
            "error_x": {
             "color": "#2a3f5f"
            },
            "error_y": {
             "color": "#2a3f5f"
            },
            "marker": {
             "line": {
              "color": "#E5ECF6",
              "width": 0.5
             },
             "pattern": {
              "fillmode": "overlay",
              "size": 10,
              "solidity": 0.2
             }
            },
            "type": "bar"
           }
          ],
          "barpolar": [
           {
            "marker": {
             "line": {
              "color": "#E5ECF6",
              "width": 0.5
             },
             "pattern": {
              "fillmode": "overlay",
              "size": 10,
              "solidity": 0.2
             }
            },
            "type": "barpolar"
           }
          ],
          "carpet": [
           {
            "aaxis": {
             "endlinecolor": "#2a3f5f",
             "gridcolor": "white",
             "linecolor": "white",
             "minorgridcolor": "white",
             "startlinecolor": "#2a3f5f"
            },
            "baxis": {
             "endlinecolor": "#2a3f5f",
             "gridcolor": "white",
             "linecolor": "white",
             "minorgridcolor": "white",
             "startlinecolor": "#2a3f5f"
            },
            "type": "carpet"
           }
          ],
          "choropleth": [
           {
            "colorbar": {
             "outlinewidth": 0,
             "ticks": ""
            },
            "type": "choropleth"
           }
          ],
          "contour": [
           {
            "colorbar": {
             "outlinewidth": 0,
             "ticks": ""
            },
            "colorscale": [
             [
              0,
              "#0d0887"
             ],
             [
              0.1111111111111111,
              "#46039f"
             ],
             [
              0.2222222222222222,
              "#7201a8"
             ],
             [
              0.3333333333333333,
              "#9c179e"
             ],
             [
              0.4444444444444444,
              "#bd3786"
             ],
             [
              0.5555555555555556,
              "#d8576b"
             ],
             [
              0.6666666666666666,
              "#ed7953"
             ],
             [
              0.7777777777777778,
              "#fb9f3a"
             ],
             [
              0.8888888888888888,
              "#fdca26"
             ],
             [
              1,
              "#f0f921"
             ]
            ],
            "type": "contour"
           }
          ],
          "contourcarpet": [
           {
            "colorbar": {
             "outlinewidth": 0,
             "ticks": ""
            },
            "type": "contourcarpet"
           }
          ],
          "heatmap": [
           {
            "colorbar": {
             "outlinewidth": 0,
             "ticks": ""
            },
            "colorscale": [
             [
              0,
              "#0d0887"
             ],
             [
              0.1111111111111111,
              "#46039f"
             ],
             [
              0.2222222222222222,
              "#7201a8"
             ],
             [
              0.3333333333333333,
              "#9c179e"
             ],
             [
              0.4444444444444444,
              "#bd3786"
             ],
             [
              0.5555555555555556,
              "#d8576b"
             ],
             [
              0.6666666666666666,
              "#ed7953"
             ],
             [
              0.7777777777777778,
              "#fb9f3a"
             ],
             [
              0.8888888888888888,
              "#fdca26"
             ],
             [
              1,
              "#f0f921"
             ]
            ],
            "type": "heatmap"
           }
          ],
          "heatmapgl": [
           {
            "colorbar": {
             "outlinewidth": 0,
             "ticks": ""
            },
            "colorscale": [
             [
              0,
              "#0d0887"
             ],
             [
              0.1111111111111111,
              "#46039f"
             ],
             [
              0.2222222222222222,
              "#7201a8"
             ],
             [
              0.3333333333333333,
              "#9c179e"
             ],
             [
              0.4444444444444444,
              "#bd3786"
             ],
             [
              0.5555555555555556,
              "#d8576b"
             ],
             [
              0.6666666666666666,
              "#ed7953"
             ],
             [
              0.7777777777777778,
              "#fb9f3a"
             ],
             [
              0.8888888888888888,
              "#fdca26"
             ],
             [
              1,
              "#f0f921"
             ]
            ],
            "type": "heatmapgl"
           }
          ],
          "histogram": [
           {
            "marker": {
             "pattern": {
              "fillmode": "overlay",
              "size": 10,
              "solidity": 0.2
             }
            },
            "type": "histogram"
           }
          ],
          "histogram2d": [
           {
            "colorbar": {
             "outlinewidth": 0,
             "ticks": ""
            },
            "colorscale": [
             [
              0,
              "#0d0887"
             ],
             [
              0.1111111111111111,
              "#46039f"
             ],
             [
              0.2222222222222222,
              "#7201a8"
             ],
             [
              0.3333333333333333,
              "#9c179e"
             ],
             [
              0.4444444444444444,
              "#bd3786"
             ],
             [
              0.5555555555555556,
              "#d8576b"
             ],
             [
              0.6666666666666666,
              "#ed7953"
             ],
             [
              0.7777777777777778,
              "#fb9f3a"
             ],
             [
              0.8888888888888888,
              "#fdca26"
             ],
             [
              1,
              "#f0f921"
             ]
            ],
            "type": "histogram2d"
           }
          ],
          "histogram2dcontour": [
           {
            "colorbar": {
             "outlinewidth": 0,
             "ticks": ""
            },
            "colorscale": [
             [
              0,
              "#0d0887"
             ],
             [
              0.1111111111111111,
              "#46039f"
             ],
             [
              0.2222222222222222,
              "#7201a8"
             ],
             [
              0.3333333333333333,
              "#9c179e"
             ],
             [
              0.4444444444444444,
              "#bd3786"
             ],
             [
              0.5555555555555556,
              "#d8576b"
             ],
             [
              0.6666666666666666,
              "#ed7953"
             ],
             [
              0.7777777777777778,
              "#fb9f3a"
             ],
             [
              0.8888888888888888,
              "#fdca26"
             ],
             [
              1,
              "#f0f921"
             ]
            ],
            "type": "histogram2dcontour"
           }
          ],
          "mesh3d": [
           {
            "colorbar": {
             "outlinewidth": 0,
             "ticks": ""
            },
            "type": "mesh3d"
           }
          ],
          "parcoords": [
           {
            "line": {
             "colorbar": {
              "outlinewidth": 0,
              "ticks": ""
             }
            },
            "type": "parcoords"
           }
          ],
          "pie": [
           {
            "automargin": true,
            "type": "pie"
           }
          ],
          "scatter": [
           {
            "fillpattern": {
             "fillmode": "overlay",
             "size": 10,
             "solidity": 0.2
            },
            "type": "scatter"
           }
          ],
          "scatter3d": [
           {
            "line": {
             "colorbar": {
              "outlinewidth": 0,
              "ticks": ""
             }
            },
            "marker": {
             "colorbar": {
              "outlinewidth": 0,
              "ticks": ""
             }
            },
            "type": "scatter3d"
           }
          ],
          "scattercarpet": [
           {
            "marker": {
             "colorbar": {
              "outlinewidth": 0,
              "ticks": ""
             }
            },
            "type": "scattercarpet"
           }
          ],
          "scattergeo": [
           {
            "marker": {
             "colorbar": {
              "outlinewidth": 0,
              "ticks": ""
             }
            },
            "type": "scattergeo"
           }
          ],
          "scattergl": [
           {
            "marker": {
             "colorbar": {
              "outlinewidth": 0,
              "ticks": ""
             }
            },
            "type": "scattergl"
           }
          ],
          "scattermapbox": [
           {
            "marker": {
             "colorbar": {
              "outlinewidth": 0,
              "ticks": ""
             }
            },
            "type": "scattermapbox"
           }
          ],
          "scatterpolar": [
           {
            "marker": {
             "colorbar": {
              "outlinewidth": 0,
              "ticks": ""
             }
            },
            "type": "scatterpolar"
           }
          ],
          "scatterpolargl": [
           {
            "marker": {
             "colorbar": {
              "outlinewidth": 0,
              "ticks": ""
             }
            },
            "type": "scatterpolargl"
           }
          ],
          "scatterternary": [
           {
            "marker": {
             "colorbar": {
              "outlinewidth": 0,
              "ticks": ""
             }
            },
            "type": "scatterternary"
           }
          ],
          "surface": [
           {
            "colorbar": {
             "outlinewidth": 0,
             "ticks": ""
            },
            "colorscale": [
             [
              0,
              "#0d0887"
             ],
             [
              0.1111111111111111,
              "#46039f"
             ],
             [
              0.2222222222222222,
              "#7201a8"
             ],
             [
              0.3333333333333333,
              "#9c179e"
             ],
             [
              0.4444444444444444,
              "#bd3786"
             ],
             [
              0.5555555555555556,
              "#d8576b"
             ],
             [
              0.6666666666666666,
              "#ed7953"
             ],
             [
              0.7777777777777778,
              "#fb9f3a"
             ],
             [
              0.8888888888888888,
              "#fdca26"
             ],
             [
              1,
              "#f0f921"
             ]
            ],
            "type": "surface"
           }
          ],
          "table": [
           {
            "cells": {
             "fill": {
              "color": "#EBF0F8"
             },
             "line": {
              "color": "white"
             }
            },
            "header": {
             "fill": {
              "color": "#C8D4E3"
             },
             "line": {
              "color": "white"
             }
            },
            "type": "table"
           }
          ]
         },
         "layout": {
          "annotationdefaults": {
           "arrowcolor": "#2a3f5f",
           "arrowhead": 0,
           "arrowwidth": 1
          },
          "autotypenumbers": "strict",
          "coloraxis": {
           "colorbar": {
            "outlinewidth": 0,
            "ticks": ""
           }
          },
          "colorscale": {
           "diverging": [
            [
             0,
             "#8e0152"
            ],
            [
             0.1,
             "#c51b7d"
            ],
            [
             0.2,
             "#de77ae"
            ],
            [
             0.3,
             "#f1b6da"
            ],
            [
             0.4,
             "#fde0ef"
            ],
            [
             0.5,
             "#f7f7f7"
            ],
            [
             0.6,
             "#e6f5d0"
            ],
            [
             0.7,
             "#b8e186"
            ],
            [
             0.8,
             "#7fbc41"
            ],
            [
             0.9,
             "#4d9221"
            ],
            [
             1,
             "#276419"
            ]
           ],
           "sequential": [
            [
             0,
             "#0d0887"
            ],
            [
             0.1111111111111111,
             "#46039f"
            ],
            [
             0.2222222222222222,
             "#7201a8"
            ],
            [
             0.3333333333333333,
             "#9c179e"
            ],
            [
             0.4444444444444444,
             "#bd3786"
            ],
            [
             0.5555555555555556,
             "#d8576b"
            ],
            [
             0.6666666666666666,
             "#ed7953"
            ],
            [
             0.7777777777777778,
             "#fb9f3a"
            ],
            [
             0.8888888888888888,
             "#fdca26"
            ],
            [
             1,
             "#f0f921"
            ]
           ],
           "sequentialminus": [
            [
             0,
             "#0d0887"
            ],
            [
             0.1111111111111111,
             "#46039f"
            ],
            [
             0.2222222222222222,
             "#7201a8"
            ],
            [
             0.3333333333333333,
             "#9c179e"
            ],
            [
             0.4444444444444444,
             "#bd3786"
            ],
            [
             0.5555555555555556,
             "#d8576b"
            ],
            [
             0.6666666666666666,
             "#ed7953"
            ],
            [
             0.7777777777777778,
             "#fb9f3a"
            ],
            [
             0.8888888888888888,
             "#fdca26"
            ],
            [
             1,
             "#f0f921"
            ]
           ]
          },
          "colorway": [
           "#636efa",
           "#EF553B",
           "#00cc96",
           "#ab63fa",
           "#FFA15A",
           "#19d3f3",
           "#FF6692",
           "#B6E880",
           "#FF97FF",
           "#FECB52"
          ],
          "font": {
           "color": "#2a3f5f"
          },
          "geo": {
           "bgcolor": "white",
           "lakecolor": "white",
           "landcolor": "#E5ECF6",
           "showlakes": true,
           "showland": true,
           "subunitcolor": "white"
          },
          "hoverlabel": {
           "align": "left"
          },
          "hovermode": "closest",
          "mapbox": {
           "style": "light"
          },
          "paper_bgcolor": "white",
          "plot_bgcolor": "#E5ECF6",
          "polar": {
           "angularaxis": {
            "gridcolor": "white",
            "linecolor": "white",
            "ticks": ""
           },
           "bgcolor": "#E5ECF6",
           "radialaxis": {
            "gridcolor": "white",
            "linecolor": "white",
            "ticks": ""
           }
          },
          "scene": {
           "xaxis": {
            "backgroundcolor": "#E5ECF6",
            "gridcolor": "white",
            "gridwidth": 2,
            "linecolor": "white",
            "showbackground": true,
            "ticks": "",
            "zerolinecolor": "white"
           },
           "yaxis": {
            "backgroundcolor": "#E5ECF6",
            "gridcolor": "white",
            "gridwidth": 2,
            "linecolor": "white",
            "showbackground": true,
            "ticks": "",
            "zerolinecolor": "white"
           },
           "zaxis": {
            "backgroundcolor": "#E5ECF6",
            "gridcolor": "white",
            "gridwidth": 2,
            "linecolor": "white",
            "showbackground": true,
            "ticks": "",
            "zerolinecolor": "white"
           }
          },
          "shapedefaults": {
           "line": {
            "color": "#2a3f5f"
           }
          },
          "ternary": {
           "aaxis": {
            "gridcolor": "white",
            "linecolor": "white",
            "ticks": ""
           },
           "baxis": {
            "gridcolor": "white",
            "linecolor": "white",
            "ticks": ""
           },
           "bgcolor": "#E5ECF6",
           "caxis": {
            "gridcolor": "white",
            "linecolor": "white",
            "ticks": ""
           }
          },
          "title": {
           "x": 0.05
          },
          "xaxis": {
           "automargin": true,
           "gridcolor": "white",
           "linecolor": "white",
           "ticks": "",
           "title": {
            "standoff": 15
           },
           "zerolinecolor": "white",
           "zerolinewidth": 2
          },
          "yaxis": {
           "automargin": true,
           "gridcolor": "white",
           "linecolor": "white",
           "ticks": "",
           "title": {
            "standoff": 15
           },
           "zerolinecolor": "white",
           "zerolinewidth": 2
          }
         }
        },
        "title": {
         "text": "FRED-Q"
        },
        "xaxis": {
         "anchor": "y",
         "domain": [
          0,
          1
         ],
         "nticks": 10,
         "tickfont": {
          "size": 20
         },
         "tickformat": "%Y",
         "title": {
          "text": "Date"
         }
        },
        "yaxis": {
         "anchor": "x",
         "domain": [
          0,
          1
         ],
         "title": {
          "text": "Value"
         }
        }
       }
      },
      "text/html": [
       "<div>                            <div id=\"a334fe20-9a95-483a-a336-341bf4ac60a0\" class=\"plotly-graph-div\" style=\"height:525px; width:100%;\"></div>            <script type=\"text/javascript\">                require([\"plotly\"], function(Plotly) {                    window.PLOTLYENV=window.PLOTLYENV || {};                                    if (document.getElementById(\"a334fe20-9a95-483a-a336-341bf4ac60a0\")) {                    Plotly.newPlot(                        \"a334fe20-9a95-483a-a336-341bf4ac60a0\",                        [{\"hovertemplate\":\"sasdate=%{x}<br>GDPC1=%{y}<extra></extra>\",\"legendgroup\":\"\",\"line\":{\"color\":\"#636efa\",\"dash\":\"solid\"},\"marker\":{\"symbol\":\"circle\"},\"mode\":\"lines\",\"name\":\"\",\"orientation\":\"v\",\"showlegend\":false,\"x\":[\"2007-01-01T00:00:00\",\"2007-02-01T00:00:00\",\"2007-03-01T00:00:00\",\"2007-04-01T00:00:00\",\"2007-05-01T00:00:00\",\"2007-06-01T00:00:00\",\"2007-07-01T00:00:00\",\"2007-08-01T00:00:00\",\"2007-09-01T00:00:00\",\"2007-10-01T00:00:00\",\"2007-11-01T00:00:00\",\"2007-12-01T00:00:00\",\"2008-01-01T00:00:00\",\"2008-02-01T00:00:00\",\"2008-03-01T00:00:00\",\"2008-04-01T00:00:00\",\"2008-05-01T00:00:00\",\"2008-06-01T00:00:00\",\"2008-07-01T00:00:00\",\"2008-08-01T00:00:00\",\"2008-09-01T00:00:00\",\"2008-10-01T00:00:00\",\"2008-11-01T00:00:00\",\"2008-12-01T00:00:00\",\"2009-01-01T00:00:00\",\"2009-02-01T00:00:00\",\"2009-03-01T00:00:00\",\"2009-04-01T00:00:00\",\"2009-05-01T00:00:00\",\"2009-06-01T00:00:00\",\"2009-07-01T00:00:00\",\"2009-08-01T00:00:00\",\"2009-09-01T00:00:00\",\"2009-10-01T00:00:00\",\"2009-11-01T00:00:00\",\"2009-12-01T00:00:00\",\"2010-01-01T00:00:00\",\"2010-02-01T00:00:00\",\"2010-03-01T00:00:00\",\"2010-04-01T00:00:00\",\"2010-05-01T00:00:00\",\"2010-06-01T00:00:00\",\"2010-07-01T00:00:00\",\"2010-08-01T00:00:00\",\"2010-09-01T00:00:00\",\"2010-10-01T00:00:00\",\"2010-11-01T00:00:00\",\"2010-12-01T00:00:00\",\"2011-01-01T00:00:00\",\"2011-02-01T00:00:00\",\"2011-03-01T00:00:00\",\"2011-04-01T00:00:00\",\"2011-05-01T00:00:00\",\"2011-06-01T00:00:00\",\"2011-07-01T00:00:00\",\"2011-08-01T00:00:00\",\"2011-09-01T00:00:00\",\"2011-10-01T00:00:00\",\"2011-11-01T00:00:00\",\"2011-12-01T00:00:00\",\"2012-01-01T00:00:00\",\"2012-02-01T00:00:00\",\"2012-03-01T00:00:00\",\"2012-04-01T00:00:00\",\"2012-05-01T00:00:00\",\"2012-06-01T00:00:00\",\"2012-07-01T00:00:00\",\"2012-08-01T00:00:00\",\"2012-09-01T00:00:00\",\"2012-10-01T00:00:00\",\"2012-11-01T00:00:00\",\"2012-12-01T00:00:00\",\"2013-01-01T00:00:00\",\"2013-02-01T00:00:00\",\"2013-03-01T00:00:00\",\"2013-04-01T00:00:00\",\"2013-05-01T00:00:00\",\"2013-06-01T00:00:00\",\"2013-07-01T00:00:00\",\"2013-08-01T00:00:00\",\"2013-09-01T00:00:00\",\"2013-10-01T00:00:00\",\"2013-11-01T00:00:00\",\"2013-12-01T00:00:00\",\"2014-01-01T00:00:00\",\"2014-02-01T00:00:00\",\"2014-03-01T00:00:00\",\"2014-04-01T00:00:00\",\"2014-05-01T00:00:00\",\"2014-06-01T00:00:00\",\"2014-07-01T00:00:00\",\"2014-08-01T00:00:00\",\"2014-09-01T00:00:00\",\"2014-10-01T00:00:00\",\"2014-11-01T00:00:00\",\"2014-12-01T00:00:00\",\"2015-01-01T00:00:00\",\"2015-02-01T00:00:00\",\"2015-03-01T00:00:00\",\"2015-04-01T00:00:00\",\"2015-05-01T00:00:00\",\"2015-06-01T00:00:00\",\"2015-07-01T00:00:00\",\"2015-08-01T00:00:00\",\"2015-09-01T00:00:00\",\"2015-10-01T00:00:00\",\"2015-11-01T00:00:00\",\"2015-12-01T00:00:00\",\"2016-01-01T00:00:00\",\"2016-02-01T00:00:00\",\"2016-03-01T00:00:00\",\"2016-04-01T00:00:00\",\"2016-05-01T00:00:00\",\"2016-06-01T00:00:00\",\"2016-07-01T00:00:00\",\"2016-08-01T00:00:00\",\"2016-09-01T00:00:00\",\"2016-10-01T00:00:00\",\"2016-11-01T00:00:00\",\"2016-12-01T00:00:00\",\"2017-01-01T00:00:00\",\"2017-02-01T00:00:00\",\"2017-03-01T00:00:00\",\"2017-04-01T00:00:00\",\"2017-05-01T00:00:00\",\"2017-06-01T00:00:00\",\"2017-07-01T00:00:00\",\"2017-08-01T00:00:00\",\"2017-09-01T00:00:00\",\"2017-10-01T00:00:00\",\"2017-11-01T00:00:00\",\"2017-12-01T00:00:00\",\"2018-01-01T00:00:00\",\"2018-02-01T00:00:00\",\"2018-03-01T00:00:00\",\"2018-04-01T00:00:00\",\"2018-05-01T00:00:00\",\"2018-06-01T00:00:00\",\"2018-07-01T00:00:00\",\"2018-08-01T00:00:00\",\"2018-09-01T00:00:00\",\"2018-10-01T00:00:00\",\"2018-11-01T00:00:00\",\"2018-12-01T00:00:00\",\"2019-01-01T00:00:00\",\"2019-02-01T00:00:00\",\"2019-03-01T00:00:00\",\"2019-04-01T00:00:00\",\"2019-05-01T00:00:00\",\"2019-06-01T00:00:00\",\"2019-07-01T00:00:00\",\"2019-08-01T00:00:00\",\"2019-09-01T00:00:00\",\"2019-10-01T00:00:00\",\"2019-11-01T00:00:00\",\"2019-12-01T00:00:00\",\"2020-01-01T00:00:00\",\"2020-02-01T00:00:00\",\"2020-03-01T00:00:00\",\"2020-04-01T00:00:00\",\"2020-05-01T00:00:00\",\"2020-06-01T00:00:00\",\"2020-07-01T00:00:00\",\"2020-08-01T00:00:00\",\"2020-09-01T00:00:00\",\"2020-10-01T00:00:00\",\"2020-11-01T00:00:00\",\"2020-12-01T00:00:00\",\"2021-01-01T00:00:00\",\"2021-02-01T00:00:00\",\"2021-03-01T00:00:00\",\"2021-04-01T00:00:00\",\"2021-05-01T00:00:00\",\"2021-06-01T00:00:00\",\"2021-07-01T00:00:00\",\"2021-08-01T00:00:00\",\"2021-09-01T00:00:00\",\"2021-10-01T00:00:00\",\"2021-11-01T00:00:00\",\"2021-12-01T00:00:00\",\"2022-01-01T00:00:00\",\"2022-02-01T00:00:00\",\"2022-03-01T00:00:00\",\"2022-04-01T00:00:00\",\"2022-05-01T00:00:00\",\"2022-06-01T00:00:00\",\"2022-07-01T00:00:00\",\"2022-08-01T00:00:00\",\"2022-09-01T00:00:00\",\"2022-10-01T00:00:00\",\"2022-11-01T00:00:00\",\"2022-12-01T00:00:00\",\"2023-01-01T00:00:00\",\"2023-02-01T00:00:00\",\"2023-03-01T00:00:00\",\"2023-04-01T00:00:00\",\"2023-05-01T00:00:00\",\"2023-06-01T00:00:00\",\"2023-07-01T00:00:00\",\"2023-08-01T00:00:00\",\"2023-09-01T00:00:00\",\"2023-10-01T00:00:00\",\"2023-11-01T00:00:00\",\"2023-12-01T00:00:00\"],\"xaxis\":\"x\",\"y\":[-4.398663659839158e-05,-0.036556146137466716,-0.05766396374509221,-0.048155558918530086,-0.009702137788755219,-0.010141448722342516,-0.03996631328177459,-0.03467047058940833,0.02353804152434845,-0.020935733983083377,0.03881591496166959,0.0052773175383284965,-4.2451762790845655e-05,-0.028535031083708494,-0.03564367715731784,-0.03901909226556456,-0.01961329549070396,-0.008892088436174247,-0.014593885709153109,-0.01788672742301264,0.02502289300532909,-0.004136738510670392,0.021115210197501053,-0.006434996550246375,-1.000367594634573e-05,-0.02441547713478253,-0.03864023481958559,-0.02867394903486276,-0.00015318260502426503,-0.006341761688448564,-0.03449112218337321,-0.03393568780371739,0.011111528633350767,-0.01950790399267073,0.021612010036507798,0.0002637920872134991,-6.17709360032636e-05,-0.01224215640766277,-0.013195968428716554,-0.02458093823006734,-0.024469524690596905,-0.004940284890828791,0.013866289505909324,0.017473649683999497,0.02201792650757553,0.01212261834685475,0.016632383567816444,0.00684532409818539,-0.00015253636563539988,-0.05321606883687732,-0.0577964828662474,-0.08594144820639404,-0.06871173686195914,-0.018922834874295337,0.013504673252744601,0.010957317259044,0.06800984004659956,0.021928593031821358,0.04703660094271795,0.00382822882207412,0.00013807790370521929,-0.006174125235006045,-0.029003469076109595,0.01800211560739408,0.06424222389057405,0.0030998624594041017,-0.09086231889453444,-0.09523356565095985,-0.03959572003516761,-0.06344040849189501,-0.00550738572635576,0.003849834816431308,-0.00012103867074842561,-0.06348084720662836,-0.07225786450462653,-0.09154907311965159,-0.05913942431343899,-0.02096362535220809,-0.012434866691141008,-0.02212611158519765,0.06522681628481568,0.007178810264684227,0.04564782677835752,0.0074118960803533085,5.253137416675948e-05,0.025575264759594825,0.024671797934207342,0.037535919650285465,0.029412730038838757,0.00891278879541956,-0.0022344442763083273,0.0052719753588819805,-0.029124310793960058,-0.00872600093358678,-0.015108612343115477,0.006625999105176028,-3.848111275956107e-05,-0.016755009661986897,-0.02253406474703156,-0.025363309918599974,-0.014278705570460718,-0.005375958595440239,-0.0052735818809034095,-0.0035114784253831694,0.017188056836496726,-0.0005197043109725994,0.01693296458316481,0.005244262075564166,0.00010655109926730614,0.02011999517864298,0.010546078434471036,0.04124378195072896,0.05289130861844067,0.0091892540696299,-0.03972321662912511,-0.03595922172089046,-0.04252745273625816,-0.03385479481605595,-0.01714862435505876,0.005395276664614812,-7.783887033959713e-05,-0.02973164142940585,-0.031189534146775923,-0.046682861034330767,-0.03719018975795498,-0.010500760205094026,0.006613345650768968,0.0030253238848998026,0.037011880141502834,0.01206620531529074,0.02252210297949407,0.007375485342564048,1.7551980750305914e-05,-0.024604603183842826,-0.044057834801976434,-0.023944797243325808,0.01376984652455747,-0.005348556216664415,-0.052455663216408,-0.051492931849119024,0.0023610080191905428,-0.03268145322099,0.020540716381622994,0.005257112915336926,-0.00013547261443069136,-0.04508855229929967,-0.05065012454126502,-0.07395259030894648,-0.05857914086528203,-0.016021096090781412,0.011858255898887508,0.012307534740760573,0.0584143196614547,0.018270798767764846,0.042597692471893114,0.007832405610754822,4.616644814786347e-05,0.011314705585648446,0.013011443103240606,0.020742418574460093,0.018176815646152686,0.004267870685535966,-0.006558845990005511,-0.008812750936068328,-0.016989922074668883,-0.007058546692665557,-0.015293112606312904,-0.002722988211650623,-8.256870718254219e-06,-0.032463342923433544,-0.04825390883288151,-0.037209084544964834,-0.0018219466761704457,-0.008581562543633264,-0.042762271319375204,-0.04567377588647796,0.015465658662714968,-0.023084492221426507,0.022723810805063648,0.013198135471943484,-5.723034693844639e-05,-0.025849433929881836,-0.02927807395706808,-0.038724457270998366,-0.026904478329231492,-0.00871249715894686,-0.0008832378910921821,-0.0035941463938311494,0.028908702861734026,0.0051650995199053855,0.01868731045359519,0.0016239433255327285,-2.6820182870227462e-05,-0.020225842113259687,-0.03237711449354756,-0.027104885765333993,-0.005785283338411839,-0.005618462990878193,-0.0211993371873015,-0.01735870293917361,0.013663749248841898,-0.011627083783491367,0.021486165642173875,0.007715922364581296],\"yaxis\":\"y\",\"type\":\"scatter\"},{\"hovertemplate\":\"index=%{x}<br>GDPC1=%{y}<extra></extra>\",\"legendgroup\":\"\",\"marker\":{\"color\":\"red\",\"size\":5,\"symbol\":\"diamond\"},\"mode\":\"markers\",\"name\":\"\",\"orientation\":\"v\",\"showlegend\":false,\"x\":[\"2007-12-01T00:00:00\",\"2008-12-01T00:00:00\",\"2009-12-01T00:00:00\",\"2010-12-01T00:00:00\",\"2011-12-01T00:00:00\",\"2012-12-01T00:00:00\",\"2013-12-01T00:00:00\",\"2014-12-01T00:00:00\",\"2015-12-01T00:00:00\",\"2016-12-01T00:00:00\",\"2017-12-01T00:00:00\",\"2018-12-01T00:00:00\",\"2019-12-01T00:00:00\",\"2020-12-01T00:00:00\",\"2021-12-01T00:00:00\",\"2022-12-01T00:00:00\",\"2023-12-01T00:00:00\"],\"xaxis\":\"x\",\"y\":[0.0052773175383284965,-0.006434996550246375,0.0002637920872134991,0.00684532409818539,0.00382822882207412,0.003849834816431308,0.0074118960803533085,0.006625999105176028,0.005244262075564166,0.005395276664614812,0.007375485342564048,0.005257112915336926,0.007832405610754822,-0.002722988211650623,0.013198135471943484,0.0016239433255327285,0.007715922364581296],\"yaxis\":\"y\",\"type\":\"scatter\"},{\"hovertemplate\":\"x=%{x}<br>GDPC1=%{y}<extra></extra>\",\"legendgroup\":\"\",\"line\":{\"color\":\"green\",\"dash\":\"solid\"},\"marker\":{\"color\":\"green\",\"size\":5,\"symbol\":\"diamond\"},\"mode\":\"lines+markers\",\"name\":\"\",\"orientation\":\"v\",\"showlegend\":false,\"x\":[\"3/1/2007\",\"6/1/2007\",\"9/1/2007\",\"12/1/2007\",\"3/1/2008\",\"6/1/2008\",\"9/1/2008\",\"12/1/2008\",\"3/1/2009\",\"6/1/2009\",\"9/1/2009\",\"12/1/2009\",\"3/1/2010\",\"6/1/2010\",\"9/1/2010\",\"12/1/2010\",\"3/1/2011\",\"6/1/2011\",\"9/1/2011\",\"12/1/2011\",\"3/1/2012\",\"6/1/2012\",\"9/1/2012\",\"12/1/2012\",\"3/1/2013\",\"6/1/2013\",\"9/1/2013\",\"12/1/2013\",\"3/1/2014\",\"6/1/2014\",\"9/1/2014\",\"12/1/2014\",\"3/1/2015\",\"6/1/2015\",\"9/1/2015\",\"12/1/2015\",\"3/1/2016\",\"6/1/2016\",\"9/1/2016\",\"12/1/2016\",\"3/1/2017\",\"6/1/2017\",\"9/1/2017\",\"12/1/2017\",\"3/1/2018\",\"6/1/2018\",\"9/1/2018\",\"12/1/2018\",\"3/1/2019\",\"6/1/2019\",\"9/1/2019\",\"12/1/2019\",\"3/1/2020\",\"6/1/2020\",\"9/1/2020\",\"12/1/2020\",\"3/1/2021\",\"6/1/2021\",\"9/1/2021\",\"12/1/2021\",\"3/1/2022\",\"6/1/2022\",\"9/1/2022\",\"12/1/2022\",\"3/1/2023\",\"6/1/2023\",\"9/1/2023\",\"12/1/2023\",\"3/1/2024\"],\"xaxis\":\"x\",\"y\":[0.003003840617131104,0.006098982914680917,0.005743731109307149,0.006262715512194816,-0.004276775590032145,0.005936625931315831,-0.0052664238027837484,-0.022133412739485436,-0.011413631359902254,-0.00178810721762801,0.0035057715471396023,0.010751135379244658,0.00483331022067901,0.009629349822608546,0.007681272705003295,0.00523736364445071,-0.0023748667360496967,0.006743037468666557,-0.000223152255784953,0.011167896811464573,0.008350941818790147,0.004453416266322563,0.0014392437648620415,0.0011557374157504796,0.009817259265515688,0.0026727882651371715,0.0084778965524972,0.008679640238263175,-0.0034569281496601434,0.012835690229149321,0.012080648325781596,0.005044586015433339,0.008964547876924911,0.006174946582536478,0.003994462115690212,0.0018430917271050618,0.005778466518471248,0.0032060956626729364,0.0070688591911043375,0.005527685286210726,0.00485708733103607,0.005583111012978037,0.00785431525684821,0.011207427769393874,0.008101194549169577,0.005294212303768475,0.00621760482522582,0.0014154399831838305,0.00541631653224961,0.0082624533584017,0.011258144435872808,0.006392708116495172,-0.013722370365645276,-0.08219774895039755,0.07472914013621157,0.010299026333228767,0.012773282331284719,0.015083139798498735,0.008110740728369592,0.01682537902962089,-0.004989218813230778,-0.0014137216932006424,0.006564592779746192,0.006334121028816142,0.005548385736220851,0.005098203034052062,0.011868005421165506,0.008349095266886764,0.003943446468410272],\"yaxis\":\"y\",\"type\":\"scatter\"}],                        {\"template\":{\"data\":{\"histogram2dcontour\":[{\"type\":\"histogram2dcontour\",\"colorbar\":{\"outlinewidth\":0,\"ticks\":\"\"},\"colorscale\":[[0.0,\"#0d0887\"],[0.1111111111111111,\"#46039f\"],[0.2222222222222222,\"#7201a8\"],[0.3333333333333333,\"#9c179e\"],[0.4444444444444444,\"#bd3786\"],[0.5555555555555556,\"#d8576b\"],[0.6666666666666666,\"#ed7953\"],[0.7777777777777778,\"#fb9f3a\"],[0.8888888888888888,\"#fdca26\"],[1.0,\"#f0f921\"]]}],\"choropleth\":[{\"type\":\"choropleth\",\"colorbar\":{\"outlinewidth\":0,\"ticks\":\"\"}}],\"histogram2d\":[{\"type\":\"histogram2d\",\"colorbar\":{\"outlinewidth\":0,\"ticks\":\"\"},\"colorscale\":[[0.0,\"#0d0887\"],[0.1111111111111111,\"#46039f\"],[0.2222222222222222,\"#7201a8\"],[0.3333333333333333,\"#9c179e\"],[0.4444444444444444,\"#bd3786\"],[0.5555555555555556,\"#d8576b\"],[0.6666666666666666,\"#ed7953\"],[0.7777777777777778,\"#fb9f3a\"],[0.8888888888888888,\"#fdca26\"],[1.0,\"#f0f921\"]]}],\"heatmap\":[{\"type\":\"heatmap\",\"colorbar\":{\"outlinewidth\":0,\"ticks\":\"\"},\"colorscale\":[[0.0,\"#0d0887\"],[0.1111111111111111,\"#46039f\"],[0.2222222222222222,\"#7201a8\"],[0.3333333333333333,\"#9c179e\"],[0.4444444444444444,\"#bd3786\"],[0.5555555555555556,\"#d8576b\"],[0.6666666666666666,\"#ed7953\"],[0.7777777777777778,\"#fb9f3a\"],[0.8888888888888888,\"#fdca26\"],[1.0,\"#f0f921\"]]}],\"heatmapgl\":[{\"type\":\"heatmapgl\",\"colorbar\":{\"outlinewidth\":0,\"ticks\":\"\"},\"colorscale\":[[0.0,\"#0d0887\"],[0.1111111111111111,\"#46039f\"],[0.2222222222222222,\"#7201a8\"],[0.3333333333333333,\"#9c179e\"],[0.4444444444444444,\"#bd3786\"],[0.5555555555555556,\"#d8576b\"],[0.6666666666666666,\"#ed7953\"],[0.7777777777777778,\"#fb9f3a\"],[0.8888888888888888,\"#fdca26\"],[1.0,\"#f0f921\"]]}],\"contourcarpet\":[{\"type\":\"contourcarpet\",\"colorbar\":{\"outlinewidth\":0,\"ticks\":\"\"}}],\"contour\":[{\"type\":\"contour\",\"colorbar\":{\"outlinewidth\":0,\"ticks\":\"\"},\"colorscale\":[[0.0,\"#0d0887\"],[0.1111111111111111,\"#46039f\"],[0.2222222222222222,\"#7201a8\"],[0.3333333333333333,\"#9c179e\"],[0.4444444444444444,\"#bd3786\"],[0.5555555555555556,\"#d8576b\"],[0.6666666666666666,\"#ed7953\"],[0.7777777777777778,\"#fb9f3a\"],[0.8888888888888888,\"#fdca26\"],[1.0,\"#f0f921\"]]}],\"surface\":[{\"type\":\"surface\",\"colorbar\":{\"outlinewidth\":0,\"ticks\":\"\"},\"colorscale\":[[0.0,\"#0d0887\"],[0.1111111111111111,\"#46039f\"],[0.2222222222222222,\"#7201a8\"],[0.3333333333333333,\"#9c179e\"],[0.4444444444444444,\"#bd3786\"],[0.5555555555555556,\"#d8576b\"],[0.6666666666666666,\"#ed7953\"],[0.7777777777777778,\"#fb9f3a\"],[0.8888888888888888,\"#fdca26\"],[1.0,\"#f0f921\"]]}],\"mesh3d\":[{\"type\":\"mesh3d\",\"colorbar\":{\"outlinewidth\":0,\"ticks\":\"\"}}],\"scatter\":[{\"fillpattern\":{\"fillmode\":\"overlay\",\"size\":10,\"solidity\":0.2},\"type\":\"scatter\"}],\"parcoords\":[{\"type\":\"parcoords\",\"line\":{\"colorbar\":{\"outlinewidth\":0,\"ticks\":\"\"}}}],\"scatterpolargl\":[{\"type\":\"scatterpolargl\",\"marker\":{\"colorbar\":{\"outlinewidth\":0,\"ticks\":\"\"}}}],\"bar\":[{\"error_x\":{\"color\":\"#2a3f5f\"},\"error_y\":{\"color\":\"#2a3f5f\"},\"marker\":{\"line\":{\"color\":\"#E5ECF6\",\"width\":0.5},\"pattern\":{\"fillmode\":\"overlay\",\"size\":10,\"solidity\":0.2}},\"type\":\"bar\"}],\"scattergeo\":[{\"type\":\"scattergeo\",\"marker\":{\"colorbar\":{\"outlinewidth\":0,\"ticks\":\"\"}}}],\"scatterpolar\":[{\"type\":\"scatterpolar\",\"marker\":{\"colorbar\":{\"outlinewidth\":0,\"ticks\":\"\"}}}],\"histogram\":[{\"marker\":{\"pattern\":{\"fillmode\":\"overlay\",\"size\":10,\"solidity\":0.2}},\"type\":\"histogram\"}],\"scattergl\":[{\"type\":\"scattergl\",\"marker\":{\"colorbar\":{\"outlinewidth\":0,\"ticks\":\"\"}}}],\"scatter3d\":[{\"type\":\"scatter3d\",\"line\":{\"colorbar\":{\"outlinewidth\":0,\"ticks\":\"\"}},\"marker\":{\"colorbar\":{\"outlinewidth\":0,\"ticks\":\"\"}}}],\"scattermapbox\":[{\"type\":\"scattermapbox\",\"marker\":{\"colorbar\":{\"outlinewidth\":0,\"ticks\":\"\"}}}],\"scatterternary\":[{\"type\":\"scatterternary\",\"marker\":{\"colorbar\":{\"outlinewidth\":0,\"ticks\":\"\"}}}],\"scattercarpet\":[{\"type\":\"scattercarpet\",\"marker\":{\"colorbar\":{\"outlinewidth\":0,\"ticks\":\"\"}}}],\"carpet\":[{\"aaxis\":{\"endlinecolor\":\"#2a3f5f\",\"gridcolor\":\"white\",\"linecolor\":\"white\",\"minorgridcolor\":\"white\",\"startlinecolor\":\"#2a3f5f\"},\"baxis\":{\"endlinecolor\":\"#2a3f5f\",\"gridcolor\":\"white\",\"linecolor\":\"white\",\"minorgridcolor\":\"white\",\"startlinecolor\":\"#2a3f5f\"},\"type\":\"carpet\"}],\"table\":[{\"cells\":{\"fill\":{\"color\":\"#EBF0F8\"},\"line\":{\"color\":\"white\"}},\"header\":{\"fill\":{\"color\":\"#C8D4E3\"},\"line\":{\"color\":\"white\"}},\"type\":\"table\"}],\"barpolar\":[{\"marker\":{\"line\":{\"color\":\"#E5ECF6\",\"width\":0.5},\"pattern\":{\"fillmode\":\"overlay\",\"size\":10,\"solidity\":0.2}},\"type\":\"barpolar\"}],\"pie\":[{\"automargin\":true,\"type\":\"pie\"}]},\"layout\":{\"autotypenumbers\":\"strict\",\"colorway\":[\"#636efa\",\"#EF553B\",\"#00cc96\",\"#ab63fa\",\"#FFA15A\",\"#19d3f3\",\"#FF6692\",\"#B6E880\",\"#FF97FF\",\"#FECB52\"],\"font\":{\"color\":\"#2a3f5f\"},\"hovermode\":\"closest\",\"hoverlabel\":{\"align\":\"left\"},\"paper_bgcolor\":\"white\",\"plot_bgcolor\":\"#E5ECF6\",\"polar\":{\"bgcolor\":\"#E5ECF6\",\"angularaxis\":{\"gridcolor\":\"white\",\"linecolor\":\"white\",\"ticks\":\"\"},\"radialaxis\":{\"gridcolor\":\"white\",\"linecolor\":\"white\",\"ticks\":\"\"}},\"ternary\":{\"bgcolor\":\"#E5ECF6\",\"aaxis\":{\"gridcolor\":\"white\",\"linecolor\":\"white\",\"ticks\":\"\"},\"baxis\":{\"gridcolor\":\"white\",\"linecolor\":\"white\",\"ticks\":\"\"},\"caxis\":{\"gridcolor\":\"white\",\"linecolor\":\"white\",\"ticks\":\"\"}},\"coloraxis\":{\"colorbar\":{\"outlinewidth\":0,\"ticks\":\"\"}},\"colorscale\":{\"sequential\":[[0.0,\"#0d0887\"],[0.1111111111111111,\"#46039f\"],[0.2222222222222222,\"#7201a8\"],[0.3333333333333333,\"#9c179e\"],[0.4444444444444444,\"#bd3786\"],[0.5555555555555556,\"#d8576b\"],[0.6666666666666666,\"#ed7953\"],[0.7777777777777778,\"#fb9f3a\"],[0.8888888888888888,\"#fdca26\"],[1.0,\"#f0f921\"]],\"sequentialminus\":[[0.0,\"#0d0887\"],[0.1111111111111111,\"#46039f\"],[0.2222222222222222,\"#7201a8\"],[0.3333333333333333,\"#9c179e\"],[0.4444444444444444,\"#bd3786\"],[0.5555555555555556,\"#d8576b\"],[0.6666666666666666,\"#ed7953\"],[0.7777777777777778,\"#fb9f3a\"],[0.8888888888888888,\"#fdca26\"],[1.0,\"#f0f921\"]],\"diverging\":[[0,\"#8e0152\"],[0.1,\"#c51b7d\"],[0.2,\"#de77ae\"],[0.3,\"#f1b6da\"],[0.4,\"#fde0ef\"],[0.5,\"#f7f7f7\"],[0.6,\"#e6f5d0\"],[0.7,\"#b8e186\"],[0.8,\"#7fbc41\"],[0.9,\"#4d9221\"],[1,\"#276419\"]]},\"xaxis\":{\"gridcolor\":\"white\",\"linecolor\":\"white\",\"ticks\":\"\",\"title\":{\"standoff\":15},\"zerolinecolor\":\"white\",\"automargin\":true,\"zerolinewidth\":2},\"yaxis\":{\"gridcolor\":\"white\",\"linecolor\":\"white\",\"ticks\":\"\",\"title\":{\"standoff\":15},\"zerolinecolor\":\"white\",\"automargin\":true,\"zerolinewidth\":2},\"scene\":{\"xaxis\":{\"backgroundcolor\":\"#E5ECF6\",\"gridcolor\":\"white\",\"linecolor\":\"white\",\"showbackground\":true,\"ticks\":\"\",\"zerolinecolor\":\"white\",\"gridwidth\":2},\"yaxis\":{\"backgroundcolor\":\"#E5ECF6\",\"gridcolor\":\"white\",\"linecolor\":\"white\",\"showbackground\":true,\"ticks\":\"\",\"zerolinecolor\":\"white\",\"gridwidth\":2},\"zaxis\":{\"backgroundcolor\":\"#E5ECF6\",\"gridcolor\":\"white\",\"linecolor\":\"white\",\"showbackground\":true,\"ticks\":\"\",\"zerolinecolor\":\"white\",\"gridwidth\":2}},\"shapedefaults\":{\"line\":{\"color\":\"#2a3f5f\"}},\"annotationdefaults\":{\"arrowcolor\":\"#2a3f5f\",\"arrowhead\":0,\"arrowwidth\":1},\"geo\":{\"bgcolor\":\"white\",\"landcolor\":\"#E5ECF6\",\"subunitcolor\":\"white\",\"showland\":true,\"showlakes\":true,\"lakecolor\":\"white\"},\"title\":{\"x\":0.05},\"mapbox\":{\"style\":\"light\"}}},\"xaxis\":{\"anchor\":\"y\",\"domain\":[0.0,1.0],\"title\":{\"text\":\"Date\"},\"tickfont\":{\"size\":20},\"nticks\":10,\"tickformat\":\"%Y\"},\"yaxis\":{\"anchor\":\"x\",\"domain\":[0.0,1.0],\"title\":{\"text\":\"Value\"}},\"legend\":{\"tracegroupgap\":0},\"title\":{\"text\":\"FRED-Q\"},\"font\":{\"size\":22}},                        {\"responsive\": true}                    ).then(function(){\n",
       "                            \n",
       "var gd = document.getElementById('a334fe20-9a95-483a-a336-341bf4ac60a0');\n",
       "var x = new MutationObserver(function (mutations, observer) {{\n",
       "        var display = window.getComputedStyle(gd).display;\n",
       "        if (!display || display === 'none') {{\n",
       "            console.log([gd, 'removed!']);\n",
       "            Plotly.purge(gd);\n",
       "            observer.disconnect();\n",
       "        }}\n",
       "}});\n",
       "\n",
       "// Listen for the removal of the full notebook cells\n",
       "var notebookContainer = gd.closest('#notebook-container');\n",
       "if (notebookContainer) {{\n",
       "    x.observe(notebookContainer, {childList: true});\n",
       "}}\n",
       "\n",
       "// Listen for the clearing of the current output cell\n",
       "var outputEl = gd.closest('.output');\n",
       "if (outputEl) {{\n",
       "    x.observe(outputEl, {childList: true});\n",
       "}}\n",
       "\n",
       "                        })                };                });            </script>        </div>"
      ]
     },
     "metadata": {},
     "output_type": "display_data"
    }
   ],
   "source": [
    "ttpca_plt(5, 6)"
   ]
  },
  {
   "cell_type": "code",
   "execution_count": 155,
   "id": "d3aec391",
   "metadata": {},
   "outputs": [
    {
     "data": {
      "application/vnd.plotly.v1+json": {
       "config": {
        "plotlyServerURL": "https://plot.ly"
       },
       "data": [
        {
         "hovertemplate": "x=%{x}<br>GDPC1=%{y}<extra></extra>",
         "legendgroup": "",
         "line": {
          "color": "#636efa",
          "dash": "solid"
         },
         "marker": {
          "symbol": "circle"
         },
         "mode": "markers+lines",
         "name": "",
         "orientation": "v",
         "showlegend": false,
         "type": "scatter",
         "x": [
          "3/1/2007",
          "6/1/2007",
          "9/1/2007",
          "12/1/2007",
          "3/1/2008",
          "6/1/2008",
          "9/1/2008",
          "12/1/2008",
          "3/1/2009",
          "6/1/2009",
          "9/1/2009",
          "12/1/2009",
          "3/1/2010",
          "6/1/2010",
          "9/1/2010",
          "12/1/2010",
          "3/1/2011",
          "6/1/2011",
          "9/1/2011",
          "12/1/2011",
          "3/1/2012",
          "6/1/2012",
          "9/1/2012",
          "12/1/2012",
          "3/1/2013",
          "6/1/2013",
          "9/1/2013",
          "12/1/2013",
          "3/1/2014",
          "6/1/2014",
          "9/1/2014",
          "12/1/2014",
          "3/1/2015",
          "6/1/2015",
          "9/1/2015",
          "12/1/2015",
          "3/1/2016",
          "6/1/2016",
          "9/1/2016",
          "12/1/2016",
          "3/1/2017",
          "6/1/2017",
          "9/1/2017",
          "12/1/2017",
          "3/1/2018",
          "6/1/2018",
          "9/1/2018",
          "12/1/2018",
          "3/1/2019",
          "6/1/2019",
          "9/1/2019",
          "12/1/2019",
          "3/1/2020",
          "6/1/2020",
          "9/1/2020",
          "12/1/2020",
          "3/1/2021",
          "6/1/2021",
          "9/1/2021",
          "12/1/2021",
          "3/1/2022",
          "6/1/2022",
          "9/1/2022",
          "12/1/2022",
          "3/1/2023",
          "6/1/2023",
          "9/1/2023",
          "12/1/2023"
         ],
         "xaxis": "x",
         "y": [
          0.003003840617131104,
          0.006098982914680917,
          0.005743731109307149,
          0.006262715512194816,
          -0.004276775590032145,
          0.005936625931315831,
          -0.0052664238027837484,
          -0.022133412739485436,
          -0.011413631359902254,
          -0.00178810721762801,
          0.0035057715471396023,
          0.010751135379244658,
          0.00483331022067901,
          0.009629349822608546,
          0.007681272705003295,
          0.00523736364445071,
          -0.0023748667360496967,
          0.006743037468666557,
          -0.000223152255784953,
          0.011167896811464573,
          0.008350941818790147,
          0.004453416266322563,
          0.0014392437648620415,
          0.0011557374157504796,
          0.009817259265515688,
          0.0026727882651371715,
          0.0084778965524972,
          0.008679640238263175,
          -0.0034569281496601434,
          0.012835690229149321,
          0.012080648325781596,
          0.005044586015433339,
          0.008964547876924911,
          0.006174946582536478,
          0.003994462115690212,
          0.0018430917271050618,
          0.005778466518471248,
          0.0032060956626729364,
          0.0070688591911043375,
          0.005527685286210726,
          0.00485708733103607,
          0.005583111012978037,
          0.00785431525684821,
          0.011207427769393874,
          0.008101194549169577,
          0.005294212303768475,
          0.00621760482522582,
          0.0014154399831838305,
          0.00541631653224961,
          0.0082624533584017,
          0.011258144435872808,
          0.006392708116495172,
          -0.013722370365645276,
          -0.08219774895039755,
          0.07472914013621157,
          0.010299026333228767,
          0.012773282331284719,
          0.015083139798498735,
          0.008110740728369592,
          0.01682537902962089,
          -0.004989218813230778,
          -0.0014137216932006424,
          0.006564592779746192,
          0.006334121028816142,
          0.005548385736220851,
          0.005098203034052062,
          0.011868005421165506,
          0.008349095266886764
         ],
         "yaxis": "y"
        }
       ],
       "layout": {
        "legend": {
         "tracegroupgap": 0
        },
        "margin": {
         "t": 60
        },
        "template": {
         "data": {
          "bar": [
           {
            "error_x": {
             "color": "#2a3f5f"
            },
            "error_y": {
             "color": "#2a3f5f"
            },
            "marker": {
             "line": {
              "color": "#E5ECF6",
              "width": 0.5
             },
             "pattern": {
              "fillmode": "overlay",
              "size": 10,
              "solidity": 0.2
             }
            },
            "type": "bar"
           }
          ],
          "barpolar": [
           {
            "marker": {
             "line": {
              "color": "#E5ECF6",
              "width": 0.5
             },
             "pattern": {
              "fillmode": "overlay",
              "size": 10,
              "solidity": 0.2
             }
            },
            "type": "barpolar"
           }
          ],
          "carpet": [
           {
            "aaxis": {
             "endlinecolor": "#2a3f5f",
             "gridcolor": "white",
             "linecolor": "white",
             "minorgridcolor": "white",
             "startlinecolor": "#2a3f5f"
            },
            "baxis": {
             "endlinecolor": "#2a3f5f",
             "gridcolor": "white",
             "linecolor": "white",
             "minorgridcolor": "white",
             "startlinecolor": "#2a3f5f"
            },
            "type": "carpet"
           }
          ],
          "choropleth": [
           {
            "colorbar": {
             "outlinewidth": 0,
             "ticks": ""
            },
            "type": "choropleth"
           }
          ],
          "contour": [
           {
            "colorbar": {
             "outlinewidth": 0,
             "ticks": ""
            },
            "colorscale": [
             [
              0,
              "#0d0887"
             ],
             [
              0.1111111111111111,
              "#46039f"
             ],
             [
              0.2222222222222222,
              "#7201a8"
             ],
             [
              0.3333333333333333,
              "#9c179e"
             ],
             [
              0.4444444444444444,
              "#bd3786"
             ],
             [
              0.5555555555555556,
              "#d8576b"
             ],
             [
              0.6666666666666666,
              "#ed7953"
             ],
             [
              0.7777777777777778,
              "#fb9f3a"
             ],
             [
              0.8888888888888888,
              "#fdca26"
             ],
             [
              1,
              "#f0f921"
             ]
            ],
            "type": "contour"
           }
          ],
          "contourcarpet": [
           {
            "colorbar": {
             "outlinewidth": 0,
             "ticks": ""
            },
            "type": "contourcarpet"
           }
          ],
          "heatmap": [
           {
            "colorbar": {
             "outlinewidth": 0,
             "ticks": ""
            },
            "colorscale": [
             [
              0,
              "#0d0887"
             ],
             [
              0.1111111111111111,
              "#46039f"
             ],
             [
              0.2222222222222222,
              "#7201a8"
             ],
             [
              0.3333333333333333,
              "#9c179e"
             ],
             [
              0.4444444444444444,
              "#bd3786"
             ],
             [
              0.5555555555555556,
              "#d8576b"
             ],
             [
              0.6666666666666666,
              "#ed7953"
             ],
             [
              0.7777777777777778,
              "#fb9f3a"
             ],
             [
              0.8888888888888888,
              "#fdca26"
             ],
             [
              1,
              "#f0f921"
             ]
            ],
            "type": "heatmap"
           }
          ],
          "heatmapgl": [
           {
            "colorbar": {
             "outlinewidth": 0,
             "ticks": ""
            },
            "colorscale": [
             [
              0,
              "#0d0887"
             ],
             [
              0.1111111111111111,
              "#46039f"
             ],
             [
              0.2222222222222222,
              "#7201a8"
             ],
             [
              0.3333333333333333,
              "#9c179e"
             ],
             [
              0.4444444444444444,
              "#bd3786"
             ],
             [
              0.5555555555555556,
              "#d8576b"
             ],
             [
              0.6666666666666666,
              "#ed7953"
             ],
             [
              0.7777777777777778,
              "#fb9f3a"
             ],
             [
              0.8888888888888888,
              "#fdca26"
             ],
             [
              1,
              "#f0f921"
             ]
            ],
            "type": "heatmapgl"
           }
          ],
          "histogram": [
           {
            "marker": {
             "pattern": {
              "fillmode": "overlay",
              "size": 10,
              "solidity": 0.2
             }
            },
            "type": "histogram"
           }
          ],
          "histogram2d": [
           {
            "colorbar": {
             "outlinewidth": 0,
             "ticks": ""
            },
            "colorscale": [
             [
              0,
              "#0d0887"
             ],
             [
              0.1111111111111111,
              "#46039f"
             ],
             [
              0.2222222222222222,
              "#7201a8"
             ],
             [
              0.3333333333333333,
              "#9c179e"
             ],
             [
              0.4444444444444444,
              "#bd3786"
             ],
             [
              0.5555555555555556,
              "#d8576b"
             ],
             [
              0.6666666666666666,
              "#ed7953"
             ],
             [
              0.7777777777777778,
              "#fb9f3a"
             ],
             [
              0.8888888888888888,
              "#fdca26"
             ],
             [
              1,
              "#f0f921"
             ]
            ],
            "type": "histogram2d"
           }
          ],
          "histogram2dcontour": [
           {
            "colorbar": {
             "outlinewidth": 0,
             "ticks": ""
            },
            "colorscale": [
             [
              0,
              "#0d0887"
             ],
             [
              0.1111111111111111,
              "#46039f"
             ],
             [
              0.2222222222222222,
              "#7201a8"
             ],
             [
              0.3333333333333333,
              "#9c179e"
             ],
             [
              0.4444444444444444,
              "#bd3786"
             ],
             [
              0.5555555555555556,
              "#d8576b"
             ],
             [
              0.6666666666666666,
              "#ed7953"
             ],
             [
              0.7777777777777778,
              "#fb9f3a"
             ],
             [
              0.8888888888888888,
              "#fdca26"
             ],
             [
              1,
              "#f0f921"
             ]
            ],
            "type": "histogram2dcontour"
           }
          ],
          "mesh3d": [
           {
            "colorbar": {
             "outlinewidth": 0,
             "ticks": ""
            },
            "type": "mesh3d"
           }
          ],
          "parcoords": [
           {
            "line": {
             "colorbar": {
              "outlinewidth": 0,
              "ticks": ""
             }
            },
            "type": "parcoords"
           }
          ],
          "pie": [
           {
            "automargin": true,
            "type": "pie"
           }
          ],
          "scatter": [
           {
            "fillpattern": {
             "fillmode": "overlay",
             "size": 10,
             "solidity": 0.2
            },
            "type": "scatter"
           }
          ],
          "scatter3d": [
           {
            "line": {
             "colorbar": {
              "outlinewidth": 0,
              "ticks": ""
             }
            },
            "marker": {
             "colorbar": {
              "outlinewidth": 0,
              "ticks": ""
             }
            },
            "type": "scatter3d"
           }
          ],
          "scattercarpet": [
           {
            "marker": {
             "colorbar": {
              "outlinewidth": 0,
              "ticks": ""
             }
            },
            "type": "scattercarpet"
           }
          ],
          "scattergeo": [
           {
            "marker": {
             "colorbar": {
              "outlinewidth": 0,
              "ticks": ""
             }
            },
            "type": "scattergeo"
           }
          ],
          "scattergl": [
           {
            "marker": {
             "colorbar": {
              "outlinewidth": 0,
              "ticks": ""
             }
            },
            "type": "scattergl"
           }
          ],
          "scattermapbox": [
           {
            "marker": {
             "colorbar": {
              "outlinewidth": 0,
              "ticks": ""
             }
            },
            "type": "scattermapbox"
           }
          ],
          "scatterpolar": [
           {
            "marker": {
             "colorbar": {
              "outlinewidth": 0,
              "ticks": ""
             }
            },
            "type": "scatterpolar"
           }
          ],
          "scatterpolargl": [
           {
            "marker": {
             "colorbar": {
              "outlinewidth": 0,
              "ticks": ""
             }
            },
            "type": "scatterpolargl"
           }
          ],
          "scatterternary": [
           {
            "marker": {
             "colorbar": {
              "outlinewidth": 0,
              "ticks": ""
             }
            },
            "type": "scatterternary"
           }
          ],
          "surface": [
           {
            "colorbar": {
             "outlinewidth": 0,
             "ticks": ""
            },
            "colorscale": [
             [
              0,
              "#0d0887"
             ],
             [
              0.1111111111111111,
              "#46039f"
             ],
             [
              0.2222222222222222,
              "#7201a8"
             ],
             [
              0.3333333333333333,
              "#9c179e"
             ],
             [
              0.4444444444444444,
              "#bd3786"
             ],
             [
              0.5555555555555556,
              "#d8576b"
             ],
             [
              0.6666666666666666,
              "#ed7953"
             ],
             [
              0.7777777777777778,
              "#fb9f3a"
             ],
             [
              0.8888888888888888,
              "#fdca26"
             ],
             [
              1,
              "#f0f921"
             ]
            ],
            "type": "surface"
           }
          ],
          "table": [
           {
            "cells": {
             "fill": {
              "color": "#EBF0F8"
             },
             "line": {
              "color": "white"
             }
            },
            "header": {
             "fill": {
              "color": "#C8D4E3"
             },
             "line": {
              "color": "white"
             }
            },
            "type": "table"
           }
          ]
         },
         "layout": {
          "annotationdefaults": {
           "arrowcolor": "#2a3f5f",
           "arrowhead": 0,
           "arrowwidth": 1
          },
          "autotypenumbers": "strict",
          "coloraxis": {
           "colorbar": {
            "outlinewidth": 0,
            "ticks": ""
           }
          },
          "colorscale": {
           "diverging": [
            [
             0,
             "#8e0152"
            ],
            [
             0.1,
             "#c51b7d"
            ],
            [
             0.2,
             "#de77ae"
            ],
            [
             0.3,
             "#f1b6da"
            ],
            [
             0.4,
             "#fde0ef"
            ],
            [
             0.5,
             "#f7f7f7"
            ],
            [
             0.6,
             "#e6f5d0"
            ],
            [
             0.7,
             "#b8e186"
            ],
            [
             0.8,
             "#7fbc41"
            ],
            [
             0.9,
             "#4d9221"
            ],
            [
             1,
             "#276419"
            ]
           ],
           "sequential": [
            [
             0,
             "#0d0887"
            ],
            [
             0.1111111111111111,
             "#46039f"
            ],
            [
             0.2222222222222222,
             "#7201a8"
            ],
            [
             0.3333333333333333,
             "#9c179e"
            ],
            [
             0.4444444444444444,
             "#bd3786"
            ],
            [
             0.5555555555555556,
             "#d8576b"
            ],
            [
             0.6666666666666666,
             "#ed7953"
            ],
            [
             0.7777777777777778,
             "#fb9f3a"
            ],
            [
             0.8888888888888888,
             "#fdca26"
            ],
            [
             1,
             "#f0f921"
            ]
           ],
           "sequentialminus": [
            [
             0,
             "#0d0887"
            ],
            [
             0.1111111111111111,
             "#46039f"
            ],
            [
             0.2222222222222222,
             "#7201a8"
            ],
            [
             0.3333333333333333,
             "#9c179e"
            ],
            [
             0.4444444444444444,
             "#bd3786"
            ],
            [
             0.5555555555555556,
             "#d8576b"
            ],
            [
             0.6666666666666666,
             "#ed7953"
            ],
            [
             0.7777777777777778,
             "#fb9f3a"
            ],
            [
             0.8888888888888888,
             "#fdca26"
            ],
            [
             1,
             "#f0f921"
            ]
           ]
          },
          "colorway": [
           "#636efa",
           "#EF553B",
           "#00cc96",
           "#ab63fa",
           "#FFA15A",
           "#19d3f3",
           "#FF6692",
           "#B6E880",
           "#FF97FF",
           "#FECB52"
          ],
          "font": {
           "color": "#2a3f5f"
          },
          "geo": {
           "bgcolor": "white",
           "lakecolor": "white",
           "landcolor": "#E5ECF6",
           "showlakes": true,
           "showland": true,
           "subunitcolor": "white"
          },
          "hoverlabel": {
           "align": "left"
          },
          "hovermode": "closest",
          "mapbox": {
           "style": "light"
          },
          "paper_bgcolor": "white",
          "plot_bgcolor": "#E5ECF6",
          "polar": {
           "angularaxis": {
            "gridcolor": "white",
            "linecolor": "white",
            "ticks": ""
           },
           "bgcolor": "#E5ECF6",
           "radialaxis": {
            "gridcolor": "white",
            "linecolor": "white",
            "ticks": ""
           }
          },
          "scene": {
           "xaxis": {
            "backgroundcolor": "#E5ECF6",
            "gridcolor": "white",
            "gridwidth": 2,
            "linecolor": "white",
            "showbackground": true,
            "ticks": "",
            "zerolinecolor": "white"
           },
           "yaxis": {
            "backgroundcolor": "#E5ECF6",
            "gridcolor": "white",
            "gridwidth": 2,
            "linecolor": "white",
            "showbackground": true,
            "ticks": "",
            "zerolinecolor": "white"
           },
           "zaxis": {
            "backgroundcolor": "#E5ECF6",
            "gridcolor": "white",
            "gridwidth": 2,
            "linecolor": "white",
            "showbackground": true,
            "ticks": "",
            "zerolinecolor": "white"
           }
          },
          "shapedefaults": {
           "line": {
            "color": "#2a3f5f"
           }
          },
          "ternary": {
           "aaxis": {
            "gridcolor": "white",
            "linecolor": "white",
            "ticks": ""
           },
           "baxis": {
            "gridcolor": "white",
            "linecolor": "white",
            "ticks": ""
           },
           "bgcolor": "#E5ECF6",
           "caxis": {
            "gridcolor": "white",
            "linecolor": "white",
            "ticks": ""
           }
          },
          "title": {
           "x": 0.05
          },
          "xaxis": {
           "automargin": true,
           "gridcolor": "white",
           "linecolor": "white",
           "ticks": "",
           "title": {
            "standoff": 15
           },
           "zerolinecolor": "white",
           "zerolinewidth": 2
          },
          "yaxis": {
           "automargin": true,
           "gridcolor": "white",
           "linecolor": "white",
           "ticks": "",
           "title": {
            "standoff": 15
           },
           "zerolinecolor": "white",
           "zerolinewidth": 2
          }
         }
        },
        "xaxis": {
         "anchor": "y",
         "domain": [
          0,
          1
         ],
         "title": {
          "text": "x"
         }
        },
        "yaxis": {
         "anchor": "x",
         "domain": [
          0,
          1
         ],
         "title": {
          "text": "GDPC1"
         }
        }
       }
      },
      "text/html": [
       "<div>                            <div id=\"caea5bb2-2689-462f-b9f8-79400391f4ee\" class=\"plotly-graph-div\" style=\"height:525px; width:100%;\"></div>            <script type=\"text/javascript\">                require([\"plotly\"], function(Plotly) {                    window.PLOTLYENV=window.PLOTLYENV || {};                                    if (document.getElementById(\"caea5bb2-2689-462f-b9f8-79400391f4ee\")) {                    Plotly.newPlot(                        \"caea5bb2-2689-462f-b9f8-79400391f4ee\",                        [{\"hovertemplate\":\"x=%{x}<br>GDPC1=%{y}<extra></extra>\",\"legendgroup\":\"\",\"line\":{\"color\":\"#636efa\",\"dash\":\"solid\"},\"marker\":{\"symbol\":\"circle\"},\"mode\":\"markers+lines\",\"name\":\"\",\"orientation\":\"v\",\"showlegend\":false,\"x\":[\"3/1/2007\",\"6/1/2007\",\"9/1/2007\",\"12/1/2007\",\"3/1/2008\",\"6/1/2008\",\"9/1/2008\",\"12/1/2008\",\"3/1/2009\",\"6/1/2009\",\"9/1/2009\",\"12/1/2009\",\"3/1/2010\",\"6/1/2010\",\"9/1/2010\",\"12/1/2010\",\"3/1/2011\",\"6/1/2011\",\"9/1/2011\",\"12/1/2011\",\"3/1/2012\",\"6/1/2012\",\"9/1/2012\",\"12/1/2012\",\"3/1/2013\",\"6/1/2013\",\"9/1/2013\",\"12/1/2013\",\"3/1/2014\",\"6/1/2014\",\"9/1/2014\",\"12/1/2014\",\"3/1/2015\",\"6/1/2015\",\"9/1/2015\",\"12/1/2015\",\"3/1/2016\",\"6/1/2016\",\"9/1/2016\",\"12/1/2016\",\"3/1/2017\",\"6/1/2017\",\"9/1/2017\",\"12/1/2017\",\"3/1/2018\",\"6/1/2018\",\"9/1/2018\",\"12/1/2018\",\"3/1/2019\",\"6/1/2019\",\"9/1/2019\",\"12/1/2019\",\"3/1/2020\",\"6/1/2020\",\"9/1/2020\",\"12/1/2020\",\"3/1/2021\",\"6/1/2021\",\"9/1/2021\",\"12/1/2021\",\"3/1/2022\",\"6/1/2022\",\"9/1/2022\",\"12/1/2022\",\"3/1/2023\",\"6/1/2023\",\"9/1/2023\",\"12/1/2023\"],\"xaxis\":\"x\",\"y\":[0.003003840617131104,0.006098982914680917,0.005743731109307149,0.006262715512194816,-0.004276775590032145,0.005936625931315831,-0.0052664238027837484,-0.022133412739485436,-0.011413631359902254,-0.00178810721762801,0.0035057715471396023,0.010751135379244658,0.00483331022067901,0.009629349822608546,0.007681272705003295,0.00523736364445071,-0.0023748667360496967,0.006743037468666557,-0.000223152255784953,0.011167896811464573,0.008350941818790147,0.004453416266322563,0.0014392437648620415,0.0011557374157504796,0.009817259265515688,0.0026727882651371715,0.0084778965524972,0.008679640238263175,-0.0034569281496601434,0.012835690229149321,0.012080648325781596,0.005044586015433339,0.008964547876924911,0.006174946582536478,0.003994462115690212,0.0018430917271050618,0.005778466518471248,0.0032060956626729364,0.0070688591911043375,0.005527685286210726,0.00485708733103607,0.005583111012978037,0.00785431525684821,0.011207427769393874,0.008101194549169577,0.005294212303768475,0.00621760482522582,0.0014154399831838305,0.00541631653224961,0.0082624533584017,0.011258144435872808,0.006392708116495172,-0.013722370365645276,-0.08219774895039755,0.07472914013621157,0.010299026333228767,0.012773282331284719,0.015083139798498735,0.008110740728369592,0.01682537902962089,-0.004989218813230778,-0.0014137216932006424,0.006564592779746192,0.006334121028816142,0.005548385736220851,0.005098203034052062,0.011868005421165506,0.008349095266886764],\"yaxis\":\"y\",\"type\":\"scatter\"}],                        {\"template\":{\"data\":{\"histogram2dcontour\":[{\"type\":\"histogram2dcontour\",\"colorbar\":{\"outlinewidth\":0,\"ticks\":\"\"},\"colorscale\":[[0.0,\"#0d0887\"],[0.1111111111111111,\"#46039f\"],[0.2222222222222222,\"#7201a8\"],[0.3333333333333333,\"#9c179e\"],[0.4444444444444444,\"#bd3786\"],[0.5555555555555556,\"#d8576b\"],[0.6666666666666666,\"#ed7953\"],[0.7777777777777778,\"#fb9f3a\"],[0.8888888888888888,\"#fdca26\"],[1.0,\"#f0f921\"]]}],\"choropleth\":[{\"type\":\"choropleth\",\"colorbar\":{\"outlinewidth\":0,\"ticks\":\"\"}}],\"histogram2d\":[{\"type\":\"histogram2d\",\"colorbar\":{\"outlinewidth\":0,\"ticks\":\"\"},\"colorscale\":[[0.0,\"#0d0887\"],[0.1111111111111111,\"#46039f\"],[0.2222222222222222,\"#7201a8\"],[0.3333333333333333,\"#9c179e\"],[0.4444444444444444,\"#bd3786\"],[0.5555555555555556,\"#d8576b\"],[0.6666666666666666,\"#ed7953\"],[0.7777777777777778,\"#fb9f3a\"],[0.8888888888888888,\"#fdca26\"],[1.0,\"#f0f921\"]]}],\"heatmap\":[{\"type\":\"heatmap\",\"colorbar\":{\"outlinewidth\":0,\"ticks\":\"\"},\"colorscale\":[[0.0,\"#0d0887\"],[0.1111111111111111,\"#46039f\"],[0.2222222222222222,\"#7201a8\"],[0.3333333333333333,\"#9c179e\"],[0.4444444444444444,\"#bd3786\"],[0.5555555555555556,\"#d8576b\"],[0.6666666666666666,\"#ed7953\"],[0.7777777777777778,\"#fb9f3a\"],[0.8888888888888888,\"#fdca26\"],[1.0,\"#f0f921\"]]}],\"heatmapgl\":[{\"type\":\"heatmapgl\",\"colorbar\":{\"outlinewidth\":0,\"ticks\":\"\"},\"colorscale\":[[0.0,\"#0d0887\"],[0.1111111111111111,\"#46039f\"],[0.2222222222222222,\"#7201a8\"],[0.3333333333333333,\"#9c179e\"],[0.4444444444444444,\"#bd3786\"],[0.5555555555555556,\"#d8576b\"],[0.6666666666666666,\"#ed7953\"],[0.7777777777777778,\"#fb9f3a\"],[0.8888888888888888,\"#fdca26\"],[1.0,\"#f0f921\"]]}],\"contourcarpet\":[{\"type\":\"contourcarpet\",\"colorbar\":{\"outlinewidth\":0,\"ticks\":\"\"}}],\"contour\":[{\"type\":\"contour\",\"colorbar\":{\"outlinewidth\":0,\"ticks\":\"\"},\"colorscale\":[[0.0,\"#0d0887\"],[0.1111111111111111,\"#46039f\"],[0.2222222222222222,\"#7201a8\"],[0.3333333333333333,\"#9c179e\"],[0.4444444444444444,\"#bd3786\"],[0.5555555555555556,\"#d8576b\"],[0.6666666666666666,\"#ed7953\"],[0.7777777777777778,\"#fb9f3a\"],[0.8888888888888888,\"#fdca26\"],[1.0,\"#f0f921\"]]}],\"surface\":[{\"type\":\"surface\",\"colorbar\":{\"outlinewidth\":0,\"ticks\":\"\"},\"colorscale\":[[0.0,\"#0d0887\"],[0.1111111111111111,\"#46039f\"],[0.2222222222222222,\"#7201a8\"],[0.3333333333333333,\"#9c179e\"],[0.4444444444444444,\"#bd3786\"],[0.5555555555555556,\"#d8576b\"],[0.6666666666666666,\"#ed7953\"],[0.7777777777777778,\"#fb9f3a\"],[0.8888888888888888,\"#fdca26\"],[1.0,\"#f0f921\"]]}],\"mesh3d\":[{\"type\":\"mesh3d\",\"colorbar\":{\"outlinewidth\":0,\"ticks\":\"\"}}],\"scatter\":[{\"fillpattern\":{\"fillmode\":\"overlay\",\"size\":10,\"solidity\":0.2},\"type\":\"scatter\"}],\"parcoords\":[{\"type\":\"parcoords\",\"line\":{\"colorbar\":{\"outlinewidth\":0,\"ticks\":\"\"}}}],\"scatterpolargl\":[{\"type\":\"scatterpolargl\",\"marker\":{\"colorbar\":{\"outlinewidth\":0,\"ticks\":\"\"}}}],\"bar\":[{\"error_x\":{\"color\":\"#2a3f5f\"},\"error_y\":{\"color\":\"#2a3f5f\"},\"marker\":{\"line\":{\"color\":\"#E5ECF6\",\"width\":0.5},\"pattern\":{\"fillmode\":\"overlay\",\"size\":10,\"solidity\":0.2}},\"type\":\"bar\"}],\"scattergeo\":[{\"type\":\"scattergeo\",\"marker\":{\"colorbar\":{\"outlinewidth\":0,\"ticks\":\"\"}}}],\"scatterpolar\":[{\"type\":\"scatterpolar\",\"marker\":{\"colorbar\":{\"outlinewidth\":0,\"ticks\":\"\"}}}],\"histogram\":[{\"marker\":{\"pattern\":{\"fillmode\":\"overlay\",\"size\":10,\"solidity\":0.2}},\"type\":\"histogram\"}],\"scattergl\":[{\"type\":\"scattergl\",\"marker\":{\"colorbar\":{\"outlinewidth\":0,\"ticks\":\"\"}}}],\"scatter3d\":[{\"type\":\"scatter3d\",\"line\":{\"colorbar\":{\"outlinewidth\":0,\"ticks\":\"\"}},\"marker\":{\"colorbar\":{\"outlinewidth\":0,\"ticks\":\"\"}}}],\"scattermapbox\":[{\"type\":\"scattermapbox\",\"marker\":{\"colorbar\":{\"outlinewidth\":0,\"ticks\":\"\"}}}],\"scatterternary\":[{\"type\":\"scatterternary\",\"marker\":{\"colorbar\":{\"outlinewidth\":0,\"ticks\":\"\"}}}],\"scattercarpet\":[{\"type\":\"scattercarpet\",\"marker\":{\"colorbar\":{\"outlinewidth\":0,\"ticks\":\"\"}}}],\"carpet\":[{\"aaxis\":{\"endlinecolor\":\"#2a3f5f\",\"gridcolor\":\"white\",\"linecolor\":\"white\",\"minorgridcolor\":\"white\",\"startlinecolor\":\"#2a3f5f\"},\"baxis\":{\"endlinecolor\":\"#2a3f5f\",\"gridcolor\":\"white\",\"linecolor\":\"white\",\"minorgridcolor\":\"white\",\"startlinecolor\":\"#2a3f5f\"},\"type\":\"carpet\"}],\"table\":[{\"cells\":{\"fill\":{\"color\":\"#EBF0F8\"},\"line\":{\"color\":\"white\"}},\"header\":{\"fill\":{\"color\":\"#C8D4E3\"},\"line\":{\"color\":\"white\"}},\"type\":\"table\"}],\"barpolar\":[{\"marker\":{\"line\":{\"color\":\"#E5ECF6\",\"width\":0.5},\"pattern\":{\"fillmode\":\"overlay\",\"size\":10,\"solidity\":0.2}},\"type\":\"barpolar\"}],\"pie\":[{\"automargin\":true,\"type\":\"pie\"}]},\"layout\":{\"autotypenumbers\":\"strict\",\"colorway\":[\"#636efa\",\"#EF553B\",\"#00cc96\",\"#ab63fa\",\"#FFA15A\",\"#19d3f3\",\"#FF6692\",\"#B6E880\",\"#FF97FF\",\"#FECB52\"],\"font\":{\"color\":\"#2a3f5f\"},\"hovermode\":\"closest\",\"hoverlabel\":{\"align\":\"left\"},\"paper_bgcolor\":\"white\",\"plot_bgcolor\":\"#E5ECF6\",\"polar\":{\"bgcolor\":\"#E5ECF6\",\"angularaxis\":{\"gridcolor\":\"white\",\"linecolor\":\"white\",\"ticks\":\"\"},\"radialaxis\":{\"gridcolor\":\"white\",\"linecolor\":\"white\",\"ticks\":\"\"}},\"ternary\":{\"bgcolor\":\"#E5ECF6\",\"aaxis\":{\"gridcolor\":\"white\",\"linecolor\":\"white\",\"ticks\":\"\"},\"baxis\":{\"gridcolor\":\"white\",\"linecolor\":\"white\",\"ticks\":\"\"},\"caxis\":{\"gridcolor\":\"white\",\"linecolor\":\"white\",\"ticks\":\"\"}},\"coloraxis\":{\"colorbar\":{\"outlinewidth\":0,\"ticks\":\"\"}},\"colorscale\":{\"sequential\":[[0.0,\"#0d0887\"],[0.1111111111111111,\"#46039f\"],[0.2222222222222222,\"#7201a8\"],[0.3333333333333333,\"#9c179e\"],[0.4444444444444444,\"#bd3786\"],[0.5555555555555556,\"#d8576b\"],[0.6666666666666666,\"#ed7953\"],[0.7777777777777778,\"#fb9f3a\"],[0.8888888888888888,\"#fdca26\"],[1.0,\"#f0f921\"]],\"sequentialminus\":[[0.0,\"#0d0887\"],[0.1111111111111111,\"#46039f\"],[0.2222222222222222,\"#7201a8\"],[0.3333333333333333,\"#9c179e\"],[0.4444444444444444,\"#bd3786\"],[0.5555555555555556,\"#d8576b\"],[0.6666666666666666,\"#ed7953\"],[0.7777777777777778,\"#fb9f3a\"],[0.8888888888888888,\"#fdca26\"],[1.0,\"#f0f921\"]],\"diverging\":[[0,\"#8e0152\"],[0.1,\"#c51b7d\"],[0.2,\"#de77ae\"],[0.3,\"#f1b6da\"],[0.4,\"#fde0ef\"],[0.5,\"#f7f7f7\"],[0.6,\"#e6f5d0\"],[0.7,\"#b8e186\"],[0.8,\"#7fbc41\"],[0.9,\"#4d9221\"],[1,\"#276419\"]]},\"xaxis\":{\"gridcolor\":\"white\",\"linecolor\":\"white\",\"ticks\":\"\",\"title\":{\"standoff\":15},\"zerolinecolor\":\"white\",\"automargin\":true,\"zerolinewidth\":2},\"yaxis\":{\"gridcolor\":\"white\",\"linecolor\":\"white\",\"ticks\":\"\",\"title\":{\"standoff\":15},\"zerolinecolor\":\"white\",\"automargin\":true,\"zerolinewidth\":2},\"scene\":{\"xaxis\":{\"backgroundcolor\":\"#E5ECF6\",\"gridcolor\":\"white\",\"linecolor\":\"white\",\"showbackground\":true,\"ticks\":\"\",\"zerolinecolor\":\"white\",\"gridwidth\":2},\"yaxis\":{\"backgroundcolor\":\"#E5ECF6\",\"gridcolor\":\"white\",\"linecolor\":\"white\",\"showbackground\":true,\"ticks\":\"\",\"zerolinecolor\":\"white\",\"gridwidth\":2},\"zaxis\":{\"backgroundcolor\":\"#E5ECF6\",\"gridcolor\":\"white\",\"linecolor\":\"white\",\"showbackground\":true,\"ticks\":\"\",\"zerolinecolor\":\"white\",\"gridwidth\":2}},\"shapedefaults\":{\"line\":{\"color\":\"#2a3f5f\"}},\"annotationdefaults\":{\"arrowcolor\":\"#2a3f5f\",\"arrowhead\":0,\"arrowwidth\":1},\"geo\":{\"bgcolor\":\"white\",\"landcolor\":\"#E5ECF6\",\"subunitcolor\":\"white\",\"showland\":true,\"showlakes\":true,\"lakecolor\":\"white\"},\"title\":{\"x\":0.05},\"mapbox\":{\"style\":\"light\"}}},\"xaxis\":{\"anchor\":\"y\",\"domain\":[0.0,1.0],\"title\":{\"text\":\"x\"}},\"yaxis\":{\"anchor\":\"x\",\"domain\":[0.0,1.0],\"title\":{\"text\":\"GDPC1\"}},\"legend\":{\"tracegroupgap\":0},\"margin\":{\"t\":60}},                        {\"responsive\": true}                    ).then(function(){\n",
       "                            \n",
       "var gd = document.getElementById('caea5bb2-2689-462f-b9f8-79400391f4ee');\n",
       "var x = new MutationObserver(function (mutations, observer) {{\n",
       "        var display = window.getComputedStyle(gd).display;\n",
       "        if (!display || display === 'none') {{\n",
       "            console.log([gd, 'removed!']);\n",
       "            Plotly.purge(gd);\n",
       "            observer.disconnect();\n",
       "        }}\n",
       "}});\n",
       "\n",
       "// Listen for the removal of the full notebook cells\n",
       "var notebookContainer = gd.closest('#notebook-container');\n",
       "if (notebookContainer) {{\n",
       "    x.observe(notebookContainer, {childList: true});\n",
       "}}\n",
       "\n",
       "// Listen for the clearing of the current output cell\n",
       "var outputEl = gd.closest('.output');\n",
       "if (outputEl) {{\n",
       "    x.observe(outputEl, {childList: true});\n",
       "}}\n",
       "\n",
       "                        })                };                });            </script>        </div>"
      ]
     },
     "metadata": {},
     "output_type": "display_data"
    }
   ],
   "source": [
    " px.line(df_q.iloc[48*4:-1, :], \n",
    "                x=df_q.index[48*4:-1], y=\"GDPC1\", markers=True)"
   ]
  },
  {
   "cell_type": "code",
   "execution_count": 18,
   "id": "0e94e46d",
   "metadata": {},
   "outputs": [],
   "source": [
    "df = pd.DataFrame(\n",
    "    {\n",
    "        \"x\": np.random.uniform(1, 5, 200),\n",
    "        \"y\": np.random.uniform(2, 4, 200),\n",
    "        \"cat\": np.random.choice([\"one\", \"two\"], 200),\n",
    "    }\n",
    ")"
   ]
  },
  {
   "cell_type": "code",
   "execution_count": 141,
   "id": "1d258533",
   "metadata": {},
   "outputs": [
    {
     "data": {
      "text/plain": [
       "(3, 15)"
      ]
     },
     "execution_count": 141,
     "metadata": {},
     "output_type": "execute_result"
    }
   ],
   "source": [
    "W_est.shape"
   ]
  },
  {
   "cell_type": "code",
   "execution_count": 14,
   "id": "890bc183",
   "metadata": {},
   "outputs": [],
   "source": [
    "df_Y_est.loc[df_q.index] = df_q"
   ]
  },
  {
   "cell_type": "code",
   "execution_count": 15,
   "id": "c71fb584",
   "metadata": {},
   "outputs": [
    {
     "data": {
      "text/plain": [
       "DatetimeIndex(['1967-03-01', '1967-06-01', '1967-09-01', '1967-12-01',\n",
       "               '1968-03-01', '1968-06-01', '1968-09-01', '1968-12-01',\n",
       "               '1969-03-01', '1969-06-01',\n",
       "               ...\n",
       "               '2021-12-01', '2022-03-01', '2022-06-01', '2022-09-01',\n",
       "               '2022-12-01', '2023-03-01', '2023-06-01', '2023-09-01',\n",
       "               '2023-12-01', '2024-03-01'],\n",
       "              dtype='datetime64[ns]', name='sasdate', length=229, freq=None)"
      ]
     },
     "execution_count": 15,
     "metadata": {},
     "output_type": "execute_result"
    }
   ],
   "source": [
    "df_q.index"
   ]
  },
  {
   "cell_type": "code",
   "execution_count": 10,
   "id": "b19f7b9f",
   "metadata": {},
   "outputs": [
    {
     "name": "stderr",
     "output_type": "stream",
     "text": [
      "/opt/anaconda3/lib/python3.11/site-packages/_plotly_utils/basevalidators.py:106: FutureWarning:\n",
      "\n",
      "The behavior of DatetimeProperties.to_pydatetime is deprecated, in a future version this will return a Series containing python datetime objects instead of an ndarray. To retain the old behavior, call `np.array` on the result\n",
      "\n"
     ]
    },
    {
     "data": {
      "application/vnd.plotly.v1+json": {
       "config": {
        "plotlyServerURL": "https://plot.ly"
       },
       "data": [
        {
         "hovertemplate": "sasdate=%{x}<br>GDPC1=%{y}<extra></extra>",
         "legendgroup": "",
         "line": {
          "color": "#636efa",
          "dash": "solid"
         },
         "marker": {
          "symbol": "circle"
         },
         "mode": "lines",
         "name": "",
         "orientation": "v",
         "showlegend": false,
         "type": "scatter",
         "x": [
          "1967-03-01T00:00:00",
          "1967-06-01T00:00:00",
          "1967-09-01T00:00:00",
          "1967-12-01T00:00:00",
          "1968-03-01T00:00:00",
          "1968-06-01T00:00:00",
          "1968-09-01T00:00:00",
          "1968-12-01T00:00:00",
          "1969-03-01T00:00:00",
          "1969-06-01T00:00:00",
          "1969-09-01T00:00:00",
          "1969-12-01T00:00:00",
          "1970-03-01T00:00:00",
          "1970-06-01T00:00:00",
          "1970-09-01T00:00:00",
          "1970-12-01T00:00:00",
          "1971-03-01T00:00:00",
          "1971-06-01T00:00:00",
          "1971-09-01T00:00:00",
          "1971-12-01T00:00:00",
          "1972-03-01T00:00:00",
          "1972-06-01T00:00:00",
          "1972-09-01T00:00:00",
          "1972-12-01T00:00:00",
          "1973-03-01T00:00:00",
          "1973-06-01T00:00:00",
          "1973-09-01T00:00:00",
          "1973-12-01T00:00:00",
          "1974-03-01T00:00:00",
          "1974-06-01T00:00:00",
          "1974-09-01T00:00:00",
          "1974-12-01T00:00:00",
          "1975-03-01T00:00:00",
          "1975-06-01T00:00:00",
          "1975-09-01T00:00:00",
          "1975-12-01T00:00:00",
          "1976-03-01T00:00:00",
          "1976-06-01T00:00:00",
          "1976-09-01T00:00:00",
          "1976-12-01T00:00:00",
          "1977-03-01T00:00:00",
          "1977-06-01T00:00:00",
          "1977-09-01T00:00:00",
          "1977-12-01T00:00:00",
          "1978-03-01T00:00:00",
          "1978-06-01T00:00:00",
          "1978-09-01T00:00:00",
          "1978-12-01T00:00:00",
          "1979-03-01T00:00:00",
          "1979-06-01T00:00:00",
          "1979-09-01T00:00:00",
          "1979-12-01T00:00:00",
          "1980-03-01T00:00:00",
          "1980-06-01T00:00:00",
          "1980-09-01T00:00:00",
          "1980-12-01T00:00:00",
          "1981-03-01T00:00:00",
          "1981-06-01T00:00:00",
          "1981-09-01T00:00:00",
          "1981-12-01T00:00:00",
          "1982-03-01T00:00:00",
          "1982-06-01T00:00:00",
          "1982-09-01T00:00:00",
          "1982-12-01T00:00:00",
          "1983-03-01T00:00:00",
          "1983-06-01T00:00:00",
          "1983-09-01T00:00:00",
          "1983-12-01T00:00:00",
          "1984-03-01T00:00:00",
          "1984-06-01T00:00:00",
          "1984-09-01T00:00:00",
          "1984-12-01T00:00:00",
          "1985-03-01T00:00:00",
          "1985-06-01T00:00:00",
          "1985-09-01T00:00:00",
          "1985-12-01T00:00:00",
          "1986-03-01T00:00:00",
          "1986-06-01T00:00:00",
          "1986-09-01T00:00:00",
          "1986-12-01T00:00:00",
          "1987-03-01T00:00:00",
          "1987-06-01T00:00:00",
          "1987-09-01T00:00:00",
          "1987-12-01T00:00:00",
          "1988-03-01T00:00:00",
          "1988-06-01T00:00:00",
          "1988-09-01T00:00:00",
          "1988-12-01T00:00:00",
          "1989-03-01T00:00:00",
          "1989-06-01T00:00:00",
          "1989-09-01T00:00:00",
          "1989-12-01T00:00:00",
          "1990-03-01T00:00:00",
          "1990-06-01T00:00:00",
          "1990-09-01T00:00:00",
          "1990-12-01T00:00:00",
          "1991-03-01T00:00:00",
          "1991-06-01T00:00:00",
          "1991-09-01T00:00:00",
          "1991-12-01T00:00:00",
          "1992-03-01T00:00:00",
          "1992-06-01T00:00:00",
          "1992-09-01T00:00:00",
          "1992-12-01T00:00:00",
          "1993-03-01T00:00:00",
          "1993-06-01T00:00:00",
          "1993-09-01T00:00:00",
          "1993-12-01T00:00:00",
          "1994-03-01T00:00:00",
          "1994-06-01T00:00:00",
          "1994-09-01T00:00:00",
          "1994-12-01T00:00:00",
          "1995-03-01T00:00:00",
          "1995-06-01T00:00:00",
          "1995-09-01T00:00:00",
          "1995-12-01T00:00:00",
          "1996-03-01T00:00:00",
          "1996-06-01T00:00:00",
          "1996-09-01T00:00:00",
          "1996-12-01T00:00:00",
          "1997-03-01T00:00:00",
          "1997-06-01T00:00:00",
          "1997-09-01T00:00:00",
          "1997-12-01T00:00:00",
          "1998-03-01T00:00:00",
          "1998-06-01T00:00:00",
          "1998-09-01T00:00:00",
          "1998-12-01T00:00:00",
          "1999-03-01T00:00:00",
          "1999-06-01T00:00:00",
          "1999-09-01T00:00:00",
          "1999-12-01T00:00:00",
          "2000-03-01T00:00:00",
          "2000-06-01T00:00:00",
          "2000-09-01T00:00:00",
          "2000-12-01T00:00:00",
          "2001-03-01T00:00:00",
          "2001-06-01T00:00:00",
          "2001-09-01T00:00:00",
          "2001-12-01T00:00:00",
          "2002-03-01T00:00:00",
          "2002-06-01T00:00:00",
          "2002-09-01T00:00:00",
          "2002-12-01T00:00:00",
          "2003-03-01T00:00:00",
          "2003-06-01T00:00:00",
          "2003-09-01T00:00:00",
          "2003-12-01T00:00:00",
          "2004-03-01T00:00:00",
          "2004-06-01T00:00:00",
          "2004-09-01T00:00:00",
          "2004-12-01T00:00:00",
          "2005-03-01T00:00:00",
          "2005-06-01T00:00:00",
          "2005-09-01T00:00:00",
          "2005-12-01T00:00:00",
          "2006-03-01T00:00:00",
          "2006-06-01T00:00:00",
          "2006-09-01T00:00:00",
          "2006-12-01T00:00:00",
          "2007-03-01T00:00:00",
          "2007-06-01T00:00:00",
          "2007-09-01T00:00:00",
          "2007-12-01T00:00:00",
          "2008-03-01T00:00:00",
          "2008-06-01T00:00:00",
          "2008-09-01T00:00:00",
          "2008-12-01T00:00:00",
          "2009-03-01T00:00:00",
          "2009-06-01T00:00:00",
          "2009-09-01T00:00:00",
          "2009-12-01T00:00:00",
          "2010-03-01T00:00:00",
          "2010-06-01T00:00:00",
          "2010-09-01T00:00:00",
          "2010-12-01T00:00:00",
          "2011-03-01T00:00:00",
          "2011-06-01T00:00:00",
          "2011-09-01T00:00:00",
          "2011-12-01T00:00:00",
          "2012-03-01T00:00:00",
          "2012-06-01T00:00:00",
          "2012-09-01T00:00:00",
          "2012-12-01T00:00:00",
          "2013-03-01T00:00:00",
          "2013-06-01T00:00:00",
          "2013-09-01T00:00:00",
          "2013-12-01T00:00:00",
          "2014-03-01T00:00:00",
          "2014-06-01T00:00:00",
          "2014-09-01T00:00:00",
          "2014-12-01T00:00:00",
          "2015-03-01T00:00:00",
          "2015-06-01T00:00:00",
          "2015-09-01T00:00:00",
          "2015-12-01T00:00:00",
          "2016-03-01T00:00:00",
          "2016-06-01T00:00:00",
          "2016-09-01T00:00:00",
          "2016-12-01T00:00:00",
          "2017-03-01T00:00:00",
          "2017-06-01T00:00:00",
          "2017-09-01T00:00:00",
          "2017-12-01T00:00:00",
          "2018-03-01T00:00:00",
          "2018-06-01T00:00:00",
          "2018-09-01T00:00:00",
          "2018-12-01T00:00:00",
          "2019-03-01T00:00:00",
          "2019-06-01T00:00:00",
          "2019-09-01T00:00:00",
          "2019-12-01T00:00:00",
          "2020-03-01T00:00:00",
          "2020-06-01T00:00:00",
          "2020-09-01T00:00:00",
          "2020-12-01T00:00:00",
          "2021-03-01T00:00:00",
          "2021-06-01T00:00:00",
          "2021-09-01T00:00:00",
          "2021-12-01T00:00:00",
          "2022-03-01T00:00:00",
          "2022-06-01T00:00:00",
          "2022-09-01T00:00:00",
          "2022-12-01T00:00:00",
          "2023-03-01T00:00:00",
          "2023-06-01T00:00:00",
          "2023-09-01T00:00:00",
          "2023-12-01T00:00:00",
          "2024-03-01T00:00:00"
         ],
         "xaxis": "x",
         "y": [
          0.008818931799984497,
          0.0006133265706615987,
          0.009416287547763247,
          0.0075102604766694725,
          0.02018756338194727,
          0.016565757068628173,
          0.007715345638743543,
          0.003920047554242245,
          0.015523196020344798,
          0.0030289475651379405,
          0.006577842035149217,
          -0.004894046837826238,
          -0.0014900266753858915,
          0.001416180892475083,
          0.009172477759880948,
          -0.010773558661599125,
          0.026799165184653972,
          0.005393595262143336,
          0.008190831618485106,
          0.0023458926521939816,
          0.018205430023737534,
          0.02243922200938009,
          0.00939660957362598,
          0.016605717228014072,
          0.024448111784003856,
          0.010828592930138825,
          -0.005272257243541745,
          0.009447539531183935,
          -0.008634220481127386,
          0.0023741495820974734,
          -0.009497734873638919,
          -0.00389162026282186,
          -0.012251082299137295,
          0.007121593045516406,
          0.01697554285846614,
          0.01338100268400133,
          0.022245402302655037,
          0.00730697926256596,
          0.005459147548547705,
          0.007200053008572738,
          0.01179252552301513,
          0.019233087903616664,
          0.017871007745393186,
          1.992759787050602e-05,
          0.0031933173264118153,
          0.03791960442252851,
          0.010007247597409119,
          0.013351721942857608,
          0.0017943273692839767,
          0.0010668835595399884,
          0.0074005947959889795,
          0.0024973307670048683,
          0.003140774140431901,
          -0.02081957983157423,
          -0.001189254380623339,
          0.018477468485921023,
          0.019404726680360085,
          -0.007438353150345023,
          0.011903887506921507,
          -0.010955763120232831,
          -0.01565840182690792,
          0.004551397941380486,
          -0.0038299934280559,
          0.00040000786581018133,
          0.013091830874991217,
          0.02250016454491366,
          0.01979237830682834,
          0.020647198274003742,
          0.019359297100569606,
          0.017130055100595953,
          0.00959393118098717,
          0.008174229219141793,
          0.009643147316147349,
          0.008766200074861175,
          0.015157260373827697,
          0.007406991828691645,
          0.009294151553612906,
          0.004492855545075614,
          0.009521209453502877,
          0.005349594167116223,
          0.007391067993541611,
          0.010724067520746061,
          0.0086343963330755,
          0.01702383733255708,
          0.005155512880753221,
          0.013054737675524564,
          0.005842595204775591,
          0.013236569374035057,
          0.010112643926211362,
          0.007602027800347244,
          0.007380056517089173,
          0.0019678730209609085,
          0.010869532462091769,
          0.003623128836839129,
          0.0006655952356169337,
          -0.009145740648071055,
          -0.004690389148507279,
          0.0077666518940624485,
          0.005040860353405563,
          0.0034793883481079035,
          0.011901418421425447,
          0.0107846685927111,
          0.009832602998745443,
          0.010374553723314861,
          0.001668045262061213,
          0.005804828773424475,
          0.004760200474761334,
          0.013509823020076084,
          0.009656852032588148,
          0.013460821575336013,
          0.005828824899406726,
          0.011390581866788096,
          0.0035415264608129604,
          0.002978787465089283,
          0.008471272260706542,
          0.006767866746930196,
          0.007462586731000087,
          0.016541866808907457,
          0.008930342932712776,
          0.010330155049368628,
          0.006433691338076031,
          0.01651505100267414,
          0.012408386319378906,
          0.008502355049371246,
          0.009987489886350787,
          0.009214296481921735,
          0.01251081507693641,
          0.015963862490524505,
          0.009350485127447072,
          0.008312781849570072,
          0.013171703285781433,
          0.016273535671066597,
          0.003621369008051545,
          0.01804901034497952,
          0.0010188067037173454,
          0.005952635784890248,
          -0.0032833724491432292,
          0.006225609914771724,
          -0.004014439041817752,
          0.002743986302357726,
          0.008328805568895703,
          0.006108371693470005,
          0.004056874047378756,
          0.001235287243973815,
          0.005252600765849991,
          0.008817230452867975,
          0.016495202585943503,
          0.011540367047402356,
          0.0056505202389018905,
          0.007719649918941585,
          0.009441229885171154,
          0.010150391321133156,
          0.011032550529236573,
          0.004914150308623633,
          0.007807581701131383,
          0.0055397923720761355,
          0.013364138447713003,
          0.0025841857488995146,
          0.0014984360400802643,
          0.008557775565416037,
          0.003003840617131104,
          0.006098982914680917,
          0.005743731109307149,
          0.006262715512194816,
          -0.004276775590032145,
          0.005936625931315831,
          -0.0052664238027837484,
          -0.022133412739485436,
          -0.011413631359902254,
          -0.00178810721762801,
          0.0035057715471396023,
          0.010751135379244658,
          0.00483331022067901,
          0.009629349822608546,
          0.007681272705003295,
          0.00523736364445071,
          -0.0023748667360496967,
          0.006743037468666557,
          -0.000223152255784953,
          0.011167896811464573,
          0.008350941818790147,
          0.004453416266322563,
          0.0014392437648620415,
          0.0011557374157504796,
          0.009817259265515688,
          0.0026727882651371715,
          0.0084778965524972,
          0.008679640238263175,
          -0.0034569281496601434,
          0.012835690229149321,
          0.012080648325781596,
          0.005044586015433339,
          0.008964547876924911,
          0.006174946582536478,
          0.003994462115690212,
          0.0018430917271050618,
          0.005778466518471248,
          0.0032060956626729364,
          0.0070688591911043375,
          0.005527685286210726,
          0.00485708733103607,
          0.005583111012978037,
          0.00785431525684821,
          0.011207427769393874,
          0.008101194549169577,
          0.005294212303768475,
          0.00621760482522582,
          0.0014154399831838305,
          0.00541631653224961,
          0.0082624533584017,
          0.011258144435872808,
          0.006392708116495172,
          -0.013722370365645276,
          -0.08219774895039755,
          0.07472914013621157,
          0.010299026333228767,
          0.012773282331284719,
          0.015083139798498735,
          0.008110740728369592,
          0.01682537902962089,
          -0.004989218813230778,
          -0.0014137216932006424,
          0.006564592779746192,
          0.006334121028816142,
          0.005548385736220851,
          0.005098203034052062,
          0.011868005421165506,
          0.008349095266886764,
          0.003943446468410272
         ],
         "yaxis": "y"
        }
       ],
       "layout": {
        "legend": {
         "tracegroupgap": 0
        },
        "template": {
         "data": {
          "bar": [
           {
            "error_x": {
             "color": "#2a3f5f"
            },
            "error_y": {
             "color": "#2a3f5f"
            },
            "marker": {
             "line": {
              "color": "#E5ECF6",
              "width": 0.5
             },
             "pattern": {
              "fillmode": "overlay",
              "size": 10,
              "solidity": 0.2
             }
            },
            "type": "bar"
           }
          ],
          "barpolar": [
           {
            "marker": {
             "line": {
              "color": "#E5ECF6",
              "width": 0.5
             },
             "pattern": {
              "fillmode": "overlay",
              "size": 10,
              "solidity": 0.2
             }
            },
            "type": "barpolar"
           }
          ],
          "carpet": [
           {
            "aaxis": {
             "endlinecolor": "#2a3f5f",
             "gridcolor": "white",
             "linecolor": "white",
             "minorgridcolor": "white",
             "startlinecolor": "#2a3f5f"
            },
            "baxis": {
             "endlinecolor": "#2a3f5f",
             "gridcolor": "white",
             "linecolor": "white",
             "minorgridcolor": "white",
             "startlinecolor": "#2a3f5f"
            },
            "type": "carpet"
           }
          ],
          "choropleth": [
           {
            "colorbar": {
             "outlinewidth": 0,
             "ticks": ""
            },
            "type": "choropleth"
           }
          ],
          "contour": [
           {
            "colorbar": {
             "outlinewidth": 0,
             "ticks": ""
            },
            "colorscale": [
             [
              0,
              "#0d0887"
             ],
             [
              0.1111111111111111,
              "#46039f"
             ],
             [
              0.2222222222222222,
              "#7201a8"
             ],
             [
              0.3333333333333333,
              "#9c179e"
             ],
             [
              0.4444444444444444,
              "#bd3786"
             ],
             [
              0.5555555555555556,
              "#d8576b"
             ],
             [
              0.6666666666666666,
              "#ed7953"
             ],
             [
              0.7777777777777778,
              "#fb9f3a"
             ],
             [
              0.8888888888888888,
              "#fdca26"
             ],
             [
              1,
              "#f0f921"
             ]
            ],
            "type": "contour"
           }
          ],
          "contourcarpet": [
           {
            "colorbar": {
             "outlinewidth": 0,
             "ticks": ""
            },
            "type": "contourcarpet"
           }
          ],
          "heatmap": [
           {
            "colorbar": {
             "outlinewidth": 0,
             "ticks": ""
            },
            "colorscale": [
             [
              0,
              "#0d0887"
             ],
             [
              0.1111111111111111,
              "#46039f"
             ],
             [
              0.2222222222222222,
              "#7201a8"
             ],
             [
              0.3333333333333333,
              "#9c179e"
             ],
             [
              0.4444444444444444,
              "#bd3786"
             ],
             [
              0.5555555555555556,
              "#d8576b"
             ],
             [
              0.6666666666666666,
              "#ed7953"
             ],
             [
              0.7777777777777778,
              "#fb9f3a"
             ],
             [
              0.8888888888888888,
              "#fdca26"
             ],
             [
              1,
              "#f0f921"
             ]
            ],
            "type": "heatmap"
           }
          ],
          "heatmapgl": [
           {
            "colorbar": {
             "outlinewidth": 0,
             "ticks": ""
            },
            "colorscale": [
             [
              0,
              "#0d0887"
             ],
             [
              0.1111111111111111,
              "#46039f"
             ],
             [
              0.2222222222222222,
              "#7201a8"
             ],
             [
              0.3333333333333333,
              "#9c179e"
             ],
             [
              0.4444444444444444,
              "#bd3786"
             ],
             [
              0.5555555555555556,
              "#d8576b"
             ],
             [
              0.6666666666666666,
              "#ed7953"
             ],
             [
              0.7777777777777778,
              "#fb9f3a"
             ],
             [
              0.8888888888888888,
              "#fdca26"
             ],
             [
              1,
              "#f0f921"
             ]
            ],
            "type": "heatmapgl"
           }
          ],
          "histogram": [
           {
            "marker": {
             "pattern": {
              "fillmode": "overlay",
              "size": 10,
              "solidity": 0.2
             }
            },
            "type": "histogram"
           }
          ],
          "histogram2d": [
           {
            "colorbar": {
             "outlinewidth": 0,
             "ticks": ""
            },
            "colorscale": [
             [
              0,
              "#0d0887"
             ],
             [
              0.1111111111111111,
              "#46039f"
             ],
             [
              0.2222222222222222,
              "#7201a8"
             ],
             [
              0.3333333333333333,
              "#9c179e"
             ],
             [
              0.4444444444444444,
              "#bd3786"
             ],
             [
              0.5555555555555556,
              "#d8576b"
             ],
             [
              0.6666666666666666,
              "#ed7953"
             ],
             [
              0.7777777777777778,
              "#fb9f3a"
             ],
             [
              0.8888888888888888,
              "#fdca26"
             ],
             [
              1,
              "#f0f921"
             ]
            ],
            "type": "histogram2d"
           }
          ],
          "histogram2dcontour": [
           {
            "colorbar": {
             "outlinewidth": 0,
             "ticks": ""
            },
            "colorscale": [
             [
              0,
              "#0d0887"
             ],
             [
              0.1111111111111111,
              "#46039f"
             ],
             [
              0.2222222222222222,
              "#7201a8"
             ],
             [
              0.3333333333333333,
              "#9c179e"
             ],
             [
              0.4444444444444444,
              "#bd3786"
             ],
             [
              0.5555555555555556,
              "#d8576b"
             ],
             [
              0.6666666666666666,
              "#ed7953"
             ],
             [
              0.7777777777777778,
              "#fb9f3a"
             ],
             [
              0.8888888888888888,
              "#fdca26"
             ],
             [
              1,
              "#f0f921"
             ]
            ],
            "type": "histogram2dcontour"
           }
          ],
          "mesh3d": [
           {
            "colorbar": {
             "outlinewidth": 0,
             "ticks": ""
            },
            "type": "mesh3d"
           }
          ],
          "parcoords": [
           {
            "line": {
             "colorbar": {
              "outlinewidth": 0,
              "ticks": ""
             }
            },
            "type": "parcoords"
           }
          ],
          "pie": [
           {
            "automargin": true,
            "type": "pie"
           }
          ],
          "scatter": [
           {
            "fillpattern": {
             "fillmode": "overlay",
             "size": 10,
             "solidity": 0.2
            },
            "type": "scatter"
           }
          ],
          "scatter3d": [
           {
            "line": {
             "colorbar": {
              "outlinewidth": 0,
              "ticks": ""
             }
            },
            "marker": {
             "colorbar": {
              "outlinewidth": 0,
              "ticks": ""
             }
            },
            "type": "scatter3d"
           }
          ],
          "scattercarpet": [
           {
            "marker": {
             "colorbar": {
              "outlinewidth": 0,
              "ticks": ""
             }
            },
            "type": "scattercarpet"
           }
          ],
          "scattergeo": [
           {
            "marker": {
             "colorbar": {
              "outlinewidth": 0,
              "ticks": ""
             }
            },
            "type": "scattergeo"
           }
          ],
          "scattergl": [
           {
            "marker": {
             "colorbar": {
              "outlinewidth": 0,
              "ticks": ""
             }
            },
            "type": "scattergl"
           }
          ],
          "scattermapbox": [
           {
            "marker": {
             "colorbar": {
              "outlinewidth": 0,
              "ticks": ""
             }
            },
            "type": "scattermapbox"
           }
          ],
          "scatterpolar": [
           {
            "marker": {
             "colorbar": {
              "outlinewidth": 0,
              "ticks": ""
             }
            },
            "type": "scatterpolar"
           }
          ],
          "scatterpolargl": [
           {
            "marker": {
             "colorbar": {
              "outlinewidth": 0,
              "ticks": ""
             }
            },
            "type": "scatterpolargl"
           }
          ],
          "scatterternary": [
           {
            "marker": {
             "colorbar": {
              "outlinewidth": 0,
              "ticks": ""
             }
            },
            "type": "scatterternary"
           }
          ],
          "surface": [
           {
            "colorbar": {
             "outlinewidth": 0,
             "ticks": ""
            },
            "colorscale": [
             [
              0,
              "#0d0887"
             ],
             [
              0.1111111111111111,
              "#46039f"
             ],
             [
              0.2222222222222222,
              "#7201a8"
             ],
             [
              0.3333333333333333,
              "#9c179e"
             ],
             [
              0.4444444444444444,
              "#bd3786"
             ],
             [
              0.5555555555555556,
              "#d8576b"
             ],
             [
              0.6666666666666666,
              "#ed7953"
             ],
             [
              0.7777777777777778,
              "#fb9f3a"
             ],
             [
              0.8888888888888888,
              "#fdca26"
             ],
             [
              1,
              "#f0f921"
             ]
            ],
            "type": "surface"
           }
          ],
          "table": [
           {
            "cells": {
             "fill": {
              "color": "#EBF0F8"
             },
             "line": {
              "color": "white"
             }
            },
            "header": {
             "fill": {
              "color": "#C8D4E3"
             },
             "line": {
              "color": "white"
             }
            },
            "type": "table"
           }
          ]
         },
         "layout": {
          "annotationdefaults": {
           "arrowcolor": "#2a3f5f",
           "arrowhead": 0,
           "arrowwidth": 1
          },
          "autotypenumbers": "strict",
          "coloraxis": {
           "colorbar": {
            "outlinewidth": 0,
            "ticks": ""
           }
          },
          "colorscale": {
           "diverging": [
            [
             0,
             "#8e0152"
            ],
            [
             0.1,
             "#c51b7d"
            ],
            [
             0.2,
             "#de77ae"
            ],
            [
             0.3,
             "#f1b6da"
            ],
            [
             0.4,
             "#fde0ef"
            ],
            [
             0.5,
             "#f7f7f7"
            ],
            [
             0.6,
             "#e6f5d0"
            ],
            [
             0.7,
             "#b8e186"
            ],
            [
             0.8,
             "#7fbc41"
            ],
            [
             0.9,
             "#4d9221"
            ],
            [
             1,
             "#276419"
            ]
           ],
           "sequential": [
            [
             0,
             "#0d0887"
            ],
            [
             0.1111111111111111,
             "#46039f"
            ],
            [
             0.2222222222222222,
             "#7201a8"
            ],
            [
             0.3333333333333333,
             "#9c179e"
            ],
            [
             0.4444444444444444,
             "#bd3786"
            ],
            [
             0.5555555555555556,
             "#d8576b"
            ],
            [
             0.6666666666666666,
             "#ed7953"
            ],
            [
             0.7777777777777778,
             "#fb9f3a"
            ],
            [
             0.8888888888888888,
             "#fdca26"
            ],
            [
             1,
             "#f0f921"
            ]
           ],
           "sequentialminus": [
            [
             0,
             "#0d0887"
            ],
            [
             0.1111111111111111,
             "#46039f"
            ],
            [
             0.2222222222222222,
             "#7201a8"
            ],
            [
             0.3333333333333333,
             "#9c179e"
            ],
            [
             0.4444444444444444,
             "#bd3786"
            ],
            [
             0.5555555555555556,
             "#d8576b"
            ],
            [
             0.6666666666666666,
             "#ed7953"
            ],
            [
             0.7777777777777778,
             "#fb9f3a"
            ],
            [
             0.8888888888888888,
             "#fdca26"
            ],
            [
             1,
             "#f0f921"
            ]
           ]
          },
          "colorway": [
           "#636efa",
           "#EF553B",
           "#00cc96",
           "#ab63fa",
           "#FFA15A",
           "#19d3f3",
           "#FF6692",
           "#B6E880",
           "#FF97FF",
           "#FECB52"
          ],
          "font": {
           "color": "#2a3f5f"
          },
          "geo": {
           "bgcolor": "white",
           "lakecolor": "white",
           "landcolor": "#E5ECF6",
           "showlakes": true,
           "showland": true,
           "subunitcolor": "white"
          },
          "hoverlabel": {
           "align": "left"
          },
          "hovermode": "closest",
          "mapbox": {
           "style": "light"
          },
          "paper_bgcolor": "white",
          "plot_bgcolor": "#E5ECF6",
          "polar": {
           "angularaxis": {
            "gridcolor": "white",
            "linecolor": "white",
            "ticks": ""
           },
           "bgcolor": "#E5ECF6",
           "radialaxis": {
            "gridcolor": "white",
            "linecolor": "white",
            "ticks": ""
           }
          },
          "scene": {
           "xaxis": {
            "backgroundcolor": "#E5ECF6",
            "gridcolor": "white",
            "gridwidth": 2,
            "linecolor": "white",
            "showbackground": true,
            "ticks": "",
            "zerolinecolor": "white"
           },
           "yaxis": {
            "backgroundcolor": "#E5ECF6",
            "gridcolor": "white",
            "gridwidth": 2,
            "linecolor": "white",
            "showbackground": true,
            "ticks": "",
            "zerolinecolor": "white"
           },
           "zaxis": {
            "backgroundcolor": "#E5ECF6",
            "gridcolor": "white",
            "gridwidth": 2,
            "linecolor": "white",
            "showbackground": true,
            "ticks": "",
            "zerolinecolor": "white"
           }
          },
          "shapedefaults": {
           "line": {
            "color": "#2a3f5f"
           }
          },
          "ternary": {
           "aaxis": {
            "gridcolor": "white",
            "linecolor": "white",
            "ticks": ""
           },
           "baxis": {
            "gridcolor": "white",
            "linecolor": "white",
            "ticks": ""
           },
           "bgcolor": "#E5ECF6",
           "caxis": {
            "gridcolor": "white",
            "linecolor": "white",
            "ticks": ""
           }
          },
          "title": {
           "x": 0.05
          },
          "xaxis": {
           "automargin": true,
           "gridcolor": "white",
           "linecolor": "white",
           "ticks": "",
           "title": {
            "standoff": 15
           },
           "zerolinecolor": "white",
           "zerolinewidth": 2
          },
          "yaxis": {
           "automargin": true,
           "gridcolor": "white",
           "linecolor": "white",
           "ticks": "",
           "title": {
            "standoff": 15
           },
           "zerolinecolor": "white",
           "zerolinewidth": 2
          }
         }
        },
        "title": {
         "text": "FRED-Q"
        },
        "xaxis": {
         "anchor": "y",
         "domain": [
          0,
          1
         ],
         "nticks": 20,
         "tickformat": "%Y",
         "title": {
          "text": "Date"
         }
        },
        "yaxis": {
         "anchor": "x",
         "domain": [
          0,
          1
         ],
         "title": {
          "text": "Value"
         }
        }
       }
      },
      "text/html": [
       "<div>                            <div id=\"b5828405-b416-4cc2-adeb-d468d76da50a\" class=\"plotly-graph-div\" style=\"height:525px; width:100%;\"></div>            <script type=\"text/javascript\">                require([\"plotly\"], function(Plotly) {                    window.PLOTLYENV=window.PLOTLYENV || {};                                    if (document.getElementById(\"b5828405-b416-4cc2-adeb-d468d76da50a\")) {                    Plotly.newPlot(                        \"b5828405-b416-4cc2-adeb-d468d76da50a\",                        [{\"hovertemplate\":\"sasdate=%{x}<br>GDPC1=%{y}<extra></extra>\",\"legendgroup\":\"\",\"line\":{\"color\":\"#636efa\",\"dash\":\"solid\"},\"marker\":{\"symbol\":\"circle\"},\"mode\":\"lines\",\"name\":\"\",\"orientation\":\"v\",\"showlegend\":false,\"x\":[\"1967-03-01T00:00:00\",\"1967-06-01T00:00:00\",\"1967-09-01T00:00:00\",\"1967-12-01T00:00:00\",\"1968-03-01T00:00:00\",\"1968-06-01T00:00:00\",\"1968-09-01T00:00:00\",\"1968-12-01T00:00:00\",\"1969-03-01T00:00:00\",\"1969-06-01T00:00:00\",\"1969-09-01T00:00:00\",\"1969-12-01T00:00:00\",\"1970-03-01T00:00:00\",\"1970-06-01T00:00:00\",\"1970-09-01T00:00:00\",\"1970-12-01T00:00:00\",\"1971-03-01T00:00:00\",\"1971-06-01T00:00:00\",\"1971-09-01T00:00:00\",\"1971-12-01T00:00:00\",\"1972-03-01T00:00:00\",\"1972-06-01T00:00:00\",\"1972-09-01T00:00:00\",\"1972-12-01T00:00:00\",\"1973-03-01T00:00:00\",\"1973-06-01T00:00:00\",\"1973-09-01T00:00:00\",\"1973-12-01T00:00:00\",\"1974-03-01T00:00:00\",\"1974-06-01T00:00:00\",\"1974-09-01T00:00:00\",\"1974-12-01T00:00:00\",\"1975-03-01T00:00:00\",\"1975-06-01T00:00:00\",\"1975-09-01T00:00:00\",\"1975-12-01T00:00:00\",\"1976-03-01T00:00:00\",\"1976-06-01T00:00:00\",\"1976-09-01T00:00:00\",\"1976-12-01T00:00:00\",\"1977-03-01T00:00:00\",\"1977-06-01T00:00:00\",\"1977-09-01T00:00:00\",\"1977-12-01T00:00:00\",\"1978-03-01T00:00:00\",\"1978-06-01T00:00:00\",\"1978-09-01T00:00:00\",\"1978-12-01T00:00:00\",\"1979-03-01T00:00:00\",\"1979-06-01T00:00:00\",\"1979-09-01T00:00:00\",\"1979-12-01T00:00:00\",\"1980-03-01T00:00:00\",\"1980-06-01T00:00:00\",\"1980-09-01T00:00:00\",\"1980-12-01T00:00:00\",\"1981-03-01T00:00:00\",\"1981-06-01T00:00:00\",\"1981-09-01T00:00:00\",\"1981-12-01T00:00:00\",\"1982-03-01T00:00:00\",\"1982-06-01T00:00:00\",\"1982-09-01T00:00:00\",\"1982-12-01T00:00:00\",\"1983-03-01T00:00:00\",\"1983-06-01T00:00:00\",\"1983-09-01T00:00:00\",\"1983-12-01T00:00:00\",\"1984-03-01T00:00:00\",\"1984-06-01T00:00:00\",\"1984-09-01T00:00:00\",\"1984-12-01T00:00:00\",\"1985-03-01T00:00:00\",\"1985-06-01T00:00:00\",\"1985-09-01T00:00:00\",\"1985-12-01T00:00:00\",\"1986-03-01T00:00:00\",\"1986-06-01T00:00:00\",\"1986-09-01T00:00:00\",\"1986-12-01T00:00:00\",\"1987-03-01T00:00:00\",\"1987-06-01T00:00:00\",\"1987-09-01T00:00:00\",\"1987-12-01T00:00:00\",\"1988-03-01T00:00:00\",\"1988-06-01T00:00:00\",\"1988-09-01T00:00:00\",\"1988-12-01T00:00:00\",\"1989-03-01T00:00:00\",\"1989-06-01T00:00:00\",\"1989-09-01T00:00:00\",\"1989-12-01T00:00:00\",\"1990-03-01T00:00:00\",\"1990-06-01T00:00:00\",\"1990-09-01T00:00:00\",\"1990-12-01T00:00:00\",\"1991-03-01T00:00:00\",\"1991-06-01T00:00:00\",\"1991-09-01T00:00:00\",\"1991-12-01T00:00:00\",\"1992-03-01T00:00:00\",\"1992-06-01T00:00:00\",\"1992-09-01T00:00:00\",\"1992-12-01T00:00:00\",\"1993-03-01T00:00:00\",\"1993-06-01T00:00:00\",\"1993-09-01T00:00:00\",\"1993-12-01T00:00:00\",\"1994-03-01T00:00:00\",\"1994-06-01T00:00:00\",\"1994-09-01T00:00:00\",\"1994-12-01T00:00:00\",\"1995-03-01T00:00:00\",\"1995-06-01T00:00:00\",\"1995-09-01T00:00:00\",\"1995-12-01T00:00:00\",\"1996-03-01T00:00:00\",\"1996-06-01T00:00:00\",\"1996-09-01T00:00:00\",\"1996-12-01T00:00:00\",\"1997-03-01T00:00:00\",\"1997-06-01T00:00:00\",\"1997-09-01T00:00:00\",\"1997-12-01T00:00:00\",\"1998-03-01T00:00:00\",\"1998-06-01T00:00:00\",\"1998-09-01T00:00:00\",\"1998-12-01T00:00:00\",\"1999-03-01T00:00:00\",\"1999-06-01T00:00:00\",\"1999-09-01T00:00:00\",\"1999-12-01T00:00:00\",\"2000-03-01T00:00:00\",\"2000-06-01T00:00:00\",\"2000-09-01T00:00:00\",\"2000-12-01T00:00:00\",\"2001-03-01T00:00:00\",\"2001-06-01T00:00:00\",\"2001-09-01T00:00:00\",\"2001-12-01T00:00:00\",\"2002-03-01T00:00:00\",\"2002-06-01T00:00:00\",\"2002-09-01T00:00:00\",\"2002-12-01T00:00:00\",\"2003-03-01T00:00:00\",\"2003-06-01T00:00:00\",\"2003-09-01T00:00:00\",\"2003-12-01T00:00:00\",\"2004-03-01T00:00:00\",\"2004-06-01T00:00:00\",\"2004-09-01T00:00:00\",\"2004-12-01T00:00:00\",\"2005-03-01T00:00:00\",\"2005-06-01T00:00:00\",\"2005-09-01T00:00:00\",\"2005-12-01T00:00:00\",\"2006-03-01T00:00:00\",\"2006-06-01T00:00:00\",\"2006-09-01T00:00:00\",\"2006-12-01T00:00:00\",\"2007-03-01T00:00:00\",\"2007-06-01T00:00:00\",\"2007-09-01T00:00:00\",\"2007-12-01T00:00:00\",\"2008-03-01T00:00:00\",\"2008-06-01T00:00:00\",\"2008-09-01T00:00:00\",\"2008-12-01T00:00:00\",\"2009-03-01T00:00:00\",\"2009-06-01T00:00:00\",\"2009-09-01T00:00:00\",\"2009-12-01T00:00:00\",\"2010-03-01T00:00:00\",\"2010-06-01T00:00:00\",\"2010-09-01T00:00:00\",\"2010-12-01T00:00:00\",\"2011-03-01T00:00:00\",\"2011-06-01T00:00:00\",\"2011-09-01T00:00:00\",\"2011-12-01T00:00:00\",\"2012-03-01T00:00:00\",\"2012-06-01T00:00:00\",\"2012-09-01T00:00:00\",\"2012-12-01T00:00:00\",\"2013-03-01T00:00:00\",\"2013-06-01T00:00:00\",\"2013-09-01T00:00:00\",\"2013-12-01T00:00:00\",\"2014-03-01T00:00:00\",\"2014-06-01T00:00:00\",\"2014-09-01T00:00:00\",\"2014-12-01T00:00:00\",\"2015-03-01T00:00:00\",\"2015-06-01T00:00:00\",\"2015-09-01T00:00:00\",\"2015-12-01T00:00:00\",\"2016-03-01T00:00:00\",\"2016-06-01T00:00:00\",\"2016-09-01T00:00:00\",\"2016-12-01T00:00:00\",\"2017-03-01T00:00:00\",\"2017-06-01T00:00:00\",\"2017-09-01T00:00:00\",\"2017-12-01T00:00:00\",\"2018-03-01T00:00:00\",\"2018-06-01T00:00:00\",\"2018-09-01T00:00:00\",\"2018-12-01T00:00:00\",\"2019-03-01T00:00:00\",\"2019-06-01T00:00:00\",\"2019-09-01T00:00:00\",\"2019-12-01T00:00:00\",\"2020-03-01T00:00:00\",\"2020-06-01T00:00:00\",\"2020-09-01T00:00:00\",\"2020-12-01T00:00:00\",\"2021-03-01T00:00:00\",\"2021-06-01T00:00:00\",\"2021-09-01T00:00:00\",\"2021-12-01T00:00:00\",\"2022-03-01T00:00:00\",\"2022-06-01T00:00:00\",\"2022-09-01T00:00:00\",\"2022-12-01T00:00:00\",\"2023-03-01T00:00:00\",\"2023-06-01T00:00:00\",\"2023-09-01T00:00:00\",\"2023-12-01T00:00:00\",\"2024-03-01T00:00:00\"],\"xaxis\":\"x\",\"y\":[0.008818931799984497,0.0006133265706615987,0.009416287547763247,0.0075102604766694725,0.02018756338194727,0.016565757068628173,0.007715345638743543,0.003920047554242245,0.015523196020344798,0.0030289475651379405,0.006577842035149217,-0.004894046837826238,-0.0014900266753858915,0.001416180892475083,0.009172477759880948,-0.010773558661599125,0.026799165184653972,0.005393595262143336,0.008190831618485106,0.0023458926521939816,0.018205430023737534,0.02243922200938009,0.00939660957362598,0.016605717228014072,0.024448111784003856,0.010828592930138825,-0.005272257243541745,0.009447539531183935,-0.008634220481127386,0.0023741495820974734,-0.009497734873638919,-0.00389162026282186,-0.012251082299137295,0.007121593045516406,0.01697554285846614,0.01338100268400133,0.022245402302655037,0.00730697926256596,0.005459147548547705,0.007200053008572738,0.01179252552301513,0.019233087903616664,0.017871007745393186,1.992759787050602e-05,0.0031933173264118153,0.03791960442252851,0.010007247597409119,0.013351721942857608,0.0017943273692839767,0.0010668835595399884,0.0074005947959889795,0.0024973307670048683,0.003140774140431901,-0.02081957983157423,-0.001189254380623339,0.018477468485921023,0.019404726680360085,-0.007438353150345023,0.011903887506921507,-0.010955763120232831,-0.01565840182690792,0.004551397941380486,-0.0038299934280559,0.00040000786581018133,0.013091830874991217,0.02250016454491366,0.01979237830682834,0.020647198274003742,0.019359297100569606,0.017130055100595953,0.00959393118098717,0.008174229219141793,0.009643147316147349,0.008766200074861175,0.015157260373827697,0.007406991828691645,0.009294151553612906,0.004492855545075614,0.009521209453502877,0.005349594167116223,0.007391067993541611,0.010724067520746061,0.0086343963330755,0.01702383733255708,0.005155512880753221,0.013054737675524564,0.005842595204775591,0.013236569374035057,0.010112643926211362,0.007602027800347244,0.007380056517089173,0.0019678730209609085,0.010869532462091769,0.003623128836839129,0.0006655952356169337,-0.009145740648071055,-0.004690389148507279,0.0077666518940624485,0.005040860353405563,0.0034793883481079035,0.011901418421425447,0.0107846685927111,0.009832602998745443,0.010374553723314861,0.001668045262061213,0.005804828773424475,0.004760200474761334,0.013509823020076084,0.009656852032588148,0.013460821575336013,0.005828824899406726,0.011390581866788096,0.0035415264608129604,0.002978787465089283,0.008471272260706542,0.006767866746930196,0.007462586731000087,0.016541866808907457,0.008930342932712776,0.010330155049368628,0.006433691338076031,0.01651505100267414,0.012408386319378906,0.008502355049371246,0.009987489886350787,0.009214296481921735,0.01251081507693641,0.015963862490524505,0.009350485127447072,0.008312781849570072,0.013171703285781433,0.016273535671066597,0.003621369008051545,0.01804901034497952,0.0010188067037173454,0.005952635784890248,-0.0032833724491432292,0.006225609914771724,-0.004014439041817752,0.002743986302357726,0.008328805568895703,0.006108371693470005,0.004056874047378756,0.001235287243973815,0.005252600765849991,0.008817230452867975,0.016495202585943503,0.011540367047402356,0.0056505202389018905,0.007719649918941585,0.009441229885171154,0.010150391321133156,0.011032550529236573,0.004914150308623633,0.007807581701131383,0.0055397923720761355,0.013364138447713003,0.0025841857488995146,0.0014984360400802643,0.008557775565416037,0.003003840617131104,0.006098982914680917,0.005743731109307149,0.006262715512194816,-0.004276775590032145,0.005936625931315831,-0.0052664238027837484,-0.022133412739485436,-0.011413631359902254,-0.00178810721762801,0.0035057715471396023,0.010751135379244658,0.00483331022067901,0.009629349822608546,0.007681272705003295,0.00523736364445071,-0.0023748667360496967,0.006743037468666557,-0.000223152255784953,0.011167896811464573,0.008350941818790147,0.004453416266322563,0.0014392437648620415,0.0011557374157504796,0.009817259265515688,0.0026727882651371715,0.0084778965524972,0.008679640238263175,-0.0034569281496601434,0.012835690229149321,0.012080648325781596,0.005044586015433339,0.008964547876924911,0.006174946582536478,0.003994462115690212,0.0018430917271050618,0.005778466518471248,0.0032060956626729364,0.0070688591911043375,0.005527685286210726,0.00485708733103607,0.005583111012978037,0.00785431525684821,0.011207427769393874,0.008101194549169577,0.005294212303768475,0.00621760482522582,0.0014154399831838305,0.00541631653224961,0.0082624533584017,0.011258144435872808,0.006392708116495172,-0.013722370365645276,-0.08219774895039755,0.07472914013621157,0.010299026333228767,0.012773282331284719,0.015083139798498735,0.008110740728369592,0.01682537902962089,-0.004989218813230778,-0.0014137216932006424,0.006564592779746192,0.006334121028816142,0.005548385736220851,0.005098203034052062,0.011868005421165506,0.008349095266886764,0.003943446468410272],\"yaxis\":\"y\",\"type\":\"scatter\"}],                        {\"template\":{\"data\":{\"histogram2dcontour\":[{\"type\":\"histogram2dcontour\",\"colorbar\":{\"outlinewidth\":0,\"ticks\":\"\"},\"colorscale\":[[0.0,\"#0d0887\"],[0.1111111111111111,\"#46039f\"],[0.2222222222222222,\"#7201a8\"],[0.3333333333333333,\"#9c179e\"],[0.4444444444444444,\"#bd3786\"],[0.5555555555555556,\"#d8576b\"],[0.6666666666666666,\"#ed7953\"],[0.7777777777777778,\"#fb9f3a\"],[0.8888888888888888,\"#fdca26\"],[1.0,\"#f0f921\"]]}],\"choropleth\":[{\"type\":\"choropleth\",\"colorbar\":{\"outlinewidth\":0,\"ticks\":\"\"}}],\"histogram2d\":[{\"type\":\"histogram2d\",\"colorbar\":{\"outlinewidth\":0,\"ticks\":\"\"},\"colorscale\":[[0.0,\"#0d0887\"],[0.1111111111111111,\"#46039f\"],[0.2222222222222222,\"#7201a8\"],[0.3333333333333333,\"#9c179e\"],[0.4444444444444444,\"#bd3786\"],[0.5555555555555556,\"#d8576b\"],[0.6666666666666666,\"#ed7953\"],[0.7777777777777778,\"#fb9f3a\"],[0.8888888888888888,\"#fdca26\"],[1.0,\"#f0f921\"]]}],\"heatmap\":[{\"type\":\"heatmap\",\"colorbar\":{\"outlinewidth\":0,\"ticks\":\"\"},\"colorscale\":[[0.0,\"#0d0887\"],[0.1111111111111111,\"#46039f\"],[0.2222222222222222,\"#7201a8\"],[0.3333333333333333,\"#9c179e\"],[0.4444444444444444,\"#bd3786\"],[0.5555555555555556,\"#d8576b\"],[0.6666666666666666,\"#ed7953\"],[0.7777777777777778,\"#fb9f3a\"],[0.8888888888888888,\"#fdca26\"],[1.0,\"#f0f921\"]]}],\"heatmapgl\":[{\"type\":\"heatmapgl\",\"colorbar\":{\"outlinewidth\":0,\"ticks\":\"\"},\"colorscale\":[[0.0,\"#0d0887\"],[0.1111111111111111,\"#46039f\"],[0.2222222222222222,\"#7201a8\"],[0.3333333333333333,\"#9c179e\"],[0.4444444444444444,\"#bd3786\"],[0.5555555555555556,\"#d8576b\"],[0.6666666666666666,\"#ed7953\"],[0.7777777777777778,\"#fb9f3a\"],[0.8888888888888888,\"#fdca26\"],[1.0,\"#f0f921\"]]}],\"contourcarpet\":[{\"type\":\"contourcarpet\",\"colorbar\":{\"outlinewidth\":0,\"ticks\":\"\"}}],\"contour\":[{\"type\":\"contour\",\"colorbar\":{\"outlinewidth\":0,\"ticks\":\"\"},\"colorscale\":[[0.0,\"#0d0887\"],[0.1111111111111111,\"#46039f\"],[0.2222222222222222,\"#7201a8\"],[0.3333333333333333,\"#9c179e\"],[0.4444444444444444,\"#bd3786\"],[0.5555555555555556,\"#d8576b\"],[0.6666666666666666,\"#ed7953\"],[0.7777777777777778,\"#fb9f3a\"],[0.8888888888888888,\"#fdca26\"],[1.0,\"#f0f921\"]]}],\"surface\":[{\"type\":\"surface\",\"colorbar\":{\"outlinewidth\":0,\"ticks\":\"\"},\"colorscale\":[[0.0,\"#0d0887\"],[0.1111111111111111,\"#46039f\"],[0.2222222222222222,\"#7201a8\"],[0.3333333333333333,\"#9c179e\"],[0.4444444444444444,\"#bd3786\"],[0.5555555555555556,\"#d8576b\"],[0.6666666666666666,\"#ed7953\"],[0.7777777777777778,\"#fb9f3a\"],[0.8888888888888888,\"#fdca26\"],[1.0,\"#f0f921\"]]}],\"mesh3d\":[{\"type\":\"mesh3d\",\"colorbar\":{\"outlinewidth\":0,\"ticks\":\"\"}}],\"scatter\":[{\"fillpattern\":{\"fillmode\":\"overlay\",\"size\":10,\"solidity\":0.2},\"type\":\"scatter\"}],\"parcoords\":[{\"type\":\"parcoords\",\"line\":{\"colorbar\":{\"outlinewidth\":0,\"ticks\":\"\"}}}],\"scatterpolargl\":[{\"type\":\"scatterpolargl\",\"marker\":{\"colorbar\":{\"outlinewidth\":0,\"ticks\":\"\"}}}],\"bar\":[{\"error_x\":{\"color\":\"#2a3f5f\"},\"error_y\":{\"color\":\"#2a3f5f\"},\"marker\":{\"line\":{\"color\":\"#E5ECF6\",\"width\":0.5},\"pattern\":{\"fillmode\":\"overlay\",\"size\":10,\"solidity\":0.2}},\"type\":\"bar\"}],\"scattergeo\":[{\"type\":\"scattergeo\",\"marker\":{\"colorbar\":{\"outlinewidth\":0,\"ticks\":\"\"}}}],\"scatterpolar\":[{\"type\":\"scatterpolar\",\"marker\":{\"colorbar\":{\"outlinewidth\":0,\"ticks\":\"\"}}}],\"histogram\":[{\"marker\":{\"pattern\":{\"fillmode\":\"overlay\",\"size\":10,\"solidity\":0.2}},\"type\":\"histogram\"}],\"scattergl\":[{\"type\":\"scattergl\",\"marker\":{\"colorbar\":{\"outlinewidth\":0,\"ticks\":\"\"}}}],\"scatter3d\":[{\"type\":\"scatter3d\",\"line\":{\"colorbar\":{\"outlinewidth\":0,\"ticks\":\"\"}},\"marker\":{\"colorbar\":{\"outlinewidth\":0,\"ticks\":\"\"}}}],\"scattermapbox\":[{\"type\":\"scattermapbox\",\"marker\":{\"colorbar\":{\"outlinewidth\":0,\"ticks\":\"\"}}}],\"scatterternary\":[{\"type\":\"scatterternary\",\"marker\":{\"colorbar\":{\"outlinewidth\":0,\"ticks\":\"\"}}}],\"scattercarpet\":[{\"type\":\"scattercarpet\",\"marker\":{\"colorbar\":{\"outlinewidth\":0,\"ticks\":\"\"}}}],\"carpet\":[{\"aaxis\":{\"endlinecolor\":\"#2a3f5f\",\"gridcolor\":\"white\",\"linecolor\":\"white\",\"minorgridcolor\":\"white\",\"startlinecolor\":\"#2a3f5f\"},\"baxis\":{\"endlinecolor\":\"#2a3f5f\",\"gridcolor\":\"white\",\"linecolor\":\"white\",\"minorgridcolor\":\"white\",\"startlinecolor\":\"#2a3f5f\"},\"type\":\"carpet\"}],\"table\":[{\"cells\":{\"fill\":{\"color\":\"#EBF0F8\"},\"line\":{\"color\":\"white\"}},\"header\":{\"fill\":{\"color\":\"#C8D4E3\"},\"line\":{\"color\":\"white\"}},\"type\":\"table\"}],\"barpolar\":[{\"marker\":{\"line\":{\"color\":\"#E5ECF6\",\"width\":0.5},\"pattern\":{\"fillmode\":\"overlay\",\"size\":10,\"solidity\":0.2}},\"type\":\"barpolar\"}],\"pie\":[{\"automargin\":true,\"type\":\"pie\"}]},\"layout\":{\"autotypenumbers\":\"strict\",\"colorway\":[\"#636efa\",\"#EF553B\",\"#00cc96\",\"#ab63fa\",\"#FFA15A\",\"#19d3f3\",\"#FF6692\",\"#B6E880\",\"#FF97FF\",\"#FECB52\"],\"font\":{\"color\":\"#2a3f5f\"},\"hovermode\":\"closest\",\"hoverlabel\":{\"align\":\"left\"},\"paper_bgcolor\":\"white\",\"plot_bgcolor\":\"#E5ECF6\",\"polar\":{\"bgcolor\":\"#E5ECF6\",\"angularaxis\":{\"gridcolor\":\"white\",\"linecolor\":\"white\",\"ticks\":\"\"},\"radialaxis\":{\"gridcolor\":\"white\",\"linecolor\":\"white\",\"ticks\":\"\"}},\"ternary\":{\"bgcolor\":\"#E5ECF6\",\"aaxis\":{\"gridcolor\":\"white\",\"linecolor\":\"white\",\"ticks\":\"\"},\"baxis\":{\"gridcolor\":\"white\",\"linecolor\":\"white\",\"ticks\":\"\"},\"caxis\":{\"gridcolor\":\"white\",\"linecolor\":\"white\",\"ticks\":\"\"}},\"coloraxis\":{\"colorbar\":{\"outlinewidth\":0,\"ticks\":\"\"}},\"colorscale\":{\"sequential\":[[0.0,\"#0d0887\"],[0.1111111111111111,\"#46039f\"],[0.2222222222222222,\"#7201a8\"],[0.3333333333333333,\"#9c179e\"],[0.4444444444444444,\"#bd3786\"],[0.5555555555555556,\"#d8576b\"],[0.6666666666666666,\"#ed7953\"],[0.7777777777777778,\"#fb9f3a\"],[0.8888888888888888,\"#fdca26\"],[1.0,\"#f0f921\"]],\"sequentialminus\":[[0.0,\"#0d0887\"],[0.1111111111111111,\"#46039f\"],[0.2222222222222222,\"#7201a8\"],[0.3333333333333333,\"#9c179e\"],[0.4444444444444444,\"#bd3786\"],[0.5555555555555556,\"#d8576b\"],[0.6666666666666666,\"#ed7953\"],[0.7777777777777778,\"#fb9f3a\"],[0.8888888888888888,\"#fdca26\"],[1.0,\"#f0f921\"]],\"diverging\":[[0,\"#8e0152\"],[0.1,\"#c51b7d\"],[0.2,\"#de77ae\"],[0.3,\"#f1b6da\"],[0.4,\"#fde0ef\"],[0.5,\"#f7f7f7\"],[0.6,\"#e6f5d0\"],[0.7,\"#b8e186\"],[0.8,\"#7fbc41\"],[0.9,\"#4d9221\"],[1,\"#276419\"]]},\"xaxis\":{\"gridcolor\":\"white\",\"linecolor\":\"white\",\"ticks\":\"\",\"title\":{\"standoff\":15},\"zerolinecolor\":\"white\",\"automargin\":true,\"zerolinewidth\":2},\"yaxis\":{\"gridcolor\":\"white\",\"linecolor\":\"white\",\"ticks\":\"\",\"title\":{\"standoff\":15},\"zerolinecolor\":\"white\",\"automargin\":true,\"zerolinewidth\":2},\"scene\":{\"xaxis\":{\"backgroundcolor\":\"#E5ECF6\",\"gridcolor\":\"white\",\"linecolor\":\"white\",\"showbackground\":true,\"ticks\":\"\",\"zerolinecolor\":\"white\",\"gridwidth\":2},\"yaxis\":{\"backgroundcolor\":\"#E5ECF6\",\"gridcolor\":\"white\",\"linecolor\":\"white\",\"showbackground\":true,\"ticks\":\"\",\"zerolinecolor\":\"white\",\"gridwidth\":2},\"zaxis\":{\"backgroundcolor\":\"#E5ECF6\",\"gridcolor\":\"white\",\"linecolor\":\"white\",\"showbackground\":true,\"ticks\":\"\",\"zerolinecolor\":\"white\",\"gridwidth\":2}},\"shapedefaults\":{\"line\":{\"color\":\"#2a3f5f\"}},\"annotationdefaults\":{\"arrowcolor\":\"#2a3f5f\",\"arrowhead\":0,\"arrowwidth\":1},\"geo\":{\"bgcolor\":\"white\",\"landcolor\":\"#E5ECF6\",\"subunitcolor\":\"white\",\"showland\":true,\"showlakes\":true,\"lakecolor\":\"white\"},\"title\":{\"x\":0.05},\"mapbox\":{\"style\":\"light\"}}},\"xaxis\":{\"anchor\":\"y\",\"domain\":[0.0,1.0],\"title\":{\"text\":\"Date\"},\"nticks\":20,\"tickformat\":\"%Y\"},\"yaxis\":{\"anchor\":\"x\",\"domain\":[0.0,1.0],\"title\":{\"text\":\"Value\"}},\"legend\":{\"tracegroupgap\":0},\"title\":{\"text\":\"FRED-Q\"}},                        {\"responsive\": true}                    ).then(function(){\n",
       "                            \n",
       "var gd = document.getElementById('b5828405-b416-4cc2-adeb-d468d76da50a');\n",
       "var x = new MutationObserver(function (mutations, observer) {{\n",
       "        var display = window.getComputedStyle(gd).display;\n",
       "        if (!display || display === 'none') {{\n",
       "            console.log([gd, 'removed!']);\n",
       "            Plotly.purge(gd);\n",
       "            observer.disconnect();\n",
       "        }}\n",
       "}});\n",
       "\n",
       "// Listen for the removal of the full notebook cells\n",
       "var notebookContainer = gd.closest('#notebook-container');\n",
       "if (notebookContainer) {{\n",
       "    x.observe(notebookContainer, {childList: true});\n",
       "}}\n",
       "\n",
       "// Listen for the clearing of the current output cell\n",
       "var outputEl = gd.closest('.output');\n",
       "if (outputEl) {{\n",
       "    x.observe(outputEl, {childList: true});\n",
       "}}\n",
       "\n",
       "                        })                };                });            </script>        </div>"
      ]
     },
     "metadata": {},
     "output_type": "display_data"
    }
   ],
   "source": [
    "df_q.index = pd.to_datetime(df_q.index)\n",
    "fig = px.line(df_q, x=df_q.index, y=\"GDPC1\", title='FRED-Q')\n",
    "fig.update_layout(xaxis_title=\"Date\", yaxis_title=\"Value\")\n",
    "fig.update_xaxes(nticks=20, tickformat=\"%Y\")\n",
    "fig.show()"
   ]
  },
  {
   "cell_type": "code",
   "execution_count": null,
   "id": "5a9ceb25",
   "metadata": {},
   "outputs": [],
   "source": [
    "pd.to_datetime(df_Y_est.index).to_period('y').str.int"
   ]
  },
  {
   "cell_type": "code",
   "execution_count": 186,
   "id": "83ad2fd2",
   "metadata": {},
   "outputs": [
    {
     "data": {
      "text/plain": [
       "<matplotlib.dates.YearLocator at 0x32d9a2910>"
      ]
     },
     "execution_count": 186,
     "metadata": {},
     "output_type": "execute_result"
    }
   ],
   "source": [
    "fig = px.line(df_Y_est, x = 'year', y='GDPC1',\n",
    "              title='custom tick labels')\n",
    "fig.show()"
   ]
  },
  {
   "cell_type": "code",
   "execution_count": 188,
   "id": "003ae91e",
   "metadata": {},
   "outputs": [
    {
     "data": {
      "image/png": "[encoded data removed]",
      "text/plain": [
       "<Figure size 1600x500 with 1 Axes>"
      ]
     },
     "metadata": {},
     "output_type": "display_data"
    }
   ],
   "source": [
    "fig = plt.subplots(figsize=(16, 5))\n",
    "plt.plot(df_Y_est.index, df_Y_est['GDPC1'])\n",
    "plt.title('FRED-Q', fontsize=20)\n",
    "plt.xlabel('Date', labelpad=12, fontsize=15)\n",
    "locator = mdate.YearLocator()\n",
    "plt.gca().xaxis.set_major_locator(locator)\n",
    "plt.gcf().autofmt_xdate()\n"
   ]
  },
  {
   "cell_type": "code",
   "execution_count": 107,
   "id": "163cfe09",
   "metadata": {},
   "outputs": [
    {
     "data": {
      "text/plain": [
       "(3.0, 226.0)"
      ]
     },
     "execution_count": 107,
     "metadata": {},
     "output_type": "execute_result"
    },
    {
     "data": {
      "image/png": "[encoded data removed]",
      "text/plain": [
       "<Figure size 1600x500 with 1 Axes>"
      ]
     },
     "metadata": {},
     "output_type": "display_data"
    }
   ],
   "source": [
    "fig = plt.subplots(figsize=(16, 5))\n",
    "plt.plot(df_q.index, df_q['GDPC1'])\n",
    "plt.title('FRED-Q', fontsize=20)\n",
    "plt.xlabel('Date', fontsize=15)\n",
    "plt.ylabel('Rate', fontsize=15)\n",
    "plt.xlim(df_q.index.min(), df_q.index.max())"
   ]
  },
  {
   "cell_type": "code",
   "execution_count": 144,
   "id": "29140397",
   "metadata": {},
   "outputs": [],
   "source": [
    "df = px.data.gapminder().query(\"continent == 'Oceania'\")"
   ]
  },
  {
   "cell_type": "code",
   "execution_count": 167,
   "id": "aafc0bb3",
   "metadata": {},
   "outputs": [
    {
     "data": {
      "text/plain": [
       "60      1952\n",
       "61      1957\n",
       "62      1962\n",
       "63      1967\n",
       "64      1972\n",
       "65      1977\n",
       "66      1982\n",
       "67      1987\n",
       "68      1992\n",
       "69      1997\n",
       "70      2002\n",
       "71      2007\n",
       "1092    1952\n",
       "1093    1957\n",
       "1094    1962\n",
       "1095    1967\n",
       "1096    1972\n",
       "1097    1977\n",
       "1098    1982\n",
       "1099    1987\n",
       "1100    1992\n",
       "1101    1997\n",
       "1102    2002\n",
       "1103    2007\n",
       "Name: year, dtype: int64"
      ]
     },
     "execution_count": 167,
     "metadata": {},
     "output_type": "execute_result"
    }
   ],
   "source": [
    "df['year']"
   ]
  },
  {
   "cell_type": "code",
   "execution_count": 98,
   "id": "2ce4f766",
   "metadata": {},
   "outputs": [
    {
     "data": {
      "text/plain": [
       "1.4672489082969433"
      ]
     },
     "execution_count": 98,
     "metadata": {},
     "output_type": "execute_result"
    }
   ],
   "source": [
    "112*3/229"
   ]
  },
  {
   "cell_type": "code",
   "execution_count": 69,
   "id": "d78d43f8",
   "metadata": {},
   "outputs": [
    {
     "data": {
      "text/plain": [
       "(783, 126)"
      ]
     },
     "execution_count": 69,
     "metadata": {},
     "output_type": "execute_result"
    }
   ],
   "source": [
    "df_q.shape"
   ]
  },
  {
   "cell_type": "code",
   "execution_count": 71,
   "id": "1475eb89",
   "metadata": {},
   "outputs": [
    {
     "data": {
      "text/plain": [
       "(687,)"
      ]
     },
     "execution_count": 71,
     "metadata": {},
     "output_type": "execute_result"
    }
   ],
   "source": [
    "data_m.index[32*3:].shape"
   ]
  },
  {
   "cell_type": "code",
   "execution_count": 72,
   "id": "6e133760",
   "metadata": {},
   "outputs": [
    {
     "data": {
      "text/plain": [
       "687"
      ]
     },
     "execution_count": 72,
     "metadata": {},
     "output_type": "execute_result"
    }
   ],
   "source": [
    "229*3"
   ]
  },
  {
   "cell_type": "code",
   "execution_count": 11,
   "id": "75ecd2ac",
   "metadata": {},
   "outputs": [],
   "source": [
    "U, S, Vh = np.linalg.svd(a)"
   ]
  },
  {
   "cell_type": "code",
   "execution_count": 10,
   "id": "f0b381b1",
   "metadata": {},
   "outputs": [
    {
     "data": {
      "text/plain": [
       "array([[-0.49757343, -0.57397065, -0.65036788],\n",
       "       [ 0.76534569,  0.06237807, -0.64058954],\n",
       "       [-0.40824829,  0.81649658, -0.40824829]])"
      ]
     },
     "execution_count": 10,
     "metadata": {},
     "output_type": "execute_result"
    }
   ],
   "source": [
    "Vh[np.flip(np.argsort(eign_value))[0],:]"
   ]
  },
  {
   "cell_type": "code",
   "execution_count": 16,
   "id": "200f1783",
   "metadata": {},
   "outputs": [
    {
     "data": {
      "text/plain": [
       "array([22.44674882,  1.4640585 ,  0.        ])"
      ]
     },
     "execution_count": 16,
     "metadata": {},
     "output_type": "execute_result"
    }
   ],
   "source": [
    "S"
   ]
  },
  {
   "cell_type": "code",
   "execution_count": 129,
   "id": "735dca5a",
   "metadata": {},
   "outputs": [],
   "source": [
    "(iter_no, T, P, r, gamma)=(0, 40, 10, 2, 0.2)"
   ]
  },
  {
   "cell_type": "code",
   "execution_count": 143,
   "id": "3940e054",
   "metadata": {},
   "outputs": [
    {
     "name": "stdout",
     "output_type": "stream",
     "text": [
      "(iter, T, P, r, gamma): (0, 40, 10, 2, 0.2)\n"
     ]
    }
   ],
   "source": [
    "np.random.seed(iter_no + T)\n",
    "Y_full, X, G_true, Gamma_Y_true, W_true, Gamma_X_true = DGP(T, N_Y, N_X, K, r, gamma)\n",
    "Y = Y_full[:, 0, :]\n",
    "starttime = datetime.datetime.now()\n",
    "print('(iter, T, P, r, gamma):', (iter_no, T, P, r, gamma))\n",
    "Lambda_gamma_est, Lambda_X_est, W_est, G_est = TT_PCA(Y, X, gamma, r,\n",
    "                                                      Gamma_X_true, W_true)"
   ]
  },
  {
   "cell_type": "code",
   "execution_count": 139,
   "id": "74c672c5",
   "metadata": {},
   "outputs": [],
   "source": [
    "Z = np.column_stack((X.reshape((T,-1), order = 'F'), np.sqrt(gamma)*Y))\n",
    "Sigma_Z = np.cov(Z.T)\n",
    "eign_value, Lambda_gamma = np.linalg.eig(Sigma_Z)\n",
    "Lambda_gamma = np.real_if_close(Lambda_gamma, 1)\n",
    "eign_value = np.real_if_close(eign_value)"
   ]
  },
  {
   "cell_type": "code",
   "execution_count": 141,
   "id": "138a36ac",
   "metadata": {},
   "outputs": [
    {
     "data": {
      "text/plain": [
       "array([195.42177509, 129.61727508,   6.02306621,   5.86530028,\n",
       "         5.34084119,   5.07142135,   4.92154674,   4.2892021 ,\n",
       "         4.25474208,   4.14127469,   3.79255671,   3.63360642,\n",
       "         3.50106268,   3.18316565,   3.00507976,   2.83847331,\n",
       "         2.60286065,   2.46718648,   2.92068704,   2.39351902,\n",
       "         2.20024552,   0.54009647,   1.81615393,   1.86533244,\n",
       "         0.71324795,   0.76906002,   1.53622117,   1.47179684,\n",
       "         1.94886502,   2.00524499,   1.21656876,   0.65982718,\n",
       "         1.06243233,   1.68293879,   1.31651578,   1.13684973,\n",
       "         0.89563876,   0.86497795,   1.03925608,  -0.        ,\n",
       "        -0.        ,   0.        ,   0.        ,  -0.        ,\n",
       "         0.        ,   0.        ,   0.        ,   0.        ,\n",
       "         0.        ,   0.        ,  -0.        ,  -0.        ,\n",
       "        -0.        ,  -0.        ,   0.        ,   0.        ,\n",
       "        -0.        ,  -0.        ,   0.        ,  -0.        ,\n",
       "         0.        ,   0.        ,   0.        ,   0.        ,\n",
       "        -0.        ,  -0.        ,  -0.        ,  -0.        ,\n",
       "        -0.        ,   0.        ,  -0.        ,   0.        ,\n",
       "        -0.        ,  -0.        ,   0.        ,   0.        ,\n",
       "        -0.        ,  -0.        ,   0.        ,  -0.        ,\n",
       "        -0.        ,   0.        ,   0.        ,   0.        ,\n",
       "         0.        ,   0.        ,  -0.        ,  -0.        ,\n",
       "        -0.        ,  -0.        ,   0.        ,   0.        ,\n",
       "         0.        ,   0.        ,   0.        ,  -0.        ,\n",
       "        -0.        ,  -0.        ,   0.        ,   0.        ,\n",
       "         0.        ,   0.        ,  -0.        ,  -0.        ,\n",
       "        -0.        ,  -0.        ,   0.        ,  -0.        ,\n",
       "        -0.        ,  -0.        ])"
      ]
     },
     "execution_count": 141,
     "metadata": {},
     "output_type": "execute_result"
    }
   ],
   "source": [
    "eign_value"
   ]
  },
  {
   "cell_type": "code",
   "execution_count": null,
   "id": "6732c256",
   "metadata": {},
   "outputs": [],
   "source": []
  },
  {
   "cell_type": "code",
   "execution_count": 132,
   "id": "7f0c6bae",
   "metadata": {},
   "outputs": [],
   "source": [
    "H_iM = Lambda_gamma_est[N_Y:, i].reshape((K, N_X), order = 'F')"
   ]
  },
  {
   "cell_type": "code",
   "execution_count": 133,
   "id": "720f908f",
   "metadata": {},
   "outputs": [
    {
     "name": "stderr",
     "output_type": "stream",
     "text": [
      "/var/folders/cd/td3wbwf12nj440jmcp6rh3w00000gn/T/ipykernel_2116/3015232068.py:1: ComplexWarning: Casting complex values to real discards the imaginary part\n",
      "  Lambda_X_est[:, i] = W_est[:,i].T@H_iM\n"
     ]
    }
   ],
   "source": [
    "Lambda_X_est[:, i] = W_est[:,i].T@H_iM"
   ]
  },
  {
   "cell_type": "code",
   "execution_count": 124,
   "id": "e5b0d4d2",
   "metadata": {},
   "outputs": [
    {
     "data": {
      "text/plain": [
       "array([[-0.04256716+0.j,  0.01939597+0.j, -0.1083733 +0.j,\n",
       "        -0.00197244+0.j,  0.00139905+0.j, -0.01420214+0.j,\n",
       "        -0.0786736 +0.j,  0.03457386+0.j, -0.09318003+0.j,\n",
       "         0.03696749+0.j],\n",
       "       [ 0.06050827+0.j,  0.03212379+0.j, -0.33366476+0.j,\n",
       "        -0.05468557+0.j,  0.03534923+0.j,  0.06997212+0.j,\n",
       "        -0.00424821+0.j,  0.18373797+0.j, -0.11713666+0.j,\n",
       "        -0.02139342+0.j],\n",
       "       [-0.04475158+0.j, -0.05551004+0.j,  0.25672335+0.j,\n",
       "         0.0430909 +0.j, -0.02935596+0.j, -0.0282463 +0.j,\n",
       "         0.06092013+0.j, -0.11917841+0.j,  0.13144512+0.j,\n",
       "        -0.00979965+0.j],\n",
       "       [-0.04385183+0.j, -0.06469304+0.j,  0.28356454+0.j,\n",
       "         0.04633079+0.j, -0.02568217+0.j, -0.04838896+0.j,\n",
       "         0.0543453 +0.j, -0.15648447+0.j,  0.12053848+0.j,\n",
       "         0.01741562+0.j],\n",
       "       [-0.01962629+0.j, -0.01215732+0.j,  0.11166457+0.j,\n",
       "         0.02934927+0.j, -0.02485994+0.j, -0.01883712+0.j,\n",
       "         0.01448676+0.j, -0.05111488+0.j,  0.02986529+0.j,\n",
       "        -0.08128481+0.j],\n",
       "       [ 0.02069988+0.j,  0.0407351 +0.j, -0.2755709 +0.j,\n",
       "        -0.01121309+0.j,  0.02881925+0.j,  0.03090026+0.j,\n",
       "        -0.0732013 +0.j,  0.11651898+0.j, -0.13869437+0.j,\n",
       "         0.06682533+0.j],\n",
       "       [-0.01415073+0.j,  0.03519793+0.j, -0.2067986 +0.j,\n",
       "        -0.02018745+0.j,  0.00199341+0.j,  0.00722482+0.j,\n",
       "        -0.05783507+0.j,  0.10092388+0.j, -0.11072198+0.j,\n",
       "        -0.02183071+0.j],\n",
       "       [-0.01973135+0.j, -0.04103062+0.j,  0.36474208+0.j,\n",
       "         0.04198599+0.j, -0.05833753+0.j, -0.05158213+0.j,\n",
       "         0.12591577+0.j, -0.17302884+0.j,  0.20031145+0.j,\n",
       "         0.09450241+0.j],\n",
       "       [-0.04168088+0.j,  0.058989  +0.j, -0.16263868+0.j,\n",
       "        -0.00410015+0.j, -0.01115807+0.j, -0.02441751+0.j,\n",
       "        -0.10034406+0.j,  0.08620151+0.j, -0.13592189+0.j,\n",
       "        -0.02329065+0.j],\n",
       "       [-0.02121978+0.j, -0.00916882+0.j,  0.09639148+0.j,\n",
       "         0.01588976+0.j, -0.0282969 +0.j, -0.02847343+0.j,\n",
       "        -0.00070785+0.j, -0.06295129+0.j,  0.03588072+0.j,\n",
       "        -0.00952103+0.j]])"
      ]
     },
     "execution_count": 124,
     "metadata": {},
     "output_type": "execute_result"
    }
   ],
   "source": [
    "H_iM"
   ]
  },
  {
   "cell_type": "code",
   "execution_count": 17,
   "id": "5aaa675f",
   "metadata": {},
   "outputs": [
    {
     "data": {
      "text/plain": [
       "(200, 10, 10)"
      ]
     },
     "execution_count": 17,
     "metadata": {},
     "output_type": "execute_result"
    }
   ],
   "source": [
    "X.shape"
   ]
  },
  {
   "cell_type": "code",
   "execution_count": 16,
   "id": "8a0097c8",
   "metadata": {},
   "outputs": [],
   "source": [
    "Y_full, X, G_true, Gamma_Y_true, W_true, Gamma_X_true = DGP(200, 10, 10, 10, 5, 0.5, burn=200)"
   ]
  },
  {
   "cell_type": "code",
   "execution_count": 28,
   "id": "2bd082c3",
   "metadata": {},
   "outputs": [],
   "source": [
    "(Y, X, gamma, r, Lambda_X_ini, W_ini) = (Y_full[:,0,:], X, 0.5, 5, Gamma_X_true, W_true)"
   ]
  },
  {
   "cell_type": "code",
   "execution_count": 29,
   "id": "a487b98b",
   "metadata": {},
   "outputs": [
    {
     "data": {
      "text/plain": [
       "(array([[ 0.07291057,  0.10653474, -0.07445799,  0.03870584,  0.04197076],\n",
       "        [-0.10521262, -0.15451987,  0.02193155, -0.07103042, -0.0996521 ],\n",
       "        [ 0.04757815, -0.06249351,  0.04085927, -0.17262146, -0.15484088],\n",
       "        [-0.01417471,  0.01904495,  0.11531733,  0.0324396 , -0.13134613],\n",
       "        [-0.02147924, -0.06650529,  0.03820417, -0.10258954, -0.07575795],\n",
       "        [ 0.07351168, -0.00432657,  0.17315875, -0.09376369,  0.10387692],\n",
       "        [ 0.06360529, -0.01037436, -0.23240722, -0.00181766,  0.03061998],\n",
       "        [-0.06784121,  0.02830609,  0.1528027 , -0.15945037,  0.13737884],\n",
       "        [ 0.07637207, -0.08105632, -0.17946192,  0.11405463, -0.06051618],\n",
       "        [ 0.01880779, -0.05645212,  0.15339575, -0.12996411,  0.1828334 ],\n",
       "        [ 0.1336171 ,  0.0531971 , -0.14310833, -0.07160512, -0.00681021],\n",
       "        [-0.15981145, -0.00625408,  0.15751864,  0.07658403,  0.09746453],\n",
       "        [ 0.17363389,  0.10621172,  0.12400237, -0.15527774,  0.08617186],\n",
       "        [-0.09075848,  0.02954472,  0.14313267,  0.02259963, -0.03425788],\n",
       "        [ 0.02805389,  0.03092825,  0.10560389, -0.04063451,  0.03824308],\n",
       "        [ 0.19877661, -0.10520398,  0.05963996, -0.13003804, -0.10782252],\n",
       "        [ 0.17242358,  0.06899445, -0.19626873, -0.04854886,  0.11224754],\n",
       "        [-0.06995899, -0.01450076,  0.03866656, -0.11737003, -0.17153852],\n",
       "        [ 0.11467371, -0.02083034, -0.06494648,  0.11759997,  0.16088501],\n",
       "        [ 0.13857043, -0.16517146,  0.0465394 , -0.09634888, -0.11083908],\n",
       "        [ 0.10600464,  0.0017842 ,  0.03652914,  0.06984806, -0.03923754],\n",
       "        [-0.13979484, -0.02586416, -0.05200776, -0.07780091,  0.05964996],\n",
       "        [ 0.06381003, -0.05481318, -0.03764531, -0.06001126,  0.04817809],\n",
       "        [-0.00662319,  0.06495902, -0.01115887,  0.1116282 , -0.0419215 ],\n",
       "        [-0.01211535, -0.05227914, -0.04264647, -0.07007823,  0.04502333],\n",
       "        [ 0.04000291, -0.01179232, -0.05555073, -0.1106574 ,  0.04379805],\n",
       "        [ 0.07856272, -0.05227421,  0.05139838, -0.05220695,  0.00396327],\n",
       "        [-0.07579961, -0.13610325, -0.0271073 , -0.09460233,  0.10933236],\n",
       "        [ 0.03375295,  0.09386641,  0.00773616, -0.00947798, -0.07622069],\n",
       "        [-0.03660923, -0.0486419 , -0.07446858, -0.20068426,  0.09884871],\n",
       "        [ 0.11440336, -0.06111536,  0.06609304, -0.01881937,  0.08460153],\n",
       "        [-0.12132785,  0.0093941 , -0.09147431,  0.04357246, -0.18492303],\n",
       "        [ 0.14831683, -0.10169905, -0.0958172 , -0.01312157, -0.13329095],\n",
       "        [-0.08669168, -0.02772539, -0.04421048, -0.01091139, -0.01091934],\n",
       "        [ 0.03680988, -0.02043422, -0.06009865,  0.00462864, -0.10721865],\n",
       "        [ 0.14191383,  0.13991367,  0.00089165, -0.02704049,  0.11998656],\n",
       "        [ 0.14347324, -0.08923588,  0.02812688, -0.03873936, -0.0575389 ],\n",
       "        [ 0.03557803,  0.06816081,  0.07152787,  0.12927994,  0.13906452],\n",
       "        [-0.01068416, -0.00151875, -0.06984629, -0.12202227, -0.15436413],\n",
       "        [ 0.12282177,  0.21079899,  0.02136611,  0.00513955,  0.11108445],\n",
       "        [ 0.10495465, -0.23771765,  0.03024453,  0.15166325,  0.05558408],\n",
       "        [-0.11755691,  0.20741144,  0.01391878, -0.12315567, -0.01656207],\n",
       "        [ 0.1011013 , -0.08089283,  0.18770145,  0.01589692,  0.03533143],\n",
       "        [-0.03942692,  0.04321344,  0.08762617, -0.04433113, -0.03943919],\n",
       "        [ 0.00184857,  0.04730511,  0.07729014, -0.04221544,  0.00346306],\n",
       "        [-0.01601299,  0.14919056, -0.01349295, -0.19762586, -0.12274506],\n",
       "        [ 0.11752833, -0.18061793, -0.07301397,  0.155633  ,  0.13508794],\n",
       "        [ 0.0304486 , -0.18866705,  0.14750032,  0.04688434, -0.05707474],\n",
       "        [-0.04451346,  0.28146273, -0.22976417, -0.10783668,  0.05172285],\n",
       "        [-0.05515535,  0.2248498 , -0.06687071, -0.22664669, -0.13882658],\n",
       "        [ 0.04497127, -0.0728271 , -0.06577494, -0.11417142,  0.03402623],\n",
       "        [-0.05720002,  0.13044939,  0.10217   ,  0.18826922, -0.00590363],\n",
       "        [ 0.1515176 ,  0.0987333 ,  0.079703  ,  0.0139547 ,  0.04838056],\n",
       "        [-0.11673022, -0.0655617 ,  0.02631603, -0.10055048,  0.08802924],\n",
       "        [ 0.06724697,  0.08377953,  0.04298211,  0.08734252, -0.00404894],\n",
       "        [ 0.15641898,  0.01158541, -0.01627534, -0.00987576, -0.13964862],\n",
       "        [ 0.11925535,  0.0524129 , -0.0490259 , -0.00711877,  0.02373342],\n",
       "        [ 0.06479062,  0.08709445,  0.02483449,  0.16419587, -0.22497238],\n",
       "        [ 0.00751573, -0.02602515, -0.01424048, -0.05579994,  0.1422553 ],\n",
       "        [ 0.16353049,  0.08749936,  0.00155515,  0.13297247, -0.20580227],\n",
       "        [-0.07664532, -0.06974981, -0.03282451, -0.05405217,  0.05597522],\n",
       "        [ 0.09673323,  0.10722747,  0.02133179,  0.10466108, -0.0860036 ],\n",
       "        [-0.0150582 ,  0.03294935,  0.04864459,  0.06642588, -0.03655239],\n",
       "        [-0.02521253, -0.0696074 ,  0.00693312, -0.13082027,  0.05424064],\n",
       "        [ 0.03906666,  0.07645882,  0.03348172,  0.09446713, -0.06834391],\n",
       "        [-0.01640802,  0.05962002,  0.02560905,  0.08571092, -0.07646597],\n",
       "        [-0.02483517,  0.00896604, -0.0302794 ,  0.06171644, -0.00826223],\n",
       "        [ 0.090293  ,  0.11558121,  0.04447691,  0.16276983, -0.12383356],\n",
       "        [-0.05513288, -0.04759674, -0.03209269, -0.06245699,  0.05250491],\n",
       "        [ 0.05877267,  0.14413204,  0.04578388,  0.18125498, -0.13058566],\n",
       "        [-0.07507766, -0.08852974,  0.03000951,  0.09302074,  0.07177539],\n",
       "        [ 0.11158004,  0.04190544, -0.04372764, -0.10343966, -0.11664941],\n",
       "        [-0.12577553, -0.08761872,  0.04376585,  0.06210122, -0.11044803],\n",
       "        [ 0.05153698, -0.00503619,  0.01369736, -0.07129219, -0.02626726],\n",
       "        [-0.02216651, -0.01148117,  0.0102484 , -0.00362017, -0.07390622],\n",
       "        [-0.16644719,  0.12359509,  0.06036239,  0.02270231,  0.02473972],\n",
       "        [-0.09725329, -0.08729378, -0.03252315,  0.14894749, -0.00513008],\n",
       "        [ 0.06786169,  0.01379647,  0.10165447,  0.05952756,  0.07051484],\n",
       "        [-0.07588696,  0.04557206, -0.12883525, -0.02849027, -0.06863018],\n",
       "        [-0.11708864,  0.16245079,  0.04047372,  0.00351881,  0.02975911],\n",
       "        [-0.1064415 ,  0.05945436, -0.10862829,  0.03027673,  0.06502477],\n",
       "        [ 0.13008418, -0.06765538,  0.10231819, -0.04717267, -0.10888357],\n",
       "        [-0.14366029,  0.02075328,  0.14054451, -0.03813757, -0.1600328 ],\n",
       "        [ 0.03733135, -0.03863373,  0.15265849, -0.11809904, -0.05507314],\n",
       "        [-0.02252482, -0.00531875,  0.09321596, -0.01519984, -0.09791548],\n",
       "        [-0.12209932,  0.00376457,  0.21637135,  0.05226332, -0.02067326],\n",
       "        [-0.11714084,  0.02668081, -0.27202424,  0.12743956,  0.05773351],\n",
       "        [ 0.0182268 ,  0.11373604,  0.17784736, -0.07435727, -0.05902304],\n",
       "        [-0.01758227, -0.13029305, -0.22691718,  0.13863836,  0.05988377],\n",
       "        [-0.05346952, -0.00326856,  0.20278151,  0.08958285, -0.00852963],\n",
       "        [-0.07851989, -0.03188553, -0.00683869,  0.09248987, -0.06885233],\n",
       "        [ 0.09690169,  0.05584613,  0.06080589, -0.11541537,  0.1827864 ],\n",
       "        [-0.14924726,  0.05250329,  0.1165273 ,  0.04158642,  0.15653521],\n",
       "        [ 0.09111061,  0.06397322,  0.04731306,  0.00707557, -0.00410494],\n",
       "        [-0.04868426,  0.03888409,  0.0648198 , -0.02698958,  0.12355474],\n",
       "        [-0.19300245, -0.08019442, -0.05123506, -0.01599329, -0.13793394],\n",
       "        [-0.13699149, -0.00913716,  0.00036473,  0.08465721,  0.1010832 ],\n",
       "        [-0.02403489, -0.19005871, -0.05632125, -0.12216141, -0.13661335],\n",
       "        [-0.03018987,  0.1343319 ,  0.03040818,  0.08300414,  0.13553635],\n",
       "        [-0.17175631, -0.12190849, -0.07713206, -0.08996629, -0.1369325 ],\n",
       "        [-0.06987604,  0.08622095, -0.00273463,  0.02021652, -0.01027446],\n",
       "        [-0.09409679, -0.13785015, -0.01517608,  0.12150144, -0.02367496],\n",
       "        [ 0.02255727, -0.13034548,  0.08642829,  0.09114058,  0.10130291],\n",
       "        [ 0.04584954,  0.04878799, -0.00123493, -0.06031151, -0.09293482],\n",
       "        [ 0.06068266, -0.19662096,  0.02774453,  0.02908999,  0.01882453],\n",
       "        [ 0.23197885, -0.04505042, -0.02221942, -0.00520048,  0.04513573],\n",
       "        [ 0.05218416, -0.01889311,  0.10573723,  0.11000817, -0.07586747],\n",
       "        [-0.04854771, -0.05682259,  0.13124742,  0.00281208,  0.00521455],\n",
       "        [-0.05429721, -0.02534515, -0.0718788 , -0.09526318,  0.05897551],\n",
       "        [ 0.00505955, -0.03516569,  0.06515649, -0.14647626,  0.00883131]]),\n",
       " array([[ 0.54520078,  0.24381252, -0.25723928, -0.40962598,  0.28183588],\n",
       "        [-0.06745566, -0.32559959, -0.08629534, -0.40434722,  0.09171431],\n",
       "        [-0.28396633, -0.21265395, -0.47931456,  0.18065197,  0.31429837],\n",
       "        [ 0.51899355, -0.67538122, -0.29820783,  0.14712448, -0.08555315],\n",
       "        [ 0.28232375,  0.36574385, -0.45152233,  0.25679465, -0.27081059],\n",
       "        [ 0.08559502,  0.21390357, -0.10307779,  0.5189614 , -0.19235796],\n",
       "        [-0.00419468, -0.33216129,  0.21125181,  0.39736137,  0.13837602],\n",
       "        [ 0.37020792,  0.12219903,  0.39994627,  0.29200451,  0.64020509],\n",
       "        [ 0.347602  , -0.11509959,  0.42435138, -0.12746472, -0.48281545],\n",
       "        [ 0.05729578,  0.12306062, -0.09249226, -0.14055163,  0.18328398]]),\n",
       " array([[-0.00143672,  0.35516508, -0.15007006, -0.05770981, -0.20086344],\n",
       "        [-0.04461289, -0.41989069,  0.32450585,  0.17862376,  0.09918653],\n",
       "        [ 0.1921908 , -0.18327227, -0.03660571,  0.15805136, -0.43782986],\n",
       "        [ 0.23583322,  0.01032827,  0.20713645, -0.01916627,  0.04485362],\n",
       "        [ 0.05597184, -0.25435633,  0.02312386,  0.11539282, -0.12609654],\n",
       "        [ 0.17100733, -0.28311549, -0.53368275, -0.08340555,  0.1003184 ],\n",
       "        [-0.28232213,  0.18439739, -0.08625529, -0.01685306, -0.40783107],\n",
       "        [ 0.22283317, -0.01080626, -0.36434298,  0.25921367,  0.3595024 ],\n",
       "        [-0.35985198, -0.15855231,  0.23047694, -0.24728297, -0.2726478 ],\n",
       "        [ 0.06578774, -0.43581824, -0.5473602 , -0.00596542,  0.29238113]]),\n",
       " array([[  8.54094997,  -4.46948179, -19.68040899,  -4.34375457,\n",
       "           2.00205473],\n",
       "        [ -0.31376607,   0.39374857,  14.50272266,  -1.81553534,\n",
       "           0.17948967],\n",
       "        [  0.79166857, -16.87341229,  17.75933935,   6.70479967,\n",
       "          -9.58712241],\n",
       "        [  7.73748573,  13.09835551,  -1.70123554,  12.71833852,\n",
       "         -15.47986861],\n",
       "        [-30.76498842,   1.67729313,   1.38972783,  -6.31997836,\n",
       "          17.25228927],\n",
       "        [  1.13136107,  -5.35009155, -14.3362032 ,   8.47574518,\n",
       "           1.73400524],\n",
       "        [  4.90404513,  11.50544586, -10.6887043 ,  -3.98882004,\n",
       "          24.02973144],\n",
       "        [ -5.11102277,  -1.0408544 ,  10.4915831 ,  14.28815857,\n",
       "          -2.09954325],\n",
       "        [ -0.9538682 , -21.77606302, -17.8830309 ,   2.9836449 ,\n",
       "           0.4339884 ],\n",
       "        [ -5.3942001 ,  -0.40770622,  -3.69760069, -10.00594835,\n",
       "           8.90903953],\n",
       "        [ 15.71527575,   5.74217998,  -7.38445989, -12.99359931,\n",
       "         -17.97811631],\n",
       "        [ 16.19255518,  12.64856754,  20.92965487,   3.38865447,\n",
       "          12.36416027],\n",
       "        [ -6.83136681,   7.91421577,   2.30327894,  -5.98172825,\n",
       "          26.46375541],\n",
       "        [-10.43245259,  -5.87696347,  15.64689907,  -7.92026113,\n",
       "          -5.61643357],\n",
       "        [ -8.80206049,   4.50153808,  -3.70271155,  -5.12620719,\n",
       "          16.66231309],\n",
       "        [ 21.87490586,   8.61191182, -11.75254855,   0.75019847,\n",
       "          -9.93899446],\n",
       "        [ -0.16823038, -11.08193026,   0.55117286,  -5.80469808,\n",
       "          -8.81862444],\n",
       "        [ 21.59198061,  -0.69237834, -11.05043459, -15.71888384,\n",
       "          13.78279098],\n",
       "        [ 17.13438672,   6.2761361 ,  13.11850712,  26.00359823,\n",
       "          -1.41696928],\n",
       "        [  0.29036212,   3.43984968,   9.43124448,   7.41322549,\n",
       "         -13.99954333],\n",
       "        [ -8.71914227,  14.84399282, -14.1618271 , -18.47706044,\n",
       "         -12.21284908],\n",
       "        [ -5.35621115,  12.31586227,   1.14592416,  10.61254539,\n",
       "          -1.51356604],\n",
       "        [ -0.50686143,  11.49467966,   2.9048394 , -11.12699658,\n",
       "           0.06649965],\n",
       "        [  9.82723584, -19.18133459,   9.3437459 ,   1.26094018,\n",
       "          -3.85886268],\n",
       "        [  9.50020309,   8.67274429,  10.84442452,  -3.4926685 ,\n",
       "          -3.52264267],\n",
       "        [ -5.26996831, -16.33965392,  -8.89051617, -12.08653001,\n",
       "           5.63126979],\n",
       "        [ -5.23867277,  -0.06738382,  -7.91344727, -10.29095862,\n",
       "         -17.60674508],\n",
       "        [-16.29961373,  17.76239863,   8.75441575,   8.14804914,\n",
       "           4.15075054],\n",
       "        [  1.79767464, -10.92554505,  -0.90011696,  -0.6616539 ,\n",
       "           4.49656004],\n",
       "        [  9.60265456,  12.78301526,   4.93457429,  12.13417448,\n",
       "         -14.62156227],\n",
       "        [-20.03493321, -16.34629494,   8.13773298,  11.88042069,\n",
       "          -3.06298427],\n",
       "        [ 13.29991213,   8.61820854,  21.91056247,   2.88858724,\n",
       "          18.65590812],\n",
       "        [-21.98810498, -20.54913979,   0.02596139,  22.69010001,\n",
       "         -10.70695193],\n",
       "        [-20.1025058 ,  -8.11331425, -10.58020821,   7.54347578,\n",
       "         -18.19321413],\n",
       "        [-15.84911549,  15.66809718,   5.66289228, -19.36482683,\n",
       "           2.70099186],\n",
       "        [ 16.04333329,   1.62542264,  12.6391535 ,  16.63033579,\n",
       "          -0.36605248],\n",
       "        [ -4.98256347, -16.69725553,  -5.59400946, -11.85295178,\n",
       "          -2.3056558 ],\n",
       "        [  0.22351187,  -5.39218017,  12.86863075, -11.87566912,\n",
       "          -5.44929326],\n",
       "        [  0.81339022,  -7.35003954,  -3.08961295,   3.51462711,\n",
       "          -3.83664017],\n",
       "        [ 16.6673516 , -25.71407001, -10.26584404,  11.86134157,\n",
       "           6.28247976],\n",
       "        [ -3.82689346,  23.07670632, -20.3572531 ,   1.37015007,\n",
       "          11.79166962],\n",
       "        [  9.43574993,  -9.70350673, -14.70509716,   2.11692537,\n",
       "           6.94492188],\n",
       "        [-10.51101212,  17.28828263, -11.34411839,   8.90900964,\n",
       "          -5.43112861],\n",
       "        [-39.14056314,  10.17207714,  -8.03470297,  -7.58678849,\n",
       "           5.58569212],\n",
       "        [-10.02663243,  -4.0854769 , -12.50160195,  -7.70330778,\n",
       "          19.20169789],\n",
       "        [ -1.21242837,   1.18939727,  -0.88835705,  -9.78945613,\n",
       "          -1.10341828],\n",
       "        [  0.89829483,   5.8079486 ,  27.03173912,  -1.2343553 ,\n",
       "          -8.03812428],\n",
       "        [-13.54996707,  -4.67652143,   6.31731498,   0.42115125,\n",
       "          -0.33545942],\n",
       "        [ -5.91987725, -11.5898275 ,   9.00416389,   6.88240283,\n",
       "           2.7764971 ],\n",
       "        [-11.25586535,  16.97921664,   1.85248451,   1.42630205,\n",
       "           9.92121903],\n",
       "        [ -2.1339116 ,  -4.41969096,   5.99667856,  22.38770197,\n",
       "           9.09503652],\n",
       "        [ -9.49324687,   0.61353143,  -5.04020663, -17.55288437,\n",
       "         -20.58015304],\n",
       "        [ 14.18545084,  -2.09491437,  -8.68472848,   3.88616626,\n",
       "          -0.63238246],\n",
       "        [  9.3030059 , -21.44523811,  14.57570205, -11.94059132,\n",
       "           1.7075148 ],\n",
       "        [ 25.47858116, -20.59908424,  19.23971875, -20.82298806,\n",
       "           3.32878868],\n",
       "        [  7.97661447,  14.73416635,  -4.51955525,  -9.69916126,\n",
       "           5.38558734],\n",
       "        [-11.8145815 ,  -8.71097084,   3.38309986,   1.62659772,\n",
       "          -1.84120893],\n",
       "        [ -8.8349644 ,   8.94911232,   5.03632945,  -7.2543183 ,\n",
       "          -1.07974188],\n",
       "        [  1.5812623 ,   3.70297354,   2.63469983,   6.01945315,\n",
       "           4.31536331],\n",
       "        [ 21.50544816,  -5.84437917,   1.97781629,  10.59266791,\n",
       "          -1.53330323],\n",
       "        [  5.29760618,  -5.77513759,  -5.25775396,   6.23069196,\n",
       "          13.4316205 ],\n",
       "        [ -8.78743513,  -2.37176088,   4.79238158,   1.44054095,\n",
       "           1.90296488],\n",
       "        [  7.17488129,  13.96738723,  -5.61084178,  42.61293488,\n",
       "          -7.78519345],\n",
       "        [-16.57018935, -13.13956365,   6.91823676,   1.60968097,\n",
       "         -10.84105294],\n",
       "        [-33.11323915,  -0.94579013,  13.80511366,  10.39244235,\n",
       "           2.83875532],\n",
       "        [-13.05920721, -20.13324873,  -9.14370118,   2.21429922,\n",
       "         -11.82631119],\n",
       "        [ 22.24952855,  -0.55607196,  11.04725847, -14.12171032,\n",
       "          12.66241253],\n",
       "        [ 23.0241032 ,   3.25294804,   1.73567179, -10.66948641,\n",
       "         -12.36350306],\n",
       "        [  4.03267131,   0.32413397,   5.58023864,   0.03753401,\n",
       "           6.66118836],\n",
       "        [ 13.25667664,   7.50252617,  -8.89557449,   6.373771  ,\n",
       "          -6.79036156],\n",
       "        [ -8.85412485, -15.51679138,   8.96690963,  -1.03042685,\n",
       "          -0.25190109],\n",
       "        [-17.80154689,   5.55801975,  -2.55225795,  -6.32839175,\n",
       "           8.08656731],\n",
       "        [  1.63750085,  22.77469903,   7.24581009,  13.51581661,\n",
       "           3.138329  ],\n",
       "        [  8.19096289,  -1.00829042,  -8.14042928, -10.72823595,\n",
       "          -2.93791172],\n",
       "        [-10.85402147,   0.43178165, -16.42052292,  27.40784573,\n",
       "           8.67123263],\n",
       "        [-10.67385642, -15.95842413,  -8.78978627,   6.93176284,\n",
       "           7.04264167],\n",
       "        [  1.57427996, -20.76823575,  14.33365172,   5.78980913,\n",
       "          -0.74402626],\n",
       "        [-20.20001622,   4.57610467, -14.87083204,   2.24478815,\n",
       "           2.6006264 ],\n",
       "        [ -0.42234821,  -1.08229988,  -0.16475286,   0.54968991,\n",
       "           3.15801158],\n",
       "        [ 24.13422449,  23.33416698,   1.1664925 ,  18.82335735,\n",
       "          13.2514908 ],\n",
       "        [  5.54987972,  -4.51275483,   2.22665137, -11.73823268,\n",
       "           0.14862624],\n",
       "        [  2.03763635,  10.1258595 ,  -2.22051129,   9.54380764,\n",
       "          -3.23180069],\n",
       "        [  1.61258815, -12.39022453,  16.41334454,   3.59460314,\n",
       "           7.02889214],\n",
       "        [ -7.2743578 ,   9.08536582,  -3.72982001,   6.45381798,\n",
       "         -11.38026712],\n",
       "        [ -7.09514001, -10.89224609,  10.77472548,   0.14227712,\n",
       "         -10.26215837],\n",
       "        [ -7.86425533,   3.38826297,  -0.77816603,  12.75804004,\n",
       "          12.50981357],\n",
       "        [-10.93288152, -14.62091629, -16.97873047, -10.7204769 ,\n",
       "          -0.08994137],\n",
       "        [  8.85271324,   0.85871451,  -9.45595614,   4.75053324,\n",
       "          10.66299464],\n",
       "        [ -4.46332426,   7.94433334,   4.27683315,  -5.09242916,\n",
       "         -15.1307669 ],\n",
       "        [  4.65492502, -22.96453297, -25.53574742,   2.33247801,\n",
       "           4.1028139 ],\n",
       "        [  5.4476682 ,   8.06773885,   3.6468441 ,   4.51888129,\n",
       "           5.37943434],\n",
       "        [ -6.30386543,  -6.71567877,  -9.47066536,  -1.32771069,\n",
       "           2.65829144],\n",
       "        [ 10.48863385,  13.22905176,  17.06413826,  -0.87300911,\n",
       "          -9.08574154],\n",
       "        [  5.78528875,  -4.40545939,   0.18869264,  15.61996005,\n",
       "           7.02768037],\n",
       "        [ -5.64838531,  -3.63162361,   6.70939346, -13.06922615,\n",
       "          -7.40873009],\n",
       "        [ -1.39104375,  -6.92194211,  13.5549837 ,  14.93154856,\n",
       "           4.34095826],\n",
       "        [ -0.01024056,  -1.99391101,   3.38199942, -16.02388867,\n",
       "          11.33840347],\n",
       "        [  7.72546518, -36.24767758,   0.75849427,   8.74503367,\n",
       "           2.39448333],\n",
       "        [ 14.30674891,  19.60226238,  -6.2935824 ,  -1.80480778,\n",
       "          -1.45407974],\n",
       "        [  5.79356162,   1.77852301, -12.23697188,  12.9592709 ,\n",
       "          11.29189127],\n",
       "        [ -2.62157937,   3.4080941 ,  -8.60263038,  10.73918183,\n",
       "          11.08552233],\n",
       "        [-11.0811501 ,  14.29751094, -12.28197494,   5.77980583,\n",
       "          -9.72575363],\n",
       "        [ -5.86771091,   4.06949227,  -5.4581989 ,   7.70648778,\n",
       "          17.62461857],\n",
       "        [  9.67015506, -16.37544747,  31.21753995,   2.38925099,\n",
       "         -11.39775597],\n",
       "        [ -7.56553448,  -5.85671235,   8.26982812, -12.50937411,\n",
       "         -19.12313624],\n",
       "        [  3.43280556,  -5.86431803, -12.70660214,  -2.77945796,\n",
       "           4.29481948],\n",
       "        [ -6.31801904,   2.90179696,   2.69244969, -16.3682379 ,\n",
       "          -7.47154256],\n",
       "        [ 11.1250862 ,  -7.54842654,  10.65359858, -17.10037352,\n",
       "           0.09722239],\n",
       "        [ 10.18607842,   0.13771346,   4.68060878,  -2.42471224,\n",
       "           1.53616008],\n",
       "        [ 18.85311187,  -3.83860871, -15.95170217,  -6.35071873,\n",
       "           1.61280607],\n",
       "        [  0.61924177,   9.45995228,  -7.84330522, -11.06353328,\n",
       "          -3.79633626],\n",
       "        [ -4.81392197, -12.17430774,   5.90285842,  -9.74696897,\n",
       "           8.1696329 ],\n",
       "        [  4.32690819,   2.42530814,  -3.85939881,  -2.28107762,\n",
       "         -15.61529566],\n",
       "        [ -2.77080434,  21.10266724,  -0.11001485,   4.19956071,\n",
       "           4.02692401],\n",
       "        [  7.66798762, -14.2691364 , -16.35070423,  -0.53342448,\n",
       "          -1.69065537],\n",
       "        [  3.68585072,  -0.23428575,  -1.71051612,  -0.33000044,\n",
       "          17.82867636],\n",
       "        [  7.19357765,  -6.23257683, -15.31673033, -14.34012634,\n",
       "           9.4166438 ],\n",
       "        [ 10.8044115 ,   0.17498012,  -6.61147491,   1.42360558,\n",
       "         -18.69759254],\n",
       "        [ 21.99206193,  25.83142414,  -1.68545068,   5.81822902,\n",
       "         -12.15378564],\n",
       "        [ 29.75824897,   4.30049144,  -6.78925231, -15.50043557,\n",
       "           6.6843945 ],\n",
       "        [ -1.51992251,   6.66970965,  12.61138039,   5.55840327,\n",
       "          -0.82409609],\n",
       "        [ -3.72616761,  -2.21510804,  10.78036408,  -7.56503184,\n",
       "          -1.52697198],\n",
       "        [  5.42699786,  10.50140438,   8.68568353,   0.33525967,\n",
       "           6.64479852],\n",
       "        [ -5.01902115, -13.90369628,   5.30429663, -10.63303198,\n",
       "          -4.32496037],\n",
       "        [ 22.76574156,  10.2729716 ,   7.89017855,  -2.12556121,\n",
       "         -19.67405192],\n",
       "        [ -9.46548875, -26.64708567,  13.85220552,   0.24141649,\n",
       "          -1.03119867],\n",
       "        [  8.6917697 ,   5.02618345,  12.94345105,  -8.74000609,\n",
       "           2.42217074],\n",
       "        [ -1.22743916,  13.03310698,  -2.47879037,   3.78427826,\n",
       "           4.8540713 ],\n",
       "        [  4.56310088, -17.25430039, -10.72880451,   0.1167559 ,\n",
       "           4.48804701],\n",
       "        [ -3.04155726,  -9.48322972,   2.0525176 ,  -2.79532353,\n",
       "          14.0829101 ],\n",
       "        [  9.58465155,  -0.04509049,  -6.87643249,   0.23320546,\n",
       "          -0.94962637],\n",
       "        [ -8.0194655 ,   8.75198834,  15.57371947,  -3.04973437,\n",
       "          -4.1857236 ],\n",
       "        [ 23.85648905, -19.79600586,   0.6383652 ,   4.97110409,\n",
       "           3.33486249],\n",
       "        [ 23.05574694, -21.65955309, -19.09487305,  14.26782392,\n",
       "         -15.25606307],\n",
       "        [ -2.56968361,  -0.09954957,  -6.83408654,  -4.42541825,\n",
       "          -0.58831877],\n",
       "        [  3.98816543,   7.44284059,  -9.54576655,  -9.58666459,\n",
       "         -17.98863766],\n",
       "        [  5.92185815, -21.96907295, -18.92054268,  13.59187683,\n",
       "          -3.166555  ],\n",
       "        [ 17.3739856 ,   5.50710846,   9.22441279,  -0.64599507,\n",
       "           4.23977231],\n",
       "        [ 30.35354958,  -5.02087799, -10.25271554,  -2.45004699,\n",
       "           8.48905796],\n",
       "        [ 17.33886475,   9.15155152, -13.53353304,  -4.42925286,\n",
       "           0.96323411],\n",
       "        [-14.16667455,   4.47229755,  -7.23339533,   5.2550747 ,\n",
       "         -11.95825955],\n",
       "        [  2.16865223,   4.49241491, -20.29078434,  -9.0688465 ,\n",
       "          -2.70619665],\n",
       "        [ 21.97921761,   7.71503812, -11.27184282, -22.44363679,\n",
       "          14.90452963],\n",
       "        [ 12.32291321,  13.18691907,   5.84430764,  -2.15421586,\n",
       "           7.68724637],\n",
       "        [-12.18546765,  -5.36729934, -10.97879919,  -3.60779713,\n",
       "          10.61277808],\n",
       "        [ -2.99168472,   3.5637964 ,  -4.07279783,   8.52535703,\n",
       "           5.39559013],\n",
       "        [-22.47395257,  16.37752724,   4.90268209, -13.57717604,\n",
       "           0.38615761],\n",
       "        [-14.31159267, -23.69444348,   3.42098024,   5.80293957,\n",
       "          -6.50257173],\n",
       "        [-14.66794142,  20.8361425 ,  -6.23798966,  10.79062133,\n",
       "          -8.23692148],\n",
       "        [ -3.20382767,  10.36544793,  -7.52851535, -10.52090243,\n",
       "           4.05444106],\n",
       "        [ -0.04963853,  22.16569098,   2.99961477, -16.01992313,\n",
       "          -0.36987927],\n",
       "        [-16.75785447,  -8.93366299, -31.4667579 ,  14.87354221,\n",
       "         -10.96926701],\n",
       "        [  5.95671352,  17.70621882,   9.07050053,  23.2410247 ,\n",
       "          -5.12140926],\n",
       "        [ -9.47073725,   2.40687049,  -0.21382493, -22.49398391,\n",
       "         -13.79156144],\n",
       "        [  2.48329866,  -8.2366126 , -17.42886823,  -5.98733034,\n",
       "           2.07127255],\n",
       "        [ -2.36584504,  11.66621301,   6.90220367,   1.40351705,\n",
       "           4.30991698],\n",
       "        [-13.306184  , -10.5512916 ,   5.31620322, -10.58728928,\n",
       "          20.83339668],\n",
       "        [ 21.31375618,   6.56927918, -13.13521396,  -5.30976047,\n",
       "          -5.98203066],\n",
       "        [-22.19196103,  -6.91882104,   9.44050775,  -3.52510086,\n",
       "          27.05501691],\n",
       "        [-14.14446006,  13.11267509,   2.37968011,  24.94380056,\n",
       "           2.58037556],\n",
       "        [-13.23254933,  -0.89581038,   1.19852116,  -5.85228885,\n",
       "           2.24619627],\n",
       "        [ 12.57358455,  13.07464781,   6.84916944,   5.08501493,\n",
       "           6.21243444],\n",
       "        [  2.41401907,  -7.30316234,   2.12762038,  -5.43899557,\n",
       "           4.93730356],\n",
       "        [ 12.60441877,   6.76122978,  16.47552638,  13.11921689,\n",
       "           7.66846056],\n",
       "        [ 12.10385874,   2.65751939,   3.17550891,   4.55442225,\n",
       "          13.57134616],\n",
       "        [  6.79810492,  13.07071309,   6.13011366,  -1.83943772,\n",
       "          -2.79381805],\n",
       "        [-10.18305076,  -4.78976641,   8.1262818 ,  12.37590446,\n",
       "          14.5859464 ],\n",
       "        [  0.0668113 ,  19.39640106,  -4.34949941,  -7.32599819,\n",
       "          10.27589871],\n",
       "        [  3.68740396,  -3.81828786, -10.79834653,  -2.05608724,\n",
       "           4.43975702],\n",
       "        [ 10.39262856,   5.73916304, -12.21002541,   1.89769303,\n",
       "           2.69548362],\n",
       "        [ 26.18158188,  -8.24185489,  -7.94995067,   6.09834027,\n",
       "           2.69731957],\n",
       "        [  1.56428072, -11.31742615,  10.71487989,  -1.26171957,\n",
       "          -5.42223157],\n",
       "        [  0.89236631,  -1.95927733,   0.82963777,  -6.88666606,\n",
       "           7.49650315],\n",
       "        [ 10.25110392,   0.90766632, -10.58898011,  13.91407324,\n",
       "          -1.43428468],\n",
       "        [  0.86317153,  -8.73732413,  -9.59513169,  -2.85407919,\n",
       "           7.77003035],\n",
       "        [ 11.35893079,   7.15624321,  -4.74462794,   3.28070362,\n",
       "          -3.86587763],\n",
       "        [-12.01415951,  12.07272865,   7.07360445,  -2.09680427,\n",
       "           5.54276066],\n",
       "        [-14.99325531,   5.688593  ,  -3.19895397,  -8.86133458,\n",
       "         -15.46698086],\n",
       "        [  3.14137952,  12.97924207,  -4.55506497, -20.46025649,\n",
       "         -15.24797226],\n",
       "        [ -4.88965937,  18.25559866,  -7.49262481,  -4.5433779 ,\n",
       "          -7.20668154],\n",
       "        [ -1.42717628,  10.04283238,   8.17464685,  10.47236406,\n",
       "           9.61749401],\n",
       "        [-12.2386217 ,  -1.472086  ,  -6.23044321,  -5.1559264 ,\n",
       "          -0.14499328],\n",
       "        [-12.41031018,  10.2375123 ,  -5.91761385,   9.13116939,\n",
       "          -8.89397449],\n",
       "        [  2.6638295 ,   5.45132103,  12.14778428,   6.32400817,\n",
       "          -7.58321203],\n",
       "        [ 12.61269391, -10.62913046,  11.76039238,   5.28221206,\n",
       "          -2.61315661],\n",
       "        [  7.62891359,  -7.07686521, -17.44700541,  14.04130563,\n",
       "         -13.78252059],\n",
       "        [ 10.24546857, -19.55514407,  19.64557331, -10.90258876,\n",
       "          -1.88612211],\n",
       "        [  6.93456943,   4.3519088 , -17.17494478,  -9.12557368,\n",
       "          12.9220309 ],\n",
       "        [-14.19219802,   7.47600181,  -8.3648636 ,   1.90294423,\n",
       "          -7.92098373],\n",
       "        [ -1.64923743,  -9.18865431, -22.80902141,  -0.58586187,\n",
       "           0.16217968],\n",
       "        [ -9.32257556,  -1.4428446 , -15.4971022 ,  10.71923699,\n",
       "          11.16115896],\n",
       "        [ 10.71552645, -10.48557821,  -0.8836065 ,  -7.14524456,\n",
       "           6.69128154],\n",
       "        [  0.41647897,   1.94976912,   2.77891792, -14.57818778,\n",
       "           6.62131397],\n",
       "        [  8.23088552,   4.15029218,   8.61689157,   6.0864442 ,\n",
       "           5.58288655],\n",
       "        [-10.98113887,  18.90513381,   4.97706501,  -7.6856087 ,\n",
       "           8.12965501],\n",
       "        [  3.25989671, -14.08620936,  18.44804007,  13.61858265,\n",
       "           7.96582463],\n",
       "        [  0.32429131,  10.10588365, -10.1382489 ,  -2.08233924,\n",
       "         -12.87638805],\n",
       "        [  3.89270389,  -0.7141379 ,   8.9866579 ,  -0.01966982,\n",
       "          -0.40707094],\n",
       "        [ -0.61965552,   1.69771994,  14.00979304,  -8.0615221 ,\n",
       "         -12.30597567],\n",
       "        [ -3.6631862 ,  -0.07493214,  15.74021256, -13.12490416,\n",
       "          -1.38036327]]))"
      ]
     },
     "execution_count": 29,
     "metadata": {},
     "output_type": "execute_result"
    }
   ],
   "source": [
    "TT_PCA(Y, X, 0.5, 5)"
   ]
  },
  {
   "cell_type": "code",
   "execution_count": null,
   "id": "a9a35f65",
   "metadata": {},
   "outputs": [],
   "source": []
  },
  {
   "cell_type": "code",
   "execution_count": 82,
   "id": "4a92c8d8",
   "metadata": {},
   "outputs": [],
   "source": [
    "N_Y = Y.shape[-1]\n",
    "(T, K, N_X) = X.shape\n",
    "Z = np.column_stack((X.reshape((T,-1), order = 'F'), np.sqrt(gamma)*Y))"
   ]
  },
  {
   "cell_type": "code",
   "execution_count": 83,
   "id": "2b8660de",
   "metadata": {},
   "outputs": [],
   "source": [
    "Sigma_Z = np.cov(Z.T)\n",
    "eign_value, Lambda_gamma = np.linalg.eig(Sigma_Z)\n",
    "Lambda_gamma_est = Lambda_gamma[:, np.flip(np.argsort(eign_value))[:r]]"
   ]
  },
  {
   "cell_type": "code",
   "execution_count": 84,
   "id": "d3d625fb",
   "metadata": {},
   "outputs": [],
   "source": [
    "F = Z @ Lambda_gamma_est @ np.linalg.inv(Lambda_gamma_est.T@Lambda_gamma_est)"
   ]
  },
  {
   "cell_type": "code",
   "execution_count": 87,
   "id": "2d8a10de",
   "metadata": {},
   "outputs": [],
   "source": [
    "update_magnitude = np.zeros(2)\n",
    "Lambda_X_est = Lambda_X_ini\n",
    "W_est = W_ini\n",
    "weight = np.zeros(r)\n",
    "iter_num = 0\n",
    "i=0"
   ]
  },
  {
   "cell_type": "code",
   "execution_count": 97,
   "id": "0973319a",
   "metadata": {},
   "outputs": [
    {
     "ename": "NameError",
     "evalue": "name 'Lambda_X_pre' is not defined",
     "output_type": "error",
     "traceback": [
      "\u001b[0;31m---------------------------------------------------------------------------\u001b[0m",
      "\u001b[0;31mNameError\u001b[0m                                 Traceback (most recent call last)",
      "Cell \u001b[0;32mIn[97], line 11\u001b[0m\n\u001b[1;32m      7\u001b[0m W_est[:, i] \u001b[38;5;241m=\u001b[39m W_est[:, i]\u001b[38;5;241m/\u001b[39mnp\u001b[38;5;241m.\u001b[39mlinalg\u001b[38;5;241m.\u001b[39mnorm(W_est[:, i])\n\u001b[1;32m      9\u001b[0m weight[i] \u001b[38;5;241m=\u001b[39m W_est[:,i]\u001b[38;5;241m.\u001b[39mT \u001b[38;5;241m@\u001b[39m H_iM \u001b[38;5;241m@\u001b[39m Lambda_X_est[:, i]\n\u001b[0;32m---> 11\u001b[0m update_magnitude[\u001b[38;5;241m0\u001b[39m] \u001b[38;5;241m+\u001b[39m\u001b[38;5;241m=\u001b[39m (np\u001b[38;5;241m.\u001b[39mlinalg\u001b[38;5;241m.\u001b[39mnorm(Lambda_X_est[:, i] \u001b[38;5;241m-\u001b[39m Lambda_X_pre[:, i])) \u001b[38;5;241m*\u001b[39m\u001b[38;5;241m*\u001b[39m \u001b[38;5;241m2\u001b[39m\n\u001b[1;32m     12\u001b[0m update_magnitude[\u001b[38;5;241m1\u001b[39m] \u001b[38;5;241m+\u001b[39m\u001b[38;5;241m=\u001b[39m (np\u001b[38;5;241m.\u001b[39mlinalg\u001b[38;5;241m.\u001b[39mnorm(W_est[:, i] \u001b[38;5;241m-\u001b[39m W_pre[:, i])) \u001b[38;5;241m*\u001b[39m\u001b[38;5;241m*\u001b[39m \u001b[38;5;241m2\u001b[39m\n",
      "\u001b[0;31mNameError\u001b[0m: name 'Lambda_X_pre' is not defined"
     ]
    }
   ],
   "source": [
    "H_iM = Lambda_gamma_est[N_Y:, i].reshape((K, N_X), order = 'F')\n",
    "            \n",
    "Lambda_X_est[:, i] = W_est[:,i].T@H_iM\n",
    "Lambda_X_est[:, i] = Lambda_X_est[:, i]/np.linalg.norm(Lambda_X_est[:, i])\n",
    "\n",
    "W_est[:, i] = H_iM @ Lambda_X_est[:, i]\n",
    "W_est[:, i] = W_est[:, i]/np.linalg.norm(W_est[:, i])\n",
    "\n",
    "weight[i] = W_est[:,i].T @ H_iM @ Lambda_X_est[:, i]\n",
    "\n",
    "update_magnitude[0] += (np.linalg.norm(Lambda_X_est[:, i] - Lambda_X_pre[:, i])) ** 2\n",
    "update_magnitude[1] += (np.linalg.norm(W_est[:, i] - W_pre[:, i])) ** 2 "
   ]
  },
  {
   "cell_type": "code",
   "execution_count": 92,
   "id": "d0f781f5",
   "metadata": {},
   "outputs": [],
   "source": [
    "H_iM = Lambda_gamma_est[N_Y:, i].reshape((K, N_X), order = 'F')"
   ]
  },
  {
   "cell_type": "code",
   "execution_count": 95,
   "id": "bd311911",
   "metadata": {},
   "outputs": [
    {
     "data": {
      "text/plain": [
       "(10, 5)"
      ]
     },
     "execution_count": 95,
     "metadata": {},
     "output_type": "execute_result"
    }
   ],
   "source": [
    "W_est.shape"
   ]
  },
  {
   "cell_type": "code",
   "execution_count": 72,
   "id": "02c03d6b",
   "metadata": {},
   "outputs": [],
   "source": [
    "FT = Z @ Lambda_gamma_est @ np.linalg.inv(Lambda_gamma_est.T@Lambda_gamma_est)"
   ]
  },
  {
   "cell_type": "code",
   "execution_count": 74,
   "id": "6429173e",
   "metadata": {},
   "outputs": [
    {
     "data": {
      "text/plain": [
       "(200, 5)"
      ]
     },
     "execution_count": 74,
     "metadata": {},
     "output_type": "execute_result"
    }
   ],
   "source": [
    "FT.shape"
   ]
  },
  {
   "cell_type": "code",
   "execution_count": 79,
   "id": "18fdb54e",
   "metadata": {},
   "outputs": [
    {
     "data": {
      "text/plain": [
       "(200, 10)"
      ]
     },
     "execution_count": 79,
     "metadata": {},
     "output_type": "execute_result"
    }
   ],
   "source": [
    "Y[:,0,:].shape"
   ]
  },
  {
   "cell_type": "code",
   "execution_count": 113,
   "id": "570e01c9",
   "metadata": {},
   "outputs": [
    {
     "data": {
      "text/plain": [
       "(array([[-0.1364685 , -0.16318829,  0.11415521,  0.08404347, -0.10844232],\n",
       "        [ 0.17087225,  0.00872566,  0.09706815, -0.00505272, -0.15996465],\n",
       "        [ 0.16956306,  0.01890591, -0.036666  , -0.02202991,  0.16468834],\n",
       "        [ 0.0955053 ,  0.04215212, -0.07879528, -0.04145176,  0.09842681],\n",
       "        [-0.21813817,  0.01078633, -0.04044547,  0.04455297, -0.14943887],\n",
       "        [ 0.10925197, -0.04017854, -0.03663028, -0.02208812,  0.10638966],\n",
       "        [ 0.10890263, -0.02076401, -0.02292574,  0.00795942,  0.0711252 ],\n",
       "        [-0.12977236,  0.04458631, -0.09038888,  0.01657362,  0.09834004],\n",
       "        [-0.02720414,  0.0798415 , -0.12473573, -0.05967676,  0.05351509],\n",
       "        [-0.0472968 ,  0.09561828, -0.03338005,  0.00503564, -0.11127374],\n",
       "        [-0.04366289, -0.00382938,  0.00296131,  0.10233754,  0.18780578],\n",
       "        [ 0.08059652, -0.06393192, -0.17043457, -0.02542392,  0.09671181],\n",
       "        [ 0.0118254 , -0.01280414,  0.1280536 , -0.11720273, -0.12747919],\n",
       "        [ 0.05689877, -0.04204623, -0.07673726, -0.02898957, -0.17433984],\n",
       "        [-0.03161904, -0.11180277, -0.17883681, -0.14008685, -0.00011373],\n",
       "        [ 0.03109996, -0.08134511, -0.00032609, -0.08580148, -0.14492584],\n",
       "        [ 0.01920672, -0.09362661,  0.01643934, -0.1647881 , -0.11551447],\n",
       "        [-0.10740394,  0.08597672,  0.2382158 , -0.09230458, -0.03796995],\n",
       "        [ 0.01086592, -0.0275548 , -0.06657901, -0.07624496, -0.13295964],\n",
       "        [-0.02545825, -0.02921829, -0.04702221, -0.19892124,  0.022632  ],\n",
       "        [-0.05479709,  0.33325302, -0.03450481, -0.17254632,  0.01841884],\n",
       "        [-0.03245572, -0.02835785, -0.13720979, -0.08696354, -0.01068296],\n",
       "        [-0.03474515,  0.08379916, -0.0716026 ,  0.13669587, -0.04294634],\n",
       "        [ 0.02573848, -0.14517467, -0.07199912,  0.0160878 , -0.06845692],\n",
       "        [ 0.15267052, -0.21951855, -0.09491752,  0.05302588, -0.01431899],\n",
       "        [-0.00778341,  0.06017308, -0.14236729,  0.04072489, -0.08096853],\n",
       "        [ 0.00380233,  0.04100132, -0.17703072,  0.09718247, -0.07832833],\n",
       "        [ 0.05270836, -0.00270392,  0.15367926,  0.23682584,  0.06966738],\n",
       "        [ 0.08796641, -0.26693062,  0.00689202,  0.08070341, -0.0233838 ],\n",
       "        [ 0.09875228, -0.22574426,  0.00588951,  0.19447633,  0.050644  ],\n",
       "        [ 0.06766836,  0.05694224,  0.15082366, -0.00131668, -0.11464052],\n",
       "        [-0.06632121, -0.07770853, -0.02101828,  0.00595501, -0.20864693],\n",
       "        [-0.07091484, -0.01774606, -0.09189651,  0.02441816,  0.15575485],\n",
       "        [-0.02120653, -0.07116767, -0.15685232, -0.04354038,  0.07253245],\n",
       "        [ 0.14323771, -0.03312373, -0.06600821, -0.0309157 , -0.17852825],\n",
       "        [-0.02352499, -0.0623707 , -0.13035681, -0.00584912,  0.07427718],\n",
       "        [-0.01945973, -0.04870934, -0.12110548,  0.01292691,  0.04023208],\n",
       "        [ 0.03700497,  0.09436615,  0.05088408,  0.04824745,  0.18101618],\n",
       "        [ 0.0363834 , -0.03828805, -0.11602402, -0.0357158 ,  0.05591143],\n",
       "        [ 0.03429167, -0.00237541, -0.01812242,  0.0453349 , -0.10265374],\n",
       "        [-0.06028329, -0.09762773,  0.0679847 , -0.12344961,  0.07349499],\n",
       "        [ 0.03389705, -0.0276784 ,  0.01205148, -0.07885567,  0.05746857],\n",
       "        [ 0.08353021,  0.04147888, -0.05047372,  0.22761603, -0.05534643],\n",
       "        [ 0.02463348,  0.03116752,  0.01058062,  0.02508903, -0.0554451 ],\n",
       "        [-0.0375078 ,  0.03022221, -0.1014851 ,  0.10151686,  0.0338752 ],\n",
       "        [ 0.04737631,  0.0024038 , -0.0173786 ,  0.15156588, -0.03205802],\n",
       "        [ 0.07275961,  0.03641427, -0.08072426,  0.25038032, -0.01808286],\n",
       "        [ 0.00251203,  0.05983358, -0.09862132,  0.25457664, -0.04380608],\n",
       "        [ 0.00005102,  0.06190961, -0.04052485,  0.05949827, -0.05370374],\n",
       "        [ 0.02754571,  0.08546288, -0.13443738,  0.22253941,  0.0260271 ],\n",
       "        [ 0.18678971, -0.07509809,  0.21345122,  0.07309928,  0.06123698],\n",
       "        [-0.11875425, -0.16203273, -0.10980022,  0.01574083, -0.08801498],\n",
       "        [-0.15405686, -0.08210934, -0.01669834,  0.01614725,  0.01219464],\n",
       "        [-0.06865427, -0.05895465, -0.17047878, -0.04994374, -0.06287052],\n",
       "        [ 0.23555606,  0.03438485, -0.18042296, -0.13200288, -0.13484219],\n",
       "        [-0.05506806, -0.15772429, -0.08939814, -0.00448768, -0.02936144],\n",
       "        [-0.05848267, -0.129727  , -0.07922506, -0.02937805, -0.01570909],\n",
       "        [ 0.03715325,  0.21077952,  0.1417847 , -0.01234164,  0.0865716 ],\n",
       "        [ 0.02028136,  0.0615703 , -0.18411953, -0.09541895, -0.07813245],\n",
       "        [ 0.00848116,  0.1158216 , -0.11130335, -0.08881193, -0.0770192 ],\n",
       "        [-0.10596083,  0.08026193,  0.03443637,  0.06885983, -0.06658502],\n",
       "        [ 0.1007067 , -0.00358475, -0.04939637, -0.00228054, -0.11599325],\n",
       "        [ 0.07240698,  0.01957218,  0.00083133, -0.09581954,  0.08078705],\n",
       "        [ 0.08084165, -0.06599526, -0.09352506, -0.0485957 ,  0.02118957],\n",
       "        [-0.08046704, -0.13596449, -0.08367772, -0.02356555, -0.0990469 ],\n",
       "        [ 0.06134578, -0.01134105, -0.0691146 , -0.07188908,  0.01447123],\n",
       "        [ 0.05077996, -0.02228299, -0.04195134, -0.10945352,  0.00470777],\n",
       "        [-0.09961902,  0.00176027,  0.10075134, -0.03861054,  0.11978019],\n",
       "        [ 0.01231433, -0.10000192, -0.06092212, -0.03415176,  0.00559015],\n",
       "        [-0.0116566 , -0.083014  ,  0.04328671, -0.04221695, -0.05052058],\n",
       "        [-0.12559551,  0.14563197, -0.01473218,  0.03373901, -0.18531716],\n",
       "        [ 0.085288  ,  0.05725307,  0.05150495,  0.02445177, -0.16656347],\n",
       "        [ 0.07184557,  0.03647   , -0.04513336, -0.11316694,  0.15480879],\n",
       "        [ 0.06481513, -0.04118491, -0.04463487, -0.03258744,  0.11755559],\n",
       "        [-0.09569959, -0.1127226 ,  0.04758724,  0.02728048, -0.11575567],\n",
       "        [ 0.03827271,  0.04675948, -0.06396207, -0.09312761,  0.09735137],\n",
       "        [ 0.02534527,  0.02859876, -0.01397933, -0.1126873 ,  0.06514699],\n",
       "        [-0.0641234 , -0.08875329,  0.02565586, -0.05637497,  0.14258372],\n",
       "        [ 0.02326637, -0.11325322,  0.00162708, -0.01022082,  0.11848674],\n",
       "        [-0.00697784, -0.13731396,  0.10367737, -0.00978839, -0.07091648],\n",
       "        [-0.06354647,  0.05697011, -0.09444297,  0.06890009,  0.08723127],\n",
       "        [ 0.07547124,  0.00449235, -0.08242306, -0.00210526,  0.07412053],\n",
       "        [ 0.03839772,  0.00372152,  0.10000828, -0.14311138, -0.10678377],\n",
       "        [ 0.04119291, -0.03064946,  0.01989031, -0.02626602, -0.09245282],\n",
       "        [-0.08278794, -0.09263181, -0.05841909, -0.08377747,  0.06258186],\n",
       "        [ 0.01807437,  0.00611262,  0.02996435, -0.08715799, -0.07926238],\n",
       "        [ 0.0138151 , -0.02754322,  0.04491663, -0.17353722, -0.05878528],\n",
       "        [-0.08892393, -0.04155524,  0.12768386, -0.11093556, -0.05173705],\n",
       "        [ 0.00120232, -0.07325658,  0.03474891, -0.01878103, -0.06034666],\n",
       "        [-0.02955047, -0.09579561,  0.05398188, -0.15163044,  0.05413054],\n",
       "        [-0.2053381 , -0.09366195,  0.06566472, -0.01118919,  0.11132591],\n",
       "        [ 0.20920554, -0.01924737, -0.04500055, -0.09549808,  0.04978273],\n",
       "        [ 0.21069061,  0.05295906,  0.02297921,  0.09058203, -0.0363383 ],\n",
       "        [ 0.13567001,  0.00221505, -0.04894565, -0.01108501, -0.09051868],\n",
       "        [-0.21050865, -0.08732277, -0.22044002,  0.0424447 , -0.01764582],\n",
       "        [ 0.15615741, -0.01424132, -0.03652606,  0.0420406 , -0.06683327],\n",
       "        [ 0.15628535, -0.00769923, -0.06085081,  0.09867388, -0.04324717],\n",
       "        [-0.15343057,  0.08291791,  0.02500927,  0.18215933, -0.00080746],\n",
       "        [-0.00614191,  0.00927158, -0.0985235 , -0.00481815, -0.08235487],\n",
       "        [-0.02001012,  0.05231254, -0.14220394,  0.09059379,  0.0152423 ],\n",
       "        [ 0.2325316 ,  0.02804513,  0.06596147,  0.09658167,  0.09645756],\n",
       "        [-0.05656307,  0.13502023,  0.07238961,  0.06133976,  0.06607979],\n",
       "        [ 0.0663863 ,  0.10228347, -0.10450333, -0.18167116,  0.20689083],\n",
       "        [-0.17688456, -0.12651748,  0.11968555,  0.03914387,  0.08351951],\n",
       "        [-0.06764544,  0.07725833,  0.01037863,  0.08454064, -0.01784333],\n",
       "        [-0.07341187, -0.24209768,  0.05314795,  0.03489455,  0.12400098],\n",
       "        [-0.08176795,  0.2471708 , -0.01405015, -0.12350836, -0.15698733],\n",
       "        [ 0.0620577 , -0.06752787,  0.02792842,  0.03700025,  0.03776482],\n",
       "        [-0.16776174,  0.11057392, -0.25499949,  0.06939206,  0.04923236],\n",
       "        [ 0.0544306 , -0.08116193,  0.0252114 ,  0.05929457, -0.14271918]]),\n",
       " array([[-0.1691296 ,  0.05152119,  0.39990826, -0.38435381, -0.43756793],\n",
       "        [ 0.10134457,  0.76349035,  0.34053612,  0.43545042, -0.09261571],\n",
       "        [ 0.22344208,  0.05809181,  0.37796539,  0.047251  ,  0.50614913],\n",
       "        [-0.15469049, -0.1989128 ,  0.13169109,  0.60139132, -0.19340237],\n",
       "        [ 0.44909513, -0.29872803,  0.60527294, -0.13397351,  0.05795998],\n",
       "        [-0.29559532,  0.27043167,  0.25052929, -0.19720265,  0.25479576],\n",
       "        [-0.27421533,  0.39151475, -0.02715519, -0.18129144,  0.52757755],\n",
       "        [-0.20103736,  0.21997727,  0.03190209, -0.35769047, -0.30338625],\n",
       "        [-0.64745532, -0.0791807 ,  0.36075082,  0.26727593, -0.20248121],\n",
       "        [ 0.25178853,  0.03423434,  0.05377351, -0.09832409,  0.16341683]]),\n",
       " array([ 0.44111973, -0.88623158,  0.50785274, -0.31895675, -0.30846488,\n",
       "         0.15787863,  0.20326454,  1.02868502, -0.27519384, -0.19666227]),\n",
       " array([[  2.67978717,   2.66857857,  -0.30458196,  -2.1344821 ,\n",
       "          11.1828853 ],\n",
       "        [ -3.66905182,  10.61086664, -18.65305992, -10.73674963,\n",
       "          22.67617424],\n",
       "        [  8.10579069,  26.26733485,  11.20435729,  13.32566036,\n",
       "         -22.49524464],\n",
       "        [ -3.39664991, -23.65632389,  -1.20754763,  13.72437462,\n",
       "           2.96122275],\n",
       "        [-28.63601979,   9.58059122,  -5.03333365,  13.86256064,\n",
       "          -1.10238231],\n",
       "        [ -7.42869993,   9.04624248, -10.35308443,  20.48204495,\n",
       "          -6.3545428 ],\n",
       "        [ -7.71267732,   6.46657001, -14.69072805,  -7.64483107,\n",
       "          10.89347616],\n",
       "        [  2.08941905,  -4.06376833,  11.96033927,   6.14704731,\n",
       "           5.31571839],\n",
       "        [ 11.43584461,  16.04403182,  -8.17619545,  -6.14211701,\n",
       "          -0.06084161],\n",
       "        [ 12.30243376,  20.736933  ,   8.43918464,   0.04084221,\n",
       "          -8.93026017],\n",
       "        [ 15.327414  ,  11.18842405,   0.56060423,  -3.20973838,\n",
       "          -4.63076097],\n",
       "        [-11.74049249,  -4.85353759,  13.11606579,   0.19925309,\n",
       "          20.27967129],\n",
       "        [-30.84501473,  13.73015492,   1.43664732,   5.84854198,\n",
       "          -1.2189115 ],\n",
       "        [-37.87780567,  -1.64418599, -26.96934856,  13.33608481,\n",
       "           1.52836682],\n",
       "        [  1.74389874, -14.25656252,   0.20310412,  10.69297843,\n",
       "          -3.24955333],\n",
       "        [ -7.04580303,  -9.48783988,   7.93978513,   3.88340494,\n",
       "          -0.95806304],\n",
       "        [ -7.17226849,  12.60454277,  -3.2996332 ,  -2.42935821,\n",
       "           8.39625595],\n",
       "        [ -0.41902674, -10.67401906,  -3.54057974, -14.76056325,\n",
       "          -6.49940833],\n",
       "        [ -7.01508456, -25.94822775,  14.51812394,  -5.13825208,\n",
       "           0.90531179],\n",
       "        [ -9.27241465,   1.7634184 ,  -5.32344866,   4.96414979,\n",
       "         -10.93365925],\n",
       "        [ -6.10505395,  -8.04289953,  -4.91075721,  -5.52783043,\n",
       "          -8.43084166],\n",
       "        [  4.22160543,   9.81435881,   5.46513714,  -2.82003449,\n",
       "         -11.40488476],\n",
       "        [ -4.75267464,   7.87669171,  -4.59032624,  15.98171674,\n",
       "          -6.56910964],\n",
       "        [ 11.07026585,  21.70996151,   7.51750581, -11.22111748,\n",
       "          -0.92340197],\n",
       "        [ 10.71160245,  -4.43778244,  -6.12680055,   0.47908033,\n",
       "         -11.9241182 ],\n",
       "        [ 12.85172302,  -9.58468954,  12.02641417,   4.08769536,\n",
       "           0.91401564],\n",
       "        [  5.05105376,  -5.50924756,  -6.05520488,  13.63662287,\n",
       "           8.73602582],\n",
       "        [  1.90728122,  10.80466167,  10.86287754,  -3.65720675,\n",
       "           7.58967254],\n",
       "        [  4.8455613 ,  25.79314743,  -5.61581054, -15.1532141 ,\n",
       "          18.31544821],\n",
       "        [ 11.50235288,  10.31989009,  14.8309152 ,  -0.66597909,\n",
       "           6.28650971],\n",
       "        [-14.09402923,  -1.34456572,   4.57698446,  -0.66538335,\n",
       "         -15.1223432 ],\n",
       "        [ -4.6890856 ,  -0.03196819,  -3.15513181,   8.12011711,\n",
       "           9.20992612],\n",
       "        [-23.31784506, -23.84843402,  -9.55656979,  12.01475789,\n",
       "          10.53952287],\n",
       "        [  2.69005405,  -5.16888806,  -6.89028982,  -0.96294795,\n",
       "          18.00674847],\n",
       "        [ -7.50737668,  -5.22907527,  -9.64502532,   9.90260045,\n",
       "         -20.82499997],\n",
       "        [  1.25916822,   4.72437415,  -4.70768122,   9.15445631,\n",
       "         -12.57338248],\n",
       "        [ 15.7647081 ,  -3.64191431,  -4.13153062, -11.07623727,\n",
       "         -13.28689338],\n",
       "        [ 16.70731459,   0.76364172,   6.45376558,   0.03292183,\n",
       "          -7.81851045],\n",
       "        [ 16.14519907,   0.87518175,   3.4668009 , -16.30977629,\n",
       "         -19.16804561],\n",
       "        [  8.96308997,  28.99797599, -16.06990348,  -5.73283751,\n",
       "         -10.39402546],\n",
       "        [ 15.18363254, -12.28566103,  -2.87351617,  13.95208063,\n",
       "           9.47312415],\n",
       "        [  7.45160791,  -4.27461063,   1.83001399, -10.77478893,\n",
       "          10.85674758],\n",
       "        [ -1.51695415,  -5.48991763,  -3.82884173,  -3.24431977,\n",
       "         -10.92457928],\n",
       "        [ -5.93998855, -15.27390813,   7.5424531 ,  18.10863581,\n",
       "          -7.33257423],\n",
       "        [-14.50133813, -24.23574025,  -5.40211123,  -2.37753048,\n",
       "          -2.4172232 ],\n",
       "        [ -1.12421134,  -0.2514285 ,  -4.64576155,  -4.60090606,\n",
       "           4.76008569],\n",
       "        [-21.83036   ,  -2.77215113,  18.46307759, -14.47688545,\n",
       "          -6.50719938],\n",
       "        [-21.31853191,   3.10643444,   5.21130962, -25.4613043 ,\n",
       "          -9.45085129],\n",
       "        [-22.10621641,  -5.61811528,  -8.97858516,  -8.85913681,\n",
       "          10.80938456],\n",
       "        [-13.21930952,   4.94293682,  -9.63076989, -11.74715664,\n",
       "          -7.88350843],\n",
       "        [ 11.74297259,   6.46321073,  -1.25395324, -13.03313331,\n",
       "           5.1003107 ],\n",
       "        [ 11.60769541,   0.01757454,  -3.35235518,  -0.14592418,\n",
       "           7.17981325],\n",
       "        [ -6.09063403,   5.69594837,  13.08880854, -14.79227289,\n",
       "           7.93013985],\n",
       "        [ -3.71276856,  -3.36386052,   5.44008063,   6.78335493,\n",
       "          17.35471664],\n",
       "        [ -9.26372472,   3.64167682,   1.57709999,   7.18642698,\n",
       "           3.72500994],\n",
       "        [-29.51217052,   7.9304693 , -16.19216065,  19.59573815,\n",
       "          10.13534158],\n",
       "        [-16.65512504,   9.05309104,   8.03135714,   0.34429284,\n",
       "           4.68808171],\n",
       "        [-26.30497196,  11.06673468,   2.35934407,   1.1499813 ,\n",
       "          14.61997488],\n",
       "        [  1.71122258,   6.99415313,  28.71418166,   1.75703406,\n",
       "         -19.43194876],\n",
       "        [-20.63479828,   2.53150853,  -4.82121911,   6.65001964,\n",
       "         -17.82089222],\n",
       "        [  2.95861142,  -8.50347129,  -6.13809622,  10.33806081,\n",
       "           0.28067281],\n",
       "        [  1.52290443, -22.08366703,  -6.76424635,   1.01755821,\n",
       "           6.62618686],\n",
       "        [ 15.88498299,   2.68656961, -14.78176468,  13.01624617,\n",
       "           5.60015575],\n",
       "        [ 25.93926251, -10.48565026,   4.68000439,  -1.06297961,\n",
       "           9.04828628],\n",
       "        [ 32.96545926,   2.68880147,   9.55163294,  -6.0020669 ,\n",
       "          -0.67736899],\n",
       "        [  9.80930977,  -0.4074875 ,  -0.42314927,   3.79210231,\n",
       "         -14.94308222],\n",
       "        [ 24.08835368,  17.39356518,   2.17096479,  -1.72944563,\n",
       "           0.15587808],\n",
       "        [ 34.86188184,   9.45311643, -13.90574249,   9.84376701,\n",
       "           6.69164572],\n",
       "        [ 35.15376912, -19.46410341,   5.38487869,   8.6550366 ,\n",
       "          14.8765892 ],\n",
       "        [ 22.81045188,   0.49447195, -14.15169595, -11.74727145,\n",
       "          -9.35747684],\n",
       "        [  5.51004016,  41.24690222, -18.01628082,   1.12217993,\n",
       "           5.76850272],\n",
       "        [ 21.20239092,  -2.79971093,   3.15608035,  20.66525114,\n",
       "          21.67899986],\n",
       "        [  3.81951704,   4.01080391,  13.60203941,  29.18281895,\n",
       "           5.59247772],\n",
       "        [  1.94561726,  -2.45162919, -14.74108023,  37.74063272,\n",
       "          22.51769005],\n",
       "        [-11.49360982,  10.82987181,   1.90873412,   3.83462325,\n",
       "         -13.9961066 ],\n",
       "        [  1.03729056,   3.50141964, -17.16935618,   0.53271928,\n",
       "         -12.65936236],\n",
       "        [  8.23129603,   7.59206906,   5.46180594,  -2.26252886,\n",
       "           8.73283801],\n",
       "        [ -0.08056824,   2.20329227,  20.44739402,   7.25077533,\n",
       "         -20.33693443],\n",
       "        [ -8.48507697,  12.00856523,   0.73661726,  18.29566073,\n",
       "          -4.67513628],\n",
       "        [ -6.6816151 , -16.74985429,   1.60038096,  18.83362363,\n",
       "          12.10206248],\n",
       "        [ 12.3342327 ,  25.58259914,   2.6283716 ,   8.72380783,\n",
       "          14.00739329],\n",
       "        [ 16.37100839,  -2.39315624,  -1.76562637,  -5.82548955,\n",
       "          -4.43049873],\n",
       "        [ -5.21674367,  -0.44387085,  -5.35602184,   0.90313171,\n",
       "         -17.89320357],\n",
       "        [-10.85538699,   1.57103069, -12.86099549,  10.84226076,\n",
       "           5.92366597],\n",
       "        [ -3.14077253,   0.49516288,  -6.45135041,  13.89352735,\n",
       "          -5.08552358],\n",
       "        [-16.41042306,  17.41262771,  -3.79494505,  14.72776553,\n",
       "          -9.70061946],\n",
       "        [  2.27619483,   5.96891269,  19.74939374,   7.18568992,\n",
       "           6.74250446],\n",
       "        [ 18.64604762,  -7.32709879,   8.61139431,  13.81412266,\n",
       "          -4.13136359],\n",
       "        [-24.87871369,   0.74621664, -10.62102316, -10.19883121,\n",
       "           3.29387327],\n",
       "        [-15.72206598,  -9.53219564,   0.36413776,  -0.24780464,\n",
       "           5.63264443],\n",
       "        [-23.40152277, -14.72542664, -19.56163472, -28.19678584,\n",
       "          -3.85252815],\n",
       "        [ -4.79637161, -16.5093897 , -12.7429863 ,  -8.78725573,\n",
       "         -22.14558427],\n",
       "        [ -4.93064646, -30.20694278,   7.44255663,  -0.52832978,\n",
       "           3.33938757],\n",
       "        [  7.01305131,   0.70138221, -27.94691286,  -3.32762159,\n",
       "          -8.0538072 ],\n",
       "        [ 22.19905407, -17.99894815, -10.401502  ,  -9.52679959,\n",
       "          -2.06635536],\n",
       "        [ 27.24503335,  -1.00974259,  10.64445656,  -4.45459986,\n",
       "          -9.34400984],\n",
       "        [  4.71912762,   7.88853711, -10.10016912,   3.93317393,\n",
       "          -1.97453393],\n",
       "        [  9.22162391,  -6.28475379,  10.40320907,  24.54619219,\n",
       "         -22.53944779],\n",
       "        [ -8.8629571 ,  -4.84511907,  -9.13148214,  -5.18306365,\n",
       "           2.76956679],\n",
       "        [ 13.32962322,   8.791961  ,   0.89616213,  25.26612664,\n",
       "          -0.35241262],\n",
       "        [ 12.84308308,   2.44454899, -12.26550623,  13.44050428,\n",
       "           9.42771112],\n",
       "        [  5.78080155,  16.75830752,  -5.33911438,  -5.41691678,\n",
       "          -5.18523673],\n",
       "        [ 29.00238277, -11.0370617 ,  -1.67804981,   1.14505229,\n",
       "         -24.46716379],\n",
       "        [  8.8026392 ,   7.24920918,  -3.51381111,   1.91331944,\n",
       "          11.90375791],\n",
       "        [  2.71867788,  17.23551383, -16.05248329,  -5.26921805,\n",
       "          -3.65088102],\n",
       "        [ 29.65990429,  -9.47589872,  -3.87929919,   9.58850268,\n",
       "         -10.82670495],\n",
       "        [ 41.92604554,  15.75263083,  -7.82330509,  15.72895153,\n",
       "           1.24364697],\n",
       "        [  7.44268687,  24.7330512 ,  -0.55275789,   0.09557838,\n",
       "          14.41870459],\n",
       "        [  4.11691892,   1.94472494,   7.66473625,  -8.7524585 ,\n",
       "           5.78336916],\n",
       "        [ -3.20053733,   6.17915269,  -8.63566261,  -1.47522249,\n",
       "         -11.57497794],\n",
       "        [ -8.55949705, -27.19113461, -14.48739996, -13.61276724,\n",
       "          17.25176117],\n",
       "        [ -2.76811614,  -5.8312647 ,   0.52922399, -21.04511475,\n",
       "          -7.59160236],\n",
       "        [ 10.05226448,  -7.73959429,  -0.74155584,   6.41725447,\n",
       "          -3.21762041],\n",
       "        [  9.90673255, -16.25386021,  -5.66508206, -27.54193144,\n",
       "          -4.30835027],\n",
       "        [ 12.16155981,   4.05199083,  -6.67649689,  -7.72073768,\n",
       "          -2.11540446],\n",
       "        [  2.51652596,  -1.40238772,  15.86472456,   0.02333026,\n",
       "          -2.11579865],\n",
       "        [-10.81687245,  -5.79970099,  18.87463611,   4.45027399,\n",
       "           8.71957011],\n",
       "        [-14.28274561, -10.38658168, -13.27886233,  -3.13659194,\n",
       "           9.24902332],\n",
       "        [-27.02567714, -11.56810737, -16.20695442,  -5.21758404,\n",
       "         -11.39009758],\n",
       "        [  3.89387965,  -9.07793006, -13.63595138,   9.7566913 ,\n",
       "         -19.7993538 ],\n",
       "        [ 20.35850745, -15.83502625, -12.59138074, -25.13354948,\n",
       "         -10.08662428],\n",
       "        [ 17.62995203, -10.0164714 ,  -2.75421607, -18.42760953,\n",
       "           5.93693106],\n",
       "        [ 15.99414799,   2.99834876,  -3.45158857,   4.59533463,\n",
       "          -4.47607586],\n",
       "        [  1.71393078,  13.60915797,  12.78851366,   3.95810368,\n",
       "          -4.16745691],\n",
       "        [  4.76010146,   1.31177723,  21.27588537,   2.81380706,\n",
       "           2.73246303],\n",
       "        [-10.09777336,  25.34746445,   3.13306299, -26.47569289,\n",
       "           2.24601504],\n",
       "        [  3.4179625 ,   0.82188861,  -9.15851408,  -1.89205611,\n",
       "           5.16980365],\n",
       "        [ -4.5511032 , -15.55729631, -21.75556868,   1.7921225 ,\n",
       "          -7.63895354],\n",
       "        [ -5.90497565,   7.86075221, -11.66294839,  25.22288781,\n",
       "          -5.16739567],\n",
       "        [ -2.91873508, -11.15535397,   5.87687223,   3.77608102,\n",
       "          -2.46666913],\n",
       "        [ 15.04397369, -14.65799453, -26.87346554,  26.38559085,\n",
       "          -8.51199097],\n",
       "        [ 10.87059834,  10.47020933, -16.31085428,  16.78277159,\n",
       "         -13.16742163],\n",
       "        [ -2.46494842,   2.96299719,   4.61499301,   6.46293491,\n",
       "          -8.71688149],\n",
       "        [ 16.00153507,   6.22255297,  -2.70316196,   9.82782329,\n",
       "           9.94772797],\n",
       "        [ -0.2658873 ,  14.50250468,  -7.72587799,   2.00914174,\n",
       "          -0.87389068],\n",
       "        [ -4.74878366,   1.97812788, -16.61914215,  -6.86206522,\n",
       "           6.55437025],\n",
       "        [-13.05332176,   6.4643651 ,   5.8885688 ,   7.08740161,\n",
       "          -4.0313082 ],\n",
       "        [-22.13902705,  11.40242111,  14.41690484,   5.8449489 ,\n",
       "           6.74975594],\n",
       "        [  5.3768999 ,  -0.37482249,  -0.10957308,  -3.76153771,\n",
       "          -8.50019252],\n",
       "        [-16.73604603,   7.6106856 ,  -1.50857297,  -9.52754062,\n",
       "         -15.32249482],\n",
       "        [-21.75529772,  -5.84190585,  30.62760071,  15.63634527,\n",
       "          -5.12717565],\n",
       "        [ -6.12099166,   8.98651925,  11.47908858,  -4.0680828 ,\n",
       "          -1.355968  ],\n",
       "        [ -8.46881446,  14.91770289,   7.3009794 ,   3.96856238,\n",
       "           5.64660077],\n",
       "        [  1.39485645,   8.26607775, -17.818458  , -10.49366582,\n",
       "          -2.44244492],\n",
       "        [ 20.14670063,   8.18967248,  -1.20897055,  -2.1160464 ,\n",
       "          -8.28223112],\n",
       "        [ 15.28902483,   1.39206913,  -2.45875182,  13.65664656,\n",
       "           0.31412376],\n",
       "        [ -9.86860363,  -0.87252139,  -1.89876992,   9.90950824,\n",
       "          -5.0952156 ],\n",
       "        [-15.79994586,   0.31092683,   6.78544983, -10.65682526,\n",
       "          -2.68814799],\n",
       "        [-15.15001338,  20.39279463,  19.76403623,  -2.42537101,\n",
       "          18.72439045],\n",
       "        [-41.96129212,   8.22265455,  22.14072751,  -5.30724432,\n",
       "         -13.54402715],\n",
       "        [-29.70553226,  18.03576512,   7.56491229,   5.09590828,\n",
       "          -3.20403496],\n",
       "        [-25.75931448, -16.91684046,  21.4914209 ,  27.99457207,\n",
       "          -8.27130191],\n",
       "        [-36.9359885 ,  -0.02816982,   5.60498977,  -4.24403037,\n",
       "          11.8285413 ],\n",
       "        [-25.1037045 ,   3.2398047 ,  -0.95162623,   7.92418937,\n",
       "           5.22737007],\n",
       "        [  4.74783968,   2.3465191 ,  -6.32997969, -14.51257491,\n",
       "          12.01551826],\n",
       "        [  1.22332865,   2.69018584,  -6.04060291,  -7.92077274,\n",
       "          -2.29798177],\n",
       "        [ -6.45184657,  18.5720099 , -18.4365969 ,   1.33823912,\n",
       "           5.52300725],\n",
       "        [  0.3676866 ,   6.40751427,  14.80207276,   1.24935338,\n",
       "           4.96991323],\n",
       "        [-17.13312899, -10.04015827,  21.27114664, -11.12125633,\n",
       "         -11.02309155],\n",
       "        [ 24.67968431,   7.71542916,  -7.68311656, -15.37762044,\n",
       "          12.5988629 ],\n",
       "        [ 24.76716846,  13.37507462,   2.81637951, -10.60289797,\n",
       "          -7.30223709],\n",
       "        [ 13.95852871,   6.99610504,  -7.89150624,  -8.77652823,\n",
       "           8.14296736],\n",
       "        [  5.37992824,   4.4516713 ,   2.56472584,  -9.25075728,\n",
       "          -3.57651316],\n",
       "        [-11.55201737,   9.04983508,   9.71782342, -17.10917776,\n",
       "           0.19289646],\n",
       "        [ 26.35185633,  15.08362682,   3.36992076,  -5.2821579 ,\n",
       "           2.65115435],\n",
       "        [ 12.3982444 ,  -7.86279953,  17.6489581 ,   4.39280688,\n",
       "         -11.63167606],\n",
       "        [ 18.73794448,  -3.50901665,  -2.99554372,  -0.43776904,\n",
       "          20.79135793],\n",
       "        [ 24.92877747,   1.19927747,  -2.4778226 ,  15.64341544,\n",
       "         -12.65352588],\n",
       "        [  3.86446518, -17.22438539,  -6.170551  ,  11.56482408,\n",
       "           2.70878823],\n",
       "        [  5.60667814,  17.29972972,  -3.40821279,  15.64392262,\n",
       "         -18.59397976],\n",
       "        [ -4.77986767,  22.73772035, -11.17851955,  11.75634178,\n",
       "          -2.1278337 ],\n",
       "        [  0.73936956, -11.82432576,   0.52503649,  -7.25311102,\n",
       "          10.4253603 ],\n",
       "        [ 11.86841284,  22.98978541,  10.0302459 , -12.74689283,\n",
       "          13.59389706],\n",
       "        [ -2.91117189,   4.64674723,  17.42960235,  -6.2432208 ,\n",
       "           1.52917842],\n",
       "        [ 12.42995906,   9.18029704,  29.43359027,  -3.56945142,\n",
       "          18.67790287],\n",
       "        [  3.10776006,  -4.40292121,  10.62080019,  -4.95763768,\n",
       "          -8.53807754],\n",
       "        [ -3.30347504,  -2.33117621,   3.95414149,  -8.81659098,\n",
       "          -7.38822751],\n",
       "        [  1.51322366,   1.837285  ,   2.20981551,   3.80502816,\n",
       "         -13.78756573],\n",
       "        [ -4.59757098, -25.36475238, -20.29360997,   4.75158313,\n",
       "          -4.51435674],\n",
       "        [ -8.32667634,   7.95376639,   4.46009433,  23.15386497,\n",
       "          -8.21774538],\n",
       "        [ -9.72799116,  -6.77853833,  20.9203163 ,   5.66988714,\n",
       "           4.78065293],\n",
       "        [  3.09176026,   4.39016349,  18.26788979, -16.68566401,\n",
       "         -20.51309745],\n",
       "        [  3.60857409,   1.70292909,  20.42690963,   0.20816317,\n",
       "          -2.14057415],\n",
       "        [ -9.55199377,   8.40133477,  -3.6112602 ,   1.14329637,\n",
       "          -7.34341696],\n",
       "        [ 11.76707912,  -3.14186425,  13.46210054,  -3.3239601 ,\n",
       "          -7.77837305],\n",
       "        [  2.63672333, -16.32490843,  12.03247603, -17.24542252,\n",
       "           9.88077964],\n",
       "        [ 32.80291265,  -2.38450051,   8.57581268,  12.16270425,\n",
       "          -6.64643711],\n",
       "        [  9.38980268,   1.95293346,  -8.34777809,  12.00850512,\n",
       "          -2.20879364],\n",
       "        [ 11.25912074,  -6.07769666, -11.37683075,  -2.09235329,\n",
       "           7.47596361],\n",
       "        [-16.55966614, -12.83431265, -33.62884825, -16.33754439,\n",
       "           6.40052801],\n",
       "        [-11.89218483,  -6.18522323, -16.89800414, -11.77563691,\n",
       "         -20.01637815],\n",
       "        [  7.98837266, -11.83582642,  11.71318229,   3.89507379,\n",
       "          21.05714737],\n",
       "        [ 11.80166644, -22.55799737,  26.7128143 , -17.84888522,\n",
       "           0.47095454],\n",
       "        [ 18.30439655,   7.26495506,  -7.05539027, -18.09824898,\n",
       "         -13.86118785],\n",
       "        [ 23.37453979, -23.69018982,  15.06400108,   0.82178916,\n",
       "           3.28356322],\n",
       "        [ 12.55043223, -13.8523513 ,  -6.51299773,   1.84661686,\n",
       "          -5.49375334],\n",
       "        [ -0.85268081,   7.55086723, -10.01333309,  -3.73541138,\n",
       "           0.72149826],\n",
       "        [ 14.47189421, -32.90661182,  18.25913173,   5.16812663,\n",
       "           0.44041259],\n",
       "        [ -4.95054979,   8.51430554,   9.8806535 ,   2.55756267,\n",
       "          -3.65023326],\n",
       "        [ -7.52126375,  25.93671757,   6.52447876,  -3.38612399,\n",
       "         -10.40203924]]))"
      ]
     },
     "execution_count": 113,
     "metadata": {},
     "output_type": "execute_result"
    }
   ],
   "source": [
    "TT_PCA(Y, X, 0.5, 5, Gamma_X_true, W_true, max_iter=1000)"
   ]
  },
  {
   "cell_type": "code",
   "execution_count": 27,
   "id": "a050e520",
   "metadata": {},
   "outputs": [],
   "source": [
    "T=100; burn=200;  r=5\n",
    "phi_G = np.random.rand(5)-0.5\n",
    "G = np.zeros((T+burn, r))\n",
    "for t in range(T + burn - 1):\n",
    "    noise = np.random.normal(loc=0.0, scale=1, size=r)\n",
    "    G[t+1, :] = np.einsum('..., ...->...', phi_G, G[t, :])+noise"
   ]
  },
  {
   "cell_type": "code",
   "execution_count": 28,
   "id": "ea5cf03d",
   "metadata": {},
   "outputs": [
    {
     "data": {
      "text/plain": [
       "array([[ 0.        ,  0.        ,  0.        ,  0.        ,  0.        ],\n",
       "       [-0.52315531,  1.01579957,  0.81209451, -1.03709308, -0.09220081],\n",
       "       [-0.35146406, -0.40808115,  0.82459533,  0.49831862, -1.0415702 ],\n",
       "       ...,\n",
       "       [-0.72337352,  0.15410455,  0.60447485,  0.42885571, -0.3673217 ],\n",
       "       [ 1.02961333,  0.45578494, -0.02101895, -1.11691091,  1.60418261],\n",
       "       [ 1.52048499, -1.61216531,  0.63766502,  0.21743877,  0.27842492]])"
      ]
     },
     "execution_count": 28,
     "metadata": {},
     "output_type": "execute_result"
    }
   ],
   "source": [
    "G"
   ]
  },
  {
   "cell_type": "code",
   "execution_count": 54,
   "id": "334f6ea8",
   "metadata": {},
   "outputs": [
    {
     "data": {
      "text/plain": [
       "(2,)"
      ]
     },
     "execution_count": 54,
     "metadata": {},
     "output_type": "execute_result"
    }
   ],
   "source": [
    "(np.arange(3)@a).shape"
   ]
  },
  {
   "cell_type": "code",
   "execution_count": 29,
   "id": "f52ec24f",
   "metadata": {},
   "outputs": [],
   "source": [
    "d,c = np.linalg.eig(b)"
   ]
  },
  {
   "cell_type": "code",
   "execution_count": 34,
   "id": "1d83ae28",
   "metadata": {},
   "outputs": [
    {
     "data": {
      "text/plain": [
       "array([[ 0.79996287,  0.        ],\n",
       "       [-0.54156021, -0.70710678],\n",
       "       [-0.25840266,  0.70710678]])"
      ]
     },
     "execution_count": 34,
     "metadata": {},
     "output_type": "execute_result"
    }
   ],
   "source": [
    "c[:, np.argsort(d).flip[:2]]"
   ]
  },
  {
   "cell_type": "code",
   "execution_count": 105,
   "id": "53d9cc0c",
   "metadata": {},
   "outputs": [],
   "source": [
    "a=b=c=10"
   ]
  },
  {
   "cell_type": "code",
   "execution_count": 108,
   "id": "c737d6d0",
   "metadata": {},
   "outputs": [],
   "source": [
    "a=2"
   ]
  },
  {
   "cell_type": "code",
   "execution_count": 112,
   "id": "75c197f2",
   "metadata": {},
   "outputs": [
    {
     "data": {
      "text/plain": [
       "array([0.2, 0.6, 1. ])"
      ]
     },
     "execution_count": 112,
     "metadata": {},
     "output_type": "execute_result"
    }
   ],
   "source": [
    "np.arange(0.2,1.1,0.4)"
   ]
  }
 ],
 "metadata": {
  "kernelspec": {
   "display_name": "Python 3 (ipykernel)",
   "language": "python",
   "name": "python3"
  },
  "language_info": {
   "codemirror_mode": {
    "name": "ipython",
    "version": 3
   },
   "file_extension": ".py",
   "mimetype": "text/x-python",
   "name": "python",
   "nbconvert_exporter": "python",
   "pygments_lexer": "ipython3",
   "version": "3.11.7"
  }
 },
 "nbformat": 4,
 "nbformat_minor": 5
}
